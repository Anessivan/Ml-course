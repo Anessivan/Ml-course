{
 "cells": [
  {
   "attachments": {},
   "cell_type": "markdown",
   "metadata": {},
   "source": [
    "В датасете стоит задача определения воздушных рейсов, которые задержат свой вылет, что выжно для устойчивости логистических цепочек и избежания опасных ситуаций. Данные содержат информацию про самолет(количество мест, срок службы, компания владелец), погоду(общее количество осадков, количество выпавшего снега, количество снега, который выпадет за день, максимальную температуру в течение дня, максимальная скорость ветра в течение дня), информацию об аэропорте(название, широта и долгота, среднее количество вылетов в месяц)"
   ]
  },
  {
   "attachments": {},
   "cell_type": "markdown",
   "metadata": {},
   "source": [
    "Чтение данных и приведение категориальных признаков к числовым значениям"
   ]
  },
  {
   "cell_type": "code",
   "execution_count": 1,
   "metadata": {},
   "outputs": [],
   "source": [
    "import pandas as pd\n",
    "import numpy as np\n",
    "import matplotlib.pyplot as plt\n",
    "import seaborn as sns\n",
    "\n",
    "from sklearn.model_selection import train_test_split, GridSearchCV, cross_val_predict, cross_val_score, cross_validate\n",
    "from imblearn.pipeline import Pipeline\n",
    "from sklearn.neighbors import KNeighborsClassifier\n",
    "from sklearn.preprocessing import StandardScaler, MinMaxScaler, MaxAbsScaler, Normalizer\n",
    "from sklearn.metrics import confusion_matrix, ConfusionMatrixDisplay, accuracy_score, classification_report\n",
    "from sklearn.linear_model import LogisticRegression\n",
    "from sklearn.neural_network import MLPClassifier\n",
    "\n",
    "from reservoirpy.nodes import Reservoir, Ridge\n",
    "\n"
   ]
  },
  {
   "cell_type": "code",
   "execution_count": 2,
   "metadata": {},
   "outputs": [
    {
     "data": {
      "text/html": [
       "<div>\n",
       "<style scoped>\n",
       "    .dataframe tbody tr th:only-of-type {\n",
       "        vertical-align: middle;\n",
       "    }\n",
       "\n",
       "    .dataframe tbody tr th {\n",
       "        vertical-align: top;\n",
       "    }\n",
       "\n",
       "    .dataframe thead th {\n",
       "        text-align: right;\n",
       "    }\n",
       "</style>\n",
       "<table border=\"1\" class=\"dataframe\">\n",
       "  <thead>\n",
       "    <tr style=\"text-align: right;\">\n",
       "      <th></th>\n",
       "      <th>MONTH</th>\n",
       "      <th>DAY_OF_WEEK</th>\n",
       "      <th>DEP_DEL15</th>\n",
       "      <th>DEP_TIME_BLK</th>\n",
       "      <th>DISTANCE_GROUP</th>\n",
       "      <th>SEGMENT_NUMBER</th>\n",
       "      <th>CONCURRENT_FLIGHTS</th>\n",
       "      <th>NUMBER_OF_SEATS</th>\n",
       "      <th>CARRIER_NAME</th>\n",
       "      <th>AIRPORT_FLIGHTS_MONTH</th>\n",
       "      <th>...</th>\n",
       "      <th>PLANE_AGE</th>\n",
       "      <th>DEPARTING_AIRPORT</th>\n",
       "      <th>LATITUDE</th>\n",
       "      <th>LONGITUDE</th>\n",
       "      <th>PREVIOUS_AIRPORT</th>\n",
       "      <th>PRCP</th>\n",
       "      <th>SNOW</th>\n",
       "      <th>SNWD</th>\n",
       "      <th>TMAX</th>\n",
       "      <th>AWND</th>\n",
       "    </tr>\n",
       "  </thead>\n",
       "  <tbody>\n",
       "    <tr>\n",
       "      <th>0</th>\n",
       "      <td>1</td>\n",
       "      <td>7</td>\n",
       "      <td>0</td>\n",
       "      <td>0800-0859</td>\n",
       "      <td>2</td>\n",
       "      <td>1</td>\n",
       "      <td>25</td>\n",
       "      <td>143</td>\n",
       "      <td>Southwest Airlines Co.</td>\n",
       "      <td>13056</td>\n",
       "      <td>...</td>\n",
       "      <td>8</td>\n",
       "      <td>McCarran International</td>\n",
       "      <td>36.080</td>\n",
       "      <td>-115.152</td>\n",
       "      <td>NONE</td>\n",
       "      <td>0.00</td>\n",
       "      <td>0.0</td>\n",
       "      <td>0.0</td>\n",
       "      <td>65.0</td>\n",
       "      <td>2.91</td>\n",
       "    </tr>\n",
       "    <tr>\n",
       "      <th>1</th>\n",
       "      <td>1</td>\n",
       "      <td>7</td>\n",
       "      <td>0</td>\n",
       "      <td>0700-0759</td>\n",
       "      <td>7</td>\n",
       "      <td>1</td>\n",
       "      <td>29</td>\n",
       "      <td>191</td>\n",
       "      <td>Delta Air Lines Inc.</td>\n",
       "      <td>13056</td>\n",
       "      <td>...</td>\n",
       "      <td>3</td>\n",
       "      <td>McCarran International</td>\n",
       "      <td>36.080</td>\n",
       "      <td>-115.152</td>\n",
       "      <td>NONE</td>\n",
       "      <td>0.00</td>\n",
       "      <td>0.0</td>\n",
       "      <td>0.0</td>\n",
       "      <td>65.0</td>\n",
       "      <td>2.91</td>\n",
       "    </tr>\n",
       "    <tr>\n",
       "      <th>2</th>\n",
       "      <td>1</td>\n",
       "      <td>7</td>\n",
       "      <td>0</td>\n",
       "      <td>0600-0659</td>\n",
       "      <td>7</td>\n",
       "      <td>1</td>\n",
       "      <td>27</td>\n",
       "      <td>199</td>\n",
       "      <td>Delta Air Lines Inc.</td>\n",
       "      <td>13056</td>\n",
       "      <td>...</td>\n",
       "      <td>18</td>\n",
       "      <td>McCarran International</td>\n",
       "      <td>36.080</td>\n",
       "      <td>-115.152</td>\n",
       "      <td>NONE</td>\n",
       "      <td>0.00</td>\n",
       "      <td>0.0</td>\n",
       "      <td>0.0</td>\n",
       "      <td>65.0</td>\n",
       "      <td>2.91</td>\n",
       "    </tr>\n",
       "    <tr>\n",
       "      <th>3</th>\n",
       "      <td>1</td>\n",
       "      <td>7</td>\n",
       "      <td>0</td>\n",
       "      <td>0600-0659</td>\n",
       "      <td>9</td>\n",
       "      <td>1</td>\n",
       "      <td>27</td>\n",
       "      <td>180</td>\n",
       "      <td>Delta Air Lines Inc.</td>\n",
       "      <td>13056</td>\n",
       "      <td>...</td>\n",
       "      <td>2</td>\n",
       "      <td>McCarran International</td>\n",
       "      <td>36.080</td>\n",
       "      <td>-115.152</td>\n",
       "      <td>NONE</td>\n",
       "      <td>0.00</td>\n",
       "      <td>0.0</td>\n",
       "      <td>0.0</td>\n",
       "      <td>65.0</td>\n",
       "      <td>2.91</td>\n",
       "    </tr>\n",
       "    <tr>\n",
       "      <th>4</th>\n",
       "      <td>1</td>\n",
       "      <td>7</td>\n",
       "      <td>0</td>\n",
       "      <td>0001-0559</td>\n",
       "      <td>7</td>\n",
       "      <td>1</td>\n",
       "      <td>10</td>\n",
       "      <td>182</td>\n",
       "      <td>Spirit Air Lines</td>\n",
       "      <td>13056</td>\n",
       "      <td>...</td>\n",
       "      <td>1</td>\n",
       "      <td>McCarran International</td>\n",
       "      <td>36.080</td>\n",
       "      <td>-115.152</td>\n",
       "      <td>NONE</td>\n",
       "      <td>0.00</td>\n",
       "      <td>0.0</td>\n",
       "      <td>0.0</td>\n",
       "      <td>65.0</td>\n",
       "      <td>2.91</td>\n",
       "    </tr>\n",
       "    <tr>\n",
       "      <th>...</th>\n",
       "      <td>...</td>\n",
       "      <td>...</td>\n",
       "      <td>...</td>\n",
       "      <td>...</td>\n",
       "      <td>...</td>\n",
       "      <td>...</td>\n",
       "      <td>...</td>\n",
       "      <td>...</td>\n",
       "      <td>...</td>\n",
       "      <td>...</td>\n",
       "      <td>...</td>\n",
       "      <td>...</td>\n",
       "      <td>...</td>\n",
       "      <td>...</td>\n",
       "      <td>...</td>\n",
       "      <td>...</td>\n",
       "      <td>...</td>\n",
       "      <td>...</td>\n",
       "      <td>...</td>\n",
       "      <td>...</td>\n",
       "      <td>...</td>\n",
       "    </tr>\n",
       "    <tr>\n",
       "      <th>6489057</th>\n",
       "      <td>12</td>\n",
       "      <td>7</td>\n",
       "      <td>0</td>\n",
       "      <td>2300-2359</td>\n",
       "      <td>1</td>\n",
       "      <td>11</td>\n",
       "      <td>3</td>\n",
       "      <td>123</td>\n",
       "      <td>Hawaiian Airlines Inc.</td>\n",
       "      <td>1318</td>\n",
       "      <td>...</td>\n",
       "      <td>18</td>\n",
       "      <td>Lihue Airport</td>\n",
       "      <td>21.979</td>\n",
       "      <td>-159.346</td>\n",
       "      <td>Honolulu International</td>\n",
       "      <td>0.06</td>\n",
       "      <td>0.0</td>\n",
       "      <td>0.0</td>\n",
       "      <td>84.0</td>\n",
       "      <td>15.21</td>\n",
       "    </tr>\n",
       "    <tr>\n",
       "      <th>6489058</th>\n",
       "      <td>12</td>\n",
       "      <td>7</td>\n",
       "      <td>0</td>\n",
       "      <td>1800-1859</td>\n",
       "      <td>1</td>\n",
       "      <td>11</td>\n",
       "      <td>2</td>\n",
       "      <td>123</td>\n",
       "      <td>Hawaiian Airlines Inc.</td>\n",
       "      <td>1318</td>\n",
       "      <td>...</td>\n",
       "      <td>16</td>\n",
       "      <td>Lihue Airport</td>\n",
       "      <td>21.979</td>\n",
       "      <td>-159.346</td>\n",
       "      <td>Honolulu International</td>\n",
       "      <td>0.06</td>\n",
       "      <td>0.0</td>\n",
       "      <td>0.0</td>\n",
       "      <td>84.0</td>\n",
       "      <td>15.21</td>\n",
       "    </tr>\n",
       "    <tr>\n",
       "      <th>6489059</th>\n",
       "      <td>12</td>\n",
       "      <td>7</td>\n",
       "      <td>0</td>\n",
       "      <td>2000-2059</td>\n",
       "      <td>1</td>\n",
       "      <td>11</td>\n",
       "      <td>2</td>\n",
       "      <td>123</td>\n",
       "      <td>Hawaiian Airlines Inc.</td>\n",
       "      <td>1318</td>\n",
       "      <td>...</td>\n",
       "      <td>18</td>\n",
       "      <td>Lihue Airport</td>\n",
       "      <td>21.979</td>\n",
       "      <td>-159.346</td>\n",
       "      <td>Honolulu International</td>\n",
       "      <td>0.06</td>\n",
       "      <td>0.0</td>\n",
       "      <td>0.0</td>\n",
       "      <td>84.0</td>\n",
       "      <td>15.21</td>\n",
       "    </tr>\n",
       "    <tr>\n",
       "      <th>6489060</th>\n",
       "      <td>12</td>\n",
       "      <td>7</td>\n",
       "      <td>0</td>\n",
       "      <td>2100-2159</td>\n",
       "      <td>1</td>\n",
       "      <td>12</td>\n",
       "      <td>3</td>\n",
       "      <td>123</td>\n",
       "      <td>Hawaiian Airlines Inc.</td>\n",
       "      <td>1318</td>\n",
       "      <td>...</td>\n",
       "      <td>18</td>\n",
       "      <td>Lihue Airport</td>\n",
       "      <td>21.979</td>\n",
       "      <td>-159.346</td>\n",
       "      <td>Honolulu International</td>\n",
       "      <td>0.06</td>\n",
       "      <td>0.0</td>\n",
       "      <td>0.0</td>\n",
       "      <td>84.0</td>\n",
       "      <td>15.21</td>\n",
       "    </tr>\n",
       "    <tr>\n",
       "      <th>6489061</th>\n",
       "      <td>12</td>\n",
       "      <td>7</td>\n",
       "      <td>1</td>\n",
       "      <td>2100-2159</td>\n",
       "      <td>1</td>\n",
       "      <td>12</td>\n",
       "      <td>3</td>\n",
       "      <td>123</td>\n",
       "      <td>Hawaiian Airlines Inc.</td>\n",
       "      <td>1318</td>\n",
       "      <td>...</td>\n",
       "      <td>15</td>\n",
       "      <td>Lihue Airport</td>\n",
       "      <td>21.979</td>\n",
       "      <td>-159.346</td>\n",
       "      <td>Honolulu International</td>\n",
       "      <td>0.06</td>\n",
       "      <td>0.0</td>\n",
       "      <td>0.0</td>\n",
       "      <td>84.0</td>\n",
       "      <td>15.21</td>\n",
       "    </tr>\n",
       "  </tbody>\n",
       "</table>\n",
       "<p>6489062 rows × 26 columns</p>\n",
       "</div>"
      ],
      "text/plain": [
       "         MONTH  DAY_OF_WEEK  DEP_DEL15 DEP_TIME_BLK  DISTANCE_GROUP  \\\n",
       "0            1            7          0    0800-0859               2   \n",
       "1            1            7          0    0700-0759               7   \n",
       "2            1            7          0    0600-0659               7   \n",
       "3            1            7          0    0600-0659               9   \n",
       "4            1            7          0    0001-0559               7   \n",
       "...        ...          ...        ...          ...             ...   \n",
       "6489057     12            7          0    2300-2359               1   \n",
       "6489058     12            7          0    1800-1859               1   \n",
       "6489059     12            7          0    2000-2059               1   \n",
       "6489060     12            7          0    2100-2159               1   \n",
       "6489061     12            7          1    2100-2159               1   \n",
       "\n",
       "         SEGMENT_NUMBER  CONCURRENT_FLIGHTS  NUMBER_OF_SEATS  \\\n",
       "0                     1                  25              143   \n",
       "1                     1                  29              191   \n",
       "2                     1                  27              199   \n",
       "3                     1                  27              180   \n",
       "4                     1                  10              182   \n",
       "...                 ...                 ...              ...   \n",
       "6489057              11                   3              123   \n",
       "6489058              11                   2              123   \n",
       "6489059              11                   2              123   \n",
       "6489060              12                   3              123   \n",
       "6489061              12                   3              123   \n",
       "\n",
       "                   CARRIER_NAME  AIRPORT_FLIGHTS_MONTH  ...  PLANE_AGE  \\\n",
       "0        Southwest Airlines Co.                  13056  ...          8   \n",
       "1          Delta Air Lines Inc.                  13056  ...          3   \n",
       "2          Delta Air Lines Inc.                  13056  ...         18   \n",
       "3          Delta Air Lines Inc.                  13056  ...          2   \n",
       "4              Spirit Air Lines                  13056  ...          1   \n",
       "...                         ...                    ...  ...        ...   \n",
       "6489057  Hawaiian Airlines Inc.                   1318  ...         18   \n",
       "6489058  Hawaiian Airlines Inc.                   1318  ...         16   \n",
       "6489059  Hawaiian Airlines Inc.                   1318  ...         18   \n",
       "6489060  Hawaiian Airlines Inc.                   1318  ...         18   \n",
       "6489061  Hawaiian Airlines Inc.                   1318  ...         15   \n",
       "\n",
       "              DEPARTING_AIRPORT  LATITUDE  LONGITUDE        PREVIOUS_AIRPORT  \\\n",
       "0        McCarran International    36.080   -115.152                    NONE   \n",
       "1        McCarran International    36.080   -115.152                    NONE   \n",
       "2        McCarran International    36.080   -115.152                    NONE   \n",
       "3        McCarran International    36.080   -115.152                    NONE   \n",
       "4        McCarran International    36.080   -115.152                    NONE   \n",
       "...                         ...       ...        ...                     ...   \n",
       "6489057           Lihue Airport    21.979   -159.346  Honolulu International   \n",
       "6489058           Lihue Airport    21.979   -159.346  Honolulu International   \n",
       "6489059           Lihue Airport    21.979   -159.346  Honolulu International   \n",
       "6489060           Lihue Airport    21.979   -159.346  Honolulu International   \n",
       "6489061           Lihue Airport    21.979   -159.346  Honolulu International   \n",
       "\n",
       "         PRCP  SNOW SNWD  TMAX   AWND  \n",
       "0        0.00   0.0  0.0  65.0   2.91  \n",
       "1        0.00   0.0  0.0  65.0   2.91  \n",
       "2        0.00   0.0  0.0  65.0   2.91  \n",
       "3        0.00   0.0  0.0  65.0   2.91  \n",
       "4        0.00   0.0  0.0  65.0   2.91  \n",
       "...       ...   ...  ...   ...    ...  \n",
       "6489057  0.06   0.0  0.0  84.0  15.21  \n",
       "6489058  0.06   0.0  0.0  84.0  15.21  \n",
       "6489059  0.06   0.0  0.0  84.0  15.21  \n",
       "6489060  0.06   0.0  0.0  84.0  15.21  \n",
       "6489061  0.06   0.0  0.0  84.0  15.21  \n",
       "\n",
       "[6489062 rows x 26 columns]"
      ]
     },
     "execution_count": 2,
     "metadata": {},
     "output_type": "execute_result"
    }
   ],
   "source": [
    "data = pd.read_csv('data/full_data_flightdelay.csv')\n",
    "data\n"
   ]
  },
  {
   "cell_type": "code",
   "execution_count": 3,
   "metadata": {},
   "outputs": [],
   "source": [
    "df = data.copy()"
   ]
  },
  {
   "cell_type": "code",
   "execution_count": 4,
   "metadata": {},
   "outputs": [],
   "source": [
    "carriers = df['CARRIER_NAME'].value_counts()\n",
    "carriers = carriers.index.values.tolist()\n",
    "df['CARRIER_NAME'] = df['CARRIER_NAME'].replace(carriers, range(len(carriers)))"
   ]
  },
  {
   "cell_type": "code",
   "execution_count": 5,
   "metadata": {},
   "outputs": [],
   "source": [
    "deps = df['DEP_TIME_BLK'].value_counts()\n",
    "deps = deps.index.values.tolist()\n",
    "df['DEP_TIME_BLK'] = df['DEP_TIME_BLK'].replace(deps, range(len(deps)))"
   ]
  },
  {
   "cell_type": "code",
   "execution_count": 6,
   "metadata": {},
   "outputs": [],
   "source": [
    "airport = df['DEPARTING_AIRPORT'].value_counts()\n",
    "airport = airport.index.values.tolist()\n",
    "df['DEPARTING_AIRPORT'] = df['DEPARTING_AIRPORT'].replace(airport, range(len(airport)))"
   ]
  },
  {
   "cell_type": "code",
   "execution_count": 7,
   "metadata": {},
   "outputs": [],
   "source": [
    "prev_airport = df['PREVIOUS_AIRPORT'].value_counts()\n",
    "prev_airport = prev_airport.index.values.tolist()\n",
    "df['PREVIOUS_AIRPORT'] = df['PREVIOUS_AIRPORT'].replace(prev_airport, range(len(prev_airport)))"
   ]
  },
  {
   "cell_type": "code",
   "execution_count": 8,
   "metadata": {},
   "outputs": [
    {
     "data": {
      "text/plain": [
       "MONTH                              int64\n",
       "DAY_OF_WEEK                        int64\n",
       "DEP_DEL15                          int64\n",
       "DEP_TIME_BLK                       int64\n",
       "DISTANCE_GROUP                     int64\n",
       "SEGMENT_NUMBER                     int64\n",
       "CONCURRENT_FLIGHTS                 int64\n",
       "NUMBER_OF_SEATS                    int64\n",
       "CARRIER_NAME                       int64\n",
       "AIRPORT_FLIGHTS_MONTH              int64\n",
       "AIRLINE_FLIGHTS_MONTH              int64\n",
       "AIRLINE_AIRPORT_FLIGHTS_MONTH      int64\n",
       "AVG_MONTHLY_PASS_AIRPORT           int64\n",
       "AVG_MONTHLY_PASS_AIRLINE           int64\n",
       "FLT_ATTENDANTS_PER_PASS          float64\n",
       "GROUND_SERV_PER_PASS             float64\n",
       "PLANE_AGE                          int64\n",
       "DEPARTING_AIRPORT                  int64\n",
       "LATITUDE                         float64\n",
       "LONGITUDE                        float64\n",
       "PREVIOUS_AIRPORT                   int64\n",
       "PRCP                             float64\n",
       "SNOW                             float64\n",
       "SNWD                             float64\n",
       "TMAX                             float64\n",
       "AWND                             float64\n",
       "dtype: object"
      ]
     },
     "execution_count": 8,
     "metadata": {},
     "output_type": "execute_result"
    }
   ],
   "source": [
    "df.dtypes"
   ]
  },
  {
   "cell_type": "code",
   "execution_count": 9,
   "metadata": {},
   "outputs": [],
   "source": [
    "tdf = df.copy()"
   ]
  },
  {
   "attachments": {},
   "cell_type": "markdown",
   "metadata": {},
   "source": [
    "Оценка корреляции данных "
   ]
  },
  {
   "cell_type": "code",
   "execution_count": 10,
   "metadata": {},
   "outputs": [
    {
     "data": {
      "image/png": "[encoded data removed]",
      "text/plain": [
       "<Figure size 720x720 with 2 Axes>"
      ]
     },
     "metadata": {
      "needs_background": "light"
     },
     "output_type": "display_data"
    }
   ],
   "source": [
    "fig, ax = plt.subplots(figsize=(10,10))\n",
    "\n",
    "corr_mat = df.corr()\n",
    "sns.heatmap(corr_mat, square=True, cmap='plasma', linewidths=.5, ax=ax, vmin = -1, vmax = 1)\n",
    "pass"
   ]
  },
  {
   "cell_type": "code",
   "execution_count": 11,
   "metadata": {},
   "outputs": [
    {
     "data": {
      "text/plain": [
       "MONTH                           -0.019049\n",
       "DAY_OF_WEEK                     -0.000199\n",
       "DEP_DEL15                        1.000000\n",
       "DEP_TIME_BLK                     0.109707\n",
       "DISTANCE_GROUP                   0.016289\n",
       "SEGMENT_NUMBER                   0.117528\n",
       "CONCURRENT_FLIGHTS               0.009028\n",
       "NUMBER_OF_SEATS                  0.011845\n",
       "CARRIER_NAME                     0.002282\n",
       "AIRPORT_FLIGHTS_MONTH            0.026740\n",
       "AIRLINE_FLIGHTS_MONTH            0.003528\n",
       "AIRLINE_AIRPORT_FLIGHTS_MONTH    0.013711\n",
       "AVG_MONTHLY_PASS_AIRPORT         0.024383\n",
       "AVG_MONTHLY_PASS_AIRLINE         0.001257\n",
       "FLT_ATTENDANTS_PER_PASS         -0.002114\n",
       "GROUND_SERV_PER_PASS            -0.016736\n",
       "PLANE_AGE                        0.006220\n",
       "DEPARTING_AIRPORT               -0.037350\n",
       "LATITUDE                         0.000490\n",
       "LONGITUDE                        0.027097\n",
       "PREVIOUS_AIRPORT                 0.001224\n",
       "PRCP                             0.080277\n",
       "SNOW                             0.050156\n",
       "SNWD                             0.026129\n",
       "TMAX                            -0.008936\n",
       "AWND                             0.050947\n",
       "Name: DEP_DEL15, dtype: float64"
      ]
     },
     "execution_count": 11,
     "metadata": {},
     "output_type": "execute_result"
    }
   ],
   "source": [
    "corr_mat['DEP_DEL15']"
   ]
  },
  {
   "attachments": {},
   "cell_type": "markdown",
   "metadata": {},
   "source": [
    "Избавляемся от данных, зависимость от которых мала"
   ]
  },
  {
   "cell_type": "code",
   "execution_count": 12,
   "metadata": {},
   "outputs": [
    {
     "data": {
      "text/html": [
       "<div>\n",
       "<style scoped>\n",
       "    .dataframe tbody tr th:only-of-type {\n",
       "        vertical-align: middle;\n",
       "    }\n",
       "\n",
       "    .dataframe tbody tr th {\n",
       "        vertical-align: top;\n",
       "    }\n",
       "\n",
       "    .dataframe thead th {\n",
       "        text-align: right;\n",
       "    }\n",
       "</style>\n",
       "<table border=\"1\" class=\"dataframe\">\n",
       "  <thead>\n",
       "    <tr style=\"text-align: right;\">\n",
       "      <th></th>\n",
       "      <th>MONTH</th>\n",
       "      <th>DEP_DEL15</th>\n",
       "      <th>DEP_TIME_BLK</th>\n",
       "      <th>DISTANCE_GROUP</th>\n",
       "      <th>SEGMENT_NUMBER</th>\n",
       "      <th>NUMBER_OF_SEATS</th>\n",
       "      <th>AIRPORT_FLIGHTS_MONTH</th>\n",
       "      <th>AIRLINE_AIRPORT_FLIGHTS_MONTH</th>\n",
       "      <th>AVG_MONTHLY_PASS_AIRPORT</th>\n",
       "      <th>GROUND_SERV_PER_PASS</th>\n",
       "      <th>DEPARTING_AIRPORT</th>\n",
       "      <th>LONGITUDE</th>\n",
       "      <th>PRCP</th>\n",
       "      <th>SNOW</th>\n",
       "      <th>SNWD</th>\n",
       "      <th>AWND</th>\n",
       "    </tr>\n",
       "  </thead>\n",
       "  <tbody>\n",
       "    <tr>\n",
       "      <th>0</th>\n",
       "      <td>1</td>\n",
       "      <td>0</td>\n",
       "      <td>0</td>\n",
       "      <td>2</td>\n",
       "      <td>1</td>\n",
       "      <td>143</td>\n",
       "      <td>13056</td>\n",
       "      <td>5873</td>\n",
       "      <td>1903352</td>\n",
       "      <td>0.000099</td>\n",
       "      <td>10</td>\n",
       "      <td>-115.152</td>\n",
       "      <td>0.00</td>\n",
       "      <td>0.0</td>\n",
       "      <td>0.0</td>\n",
       "      <td>2.91</td>\n",
       "    </tr>\n",
       "    <tr>\n",
       "      <th>1</th>\n",
       "      <td>1</td>\n",
       "      <td>0</td>\n",
       "      <td>1</td>\n",
       "      <td>7</td>\n",
       "      <td>1</td>\n",
       "      <td>191</td>\n",
       "      <td>13056</td>\n",
       "      <td>1174</td>\n",
       "      <td>1903352</td>\n",
       "      <td>0.000149</td>\n",
       "      <td>10</td>\n",
       "      <td>-115.152</td>\n",
       "      <td>0.00</td>\n",
       "      <td>0.0</td>\n",
       "      <td>0.0</td>\n",
       "      <td>2.91</td>\n",
       "    </tr>\n",
       "    <tr>\n",
       "      <th>2</th>\n",
       "      <td>1</td>\n",
       "      <td>0</td>\n",
       "      <td>2</td>\n",
       "      <td>7</td>\n",
       "      <td>1</td>\n",
       "      <td>199</td>\n",
       "      <td>13056</td>\n",
       "      <td>1174</td>\n",
       "      <td>1903352</td>\n",
       "      <td>0.000149</td>\n",
       "      <td>10</td>\n",
       "      <td>-115.152</td>\n",
       "      <td>0.00</td>\n",
       "      <td>0.0</td>\n",
       "      <td>0.0</td>\n",
       "      <td>2.91</td>\n",
       "    </tr>\n",
       "    <tr>\n",
       "      <th>3</th>\n",
       "      <td>1</td>\n",
       "      <td>0</td>\n",
       "      <td>2</td>\n",
       "      <td>9</td>\n",
       "      <td>1</td>\n",
       "      <td>180</td>\n",
       "      <td>13056</td>\n",
       "      <td>1174</td>\n",
       "      <td>1903352</td>\n",
       "      <td>0.000149</td>\n",
       "      <td>10</td>\n",
       "      <td>-115.152</td>\n",
       "      <td>0.00</td>\n",
       "      <td>0.0</td>\n",
       "      <td>0.0</td>\n",
       "      <td>2.91</td>\n",
       "    </tr>\n",
       "    <tr>\n",
       "      <th>4</th>\n",
       "      <td>1</td>\n",
       "      <td>0</td>\n",
       "      <td>17</td>\n",
       "      <td>7</td>\n",
       "      <td>1</td>\n",
       "      <td>182</td>\n",
       "      <td>13056</td>\n",
       "      <td>1257</td>\n",
       "      <td>1903352</td>\n",
       "      <td>0.000125</td>\n",
       "      <td>10</td>\n",
       "      <td>-115.152</td>\n",
       "      <td>0.00</td>\n",
       "      <td>0.0</td>\n",
       "      <td>0.0</td>\n",
       "      <td>2.91</td>\n",
       "    </tr>\n",
       "    <tr>\n",
       "      <th>...</th>\n",
       "      <td>...</td>\n",
       "      <td>...</td>\n",
       "      <td>...</td>\n",
       "      <td>...</td>\n",
       "      <td>...</td>\n",
       "      <td>...</td>\n",
       "      <td>...</td>\n",
       "      <td>...</td>\n",
       "      <td>...</td>\n",
       "      <td>...</td>\n",
       "      <td>...</td>\n",
       "      <td>...</td>\n",
       "      <td>...</td>\n",
       "      <td>...</td>\n",
       "      <td>...</td>\n",
       "      <td>...</td>\n",
       "    </tr>\n",
       "    <tr>\n",
       "      <th>6489057</th>\n",
       "      <td>12</td>\n",
       "      <td>0</td>\n",
       "      <td>18</td>\n",
       "      <td>1</td>\n",
       "      <td>11</td>\n",
       "      <td>123</td>\n",
       "      <td>1318</td>\n",
       "      <td>757</td>\n",
       "      <td>133573</td>\n",
       "      <td>0.000198</td>\n",
       "      <td>86</td>\n",
       "      <td>-159.346</td>\n",
       "      <td>0.06</td>\n",
       "      <td>0.0</td>\n",
       "      <td>0.0</td>\n",
       "      <td>15.21</td>\n",
       "    </tr>\n",
       "    <tr>\n",
       "      <th>6489058</th>\n",
       "      <td>12</td>\n",
       "      <td>0</td>\n",
       "      <td>10</td>\n",
       "      <td>1</td>\n",
       "      <td>11</td>\n",
       "      <td>123</td>\n",
       "      <td>1318</td>\n",
       "      <td>757</td>\n",
       "      <td>133573</td>\n",
       "      <td>0.000198</td>\n",
       "      <td>86</td>\n",
       "      <td>-159.346</td>\n",
       "      <td>0.06</td>\n",
       "      <td>0.0</td>\n",
       "      <td>0.0</td>\n",
       "      <td>15.21</td>\n",
       "    </tr>\n",
       "    <tr>\n",
       "      <th>6489059</th>\n",
       "      <td>12</td>\n",
       "      <td>0</td>\n",
       "      <td>14</td>\n",
       "      <td>1</td>\n",
       "      <td>11</td>\n",
       "      <td>123</td>\n",
       "      <td>1318</td>\n",
       "      <td>757</td>\n",
       "      <td>133573</td>\n",
       "      <td>0.000198</td>\n",
       "      <td>86</td>\n",
       "      <td>-159.346</td>\n",
       "      <td>0.06</td>\n",
       "      <td>0.0</td>\n",
       "      <td>0.0</td>\n",
       "      <td>15.21</td>\n",
       "    </tr>\n",
       "    <tr>\n",
       "      <th>6489060</th>\n",
       "      <td>12</td>\n",
       "      <td>0</td>\n",
       "      <td>15</td>\n",
       "      <td>1</td>\n",
       "      <td>12</td>\n",
       "      <td>123</td>\n",
       "      <td>1318</td>\n",
       "      <td>757</td>\n",
       "      <td>133573</td>\n",
       "      <td>0.000198</td>\n",
       "      <td>86</td>\n",
       "      <td>-159.346</td>\n",
       "      <td>0.06</td>\n",
       "      <td>0.0</td>\n",
       "      <td>0.0</td>\n",
       "      <td>15.21</td>\n",
       "    </tr>\n",
       "    <tr>\n",
       "      <th>6489061</th>\n",
       "      <td>12</td>\n",
       "      <td>1</td>\n",
       "      <td>15</td>\n",
       "      <td>1</td>\n",
       "      <td>12</td>\n",
       "      <td>123</td>\n",
       "      <td>1318</td>\n",
       "      <td>757</td>\n",
       "      <td>133573</td>\n",
       "      <td>0.000198</td>\n",
       "      <td>86</td>\n",
       "      <td>-159.346</td>\n",
       "      <td>0.06</td>\n",
       "      <td>0.0</td>\n",
       "      <td>0.0</td>\n",
       "      <td>15.21</td>\n",
       "    </tr>\n",
       "  </tbody>\n",
       "</table>\n",
       "<p>6489062 rows × 16 columns</p>\n",
       "</div>"
      ],
      "text/plain": [
       "         MONTH  DEP_DEL15  DEP_TIME_BLK  DISTANCE_GROUP  SEGMENT_NUMBER  \\\n",
       "0            1          0             0               2               1   \n",
       "1            1          0             1               7               1   \n",
       "2            1          0             2               7               1   \n",
       "3            1          0             2               9               1   \n",
       "4            1          0            17               7               1   \n",
       "...        ...        ...           ...             ...             ...   \n",
       "6489057     12          0            18               1              11   \n",
       "6489058     12          0            10               1              11   \n",
       "6489059     12          0            14               1              11   \n",
       "6489060     12          0            15               1              12   \n",
       "6489061     12          1            15               1              12   \n",
       "\n",
       "         NUMBER_OF_SEATS  AIRPORT_FLIGHTS_MONTH  \\\n",
       "0                    143                  13056   \n",
       "1                    191                  13056   \n",
       "2                    199                  13056   \n",
       "3                    180                  13056   \n",
       "4                    182                  13056   \n",
       "...                  ...                    ...   \n",
       "6489057              123                   1318   \n",
       "6489058              123                   1318   \n",
       "6489059              123                   1318   \n",
       "6489060              123                   1318   \n",
       "6489061              123                   1318   \n",
       "\n",
       "         AIRLINE_AIRPORT_FLIGHTS_MONTH  AVG_MONTHLY_PASS_AIRPORT  \\\n",
       "0                                 5873                   1903352   \n",
       "1                                 1174                   1903352   \n",
       "2                                 1174                   1903352   \n",
       "3                                 1174                   1903352   \n",
       "4                                 1257                   1903352   \n",
       "...                                ...                       ...   \n",
       "6489057                            757                    133573   \n",
       "6489058                            757                    133573   \n",
       "6489059                            757                    133573   \n",
       "6489060                            757                    133573   \n",
       "6489061                            757                    133573   \n",
       "\n",
       "         GROUND_SERV_PER_PASS  DEPARTING_AIRPORT  LONGITUDE  PRCP  SNOW  SNWD  \\\n",
       "0                    0.000099                 10   -115.152  0.00   0.0   0.0   \n",
       "1                    0.000149                 10   -115.152  0.00   0.0   0.0   \n",
       "2                    0.000149                 10   -115.152  0.00   0.0   0.0   \n",
       "3                    0.000149                 10   -115.152  0.00   0.0   0.0   \n",
       "4                    0.000125                 10   -115.152  0.00   0.0   0.0   \n",
       "...                       ...                ...        ...   ...   ...   ...   \n",
       "6489057              0.000198                 86   -159.346  0.06   0.0   0.0   \n",
       "6489058              0.000198                 86   -159.346  0.06   0.0   0.0   \n",
       "6489059              0.000198                 86   -159.346  0.06   0.0   0.0   \n",
       "6489060              0.000198                 86   -159.346  0.06   0.0   0.0   \n",
       "6489061              0.000198                 86   -159.346  0.06   0.0   0.0   \n",
       "\n",
       "          AWND  \n",
       "0         2.91  \n",
       "1         2.91  \n",
       "2         2.91  \n",
       "3         2.91  \n",
       "4         2.91  \n",
       "...        ...  \n",
       "6489057  15.21  \n",
       "6489058  15.21  \n",
       "6489059  15.21  \n",
       "6489060  15.21  \n",
       "6489061  15.21  \n",
       "\n",
       "[6489062 rows x 16 columns]"
      ]
     },
     "execution_count": 12,
     "metadata": {},
     "output_type": "execute_result"
    }
   ],
   "source": [
    "df = df.drop(['DAY_OF_WEEK', 'CARRIER_NAME', 'AIRLINE_FLIGHTS_MONTH', 'AVG_MONTHLY_PASS_AIRLINE', 'FLT_ATTENDANTS_PER_PASS', 'PLANE_AGE', 'LATITUDE', 'TMAX', 'CONCURRENT_FLIGHTS', 'PREVIOUS_AIRPORT'], axis = 1)\n",
    "df"
   ]
  },
  {
   "attachments": {},
   "cell_type": "markdown",
   "metadata": {},
   "source": [
    "Больше всего самолетов отменяют в июне(относительно общего числа полетов)"
   ]
  },
  {
   "cell_type": "code",
   "execution_count": 13,
   "metadata": {},
   "outputs": [],
   "source": [
    "# pd.crosstab(data.MONTH, data.DEP_DEL15, normalize='index' ).plot(kind='bar')\n",
    "# plt.title('Departure Delays in MONTH')\n",
    "# plt.xlabel('MONTH')\n",
    "# plt.ylabel('Departure Delays')"
   ]
  },
  {
   "cell_type": "code",
   "execution_count": 14,
   "metadata": {},
   "outputs": [],
   "source": [
    "# pd.crosstab(data.DISTANCE_GROUP, data.DEP_DEL15, normalize='index' ).plot(kind='bar')\n",
    "# plt.title('Departure Delays in DISTANCE_GROUP')\n",
    "# plt.xlabel('DISTANCE_GROUP')\n",
    "# plt.ylabel('Departure Delays')"
   ]
  },
  {
   "cell_type": "code",
   "execution_count": 15,
   "metadata": {},
   "outputs": [],
   "source": [
    "# pd.crosstab(data.SEGMENT_NUMBER, data.DEP_DEL15, normalize='index' ).plot(kind='bar')\n",
    "# plt.title('Departure Delays in SEGMENT_NUMBER')\n",
    "# plt.xlabel('SEGMENT_NUMBER')\n",
    "# plt.ylabel('Departure Delays')"
   ]
  },
  {
   "attachments": {},
   "cell_type": "markdown",
   "metadata": {},
   "source": [
    "Сбалансируем классы, для чего возьмем количество записей равное наименьшему классу для каждого из классов"
   ]
  },
  {
   "cell_type": "code",
   "execution_count": 16,
   "metadata": {},
   "outputs": [],
   "source": [
    "c2 = df[df['DEP_DEL15'] == 1]\n",
    "c1 = df[df['DEP_DEL15'] == 0]\n",
    "req = int(min(c2.size, c1.size) / 16)\n",
    "df_2 = c2.sample(req)\n",
    "df_1 = c1.sample(req)\n",
    "df = pd.concat([df_2,df_1],axis=0)"
   ]
  },
  {
   "cell_type": "code",
   "execution_count": 17,
   "metadata": {},
   "outputs": [],
   "source": [
    "X = df.drop('DEP_DEL15', axis = 1)\n",
    "y = df['DEP_DEL15']"
   ]
  },
  {
   "cell_type": "code",
   "execution_count": 18,
   "metadata": {},
   "outputs": [],
   "source": [
    "X_train, X_test, y_train, y_test = train_test_split(X,y, test_size=0.3, random_state=17)"
   ]
  },
  {
   "cell_type": "code",
   "execution_count": 19,
   "metadata": {},
   "outputs": [
    {
     "data": {
      "text/html": [
       "<div>\n",
       "<style scoped>\n",
       "    .dataframe tbody tr th:only-of-type {\n",
       "        vertical-align: middle;\n",
       "    }\n",
       "\n",
       "    .dataframe tbody tr th {\n",
       "        vertical-align: top;\n",
       "    }\n",
       "\n",
       "    .dataframe thead th {\n",
       "        text-align: right;\n",
       "    }\n",
       "</style>\n",
       "<table border=\"1\" class=\"dataframe\">\n",
       "  <thead>\n",
       "    <tr style=\"text-align: right;\">\n",
       "      <th></th>\n",
       "      <th>MONTH</th>\n",
       "      <th>DEP_TIME_BLK</th>\n",
       "      <th>DISTANCE_GROUP</th>\n",
       "      <th>SEGMENT_NUMBER</th>\n",
       "      <th>NUMBER_OF_SEATS</th>\n",
       "      <th>AIRPORT_FLIGHTS_MONTH</th>\n",
       "      <th>AIRLINE_AIRPORT_FLIGHTS_MONTH</th>\n",
       "      <th>AVG_MONTHLY_PASS_AIRPORT</th>\n",
       "      <th>GROUND_SERV_PER_PASS</th>\n",
       "      <th>DEPARTING_AIRPORT</th>\n",
       "      <th>LONGITUDE</th>\n",
       "      <th>PRCP</th>\n",
       "      <th>SNOW</th>\n",
       "      <th>SNWD</th>\n",
       "      <th>AWND</th>\n",
       "    </tr>\n",
       "  </thead>\n",
       "  <tbody>\n",
       "    <tr>\n",
       "      <th>1900933</th>\n",
       "      <td>4</td>\n",
       "      <td>15</td>\n",
       "      <td>3</td>\n",
       "      <td>5</td>\n",
       "      <td>110</td>\n",
       "      <td>32678</td>\n",
       "      <td>20473</td>\n",
       "      <td>4365661</td>\n",
       "      <td>0.000149</td>\n",
       "      <td>0</td>\n",
       "      <td>-84.427</td>\n",
       "      <td>0.00</td>\n",
       "      <td>0.0</td>\n",
       "      <td>0.0</td>\n",
       "      <td>5.14</td>\n",
       "    </tr>\n",
       "    <tr>\n",
       "      <th>6447745</th>\n",
       "      <td>12</td>\n",
       "      <td>8</td>\n",
       "      <td>3</td>\n",
       "      <td>5</td>\n",
       "      <td>76</td>\n",
       "      <td>27188</td>\n",
       "      <td>166</td>\n",
       "      <td>3103410</td>\n",
       "      <td>0.000094</td>\n",
       "      <td>1</td>\n",
       "      <td>-87.906</td>\n",
       "      <td>0.11</td>\n",
       "      <td>0.1</td>\n",
       "      <td>0.0</td>\n",
       "      <td>10.07</td>\n",
       "    </tr>\n",
       "    <tr>\n",
       "      <th>1419337</th>\n",
       "      <td>3</td>\n",
       "      <td>10</td>\n",
       "      <td>10</td>\n",
       "      <td>4</td>\n",
       "      <td>173</td>\n",
       "      <td>11562</td>\n",
       "      <td>5282</td>\n",
       "      <td>1708599</td>\n",
       "      <td>0.000229</td>\n",
       "      <td>17</td>\n",
       "      <td>-74.172</td>\n",
       "      <td>0.00</td>\n",
       "      <td>0.0</td>\n",
       "      <td>0.0</td>\n",
       "      <td>14.54</td>\n",
       "    </tr>\n",
       "    <tr>\n",
       "      <th>1704284</th>\n",
       "      <td>4</td>\n",
       "      <td>8</td>\n",
       "      <td>3</td>\n",
       "      <td>4</td>\n",
       "      <td>181</td>\n",
       "      <td>10917</td>\n",
       "      <td>5556</td>\n",
       "      <td>1960746</td>\n",
       "      <td>0.000175</td>\n",
       "      <td>14</td>\n",
       "      <td>-122.306</td>\n",
       "      <td>0.28</td>\n",
       "      <td>0.0</td>\n",
       "      <td>0.0</td>\n",
       "      <td>5.82</td>\n",
       "    </tr>\n",
       "    <tr>\n",
       "      <th>2811851</th>\n",
       "      <td>6</td>\n",
       "      <td>10</td>\n",
       "      <td>9</td>\n",
       "      <td>4</td>\n",
       "      <td>143</td>\n",
       "      <td>3979</td>\n",
       "      <td>997</td>\n",
       "      <td>344196</td>\n",
       "      <td>0.000099</td>\n",
       "      <td>45</td>\n",
       "      <td>-82.878</td>\n",
       "      <td>0.59</td>\n",
       "      <td>0.0</td>\n",
       "      <td>0.0</td>\n",
       "      <td>9.17</td>\n",
       "    </tr>\n",
       "    <tr>\n",
       "      <th>...</th>\n",
       "      <td>...</td>\n",
       "      <td>...</td>\n",
       "      <td>...</td>\n",
       "      <td>...</td>\n",
       "      <td>...</td>\n",
       "      <td>...</td>\n",
       "      <td>...</td>\n",
       "      <td>...</td>\n",
       "      <td>...</td>\n",
       "      <td>...</td>\n",
       "      <td>...</td>\n",
       "      <td>...</td>\n",
       "      <td>...</td>\n",
       "      <td>...</td>\n",
       "      <td>...</td>\n",
       "    </tr>\n",
       "    <tr>\n",
       "      <th>2371455</th>\n",
       "      <td>5</td>\n",
       "      <td>14</td>\n",
       "      <td>7</td>\n",
       "      <td>1</td>\n",
       "      <td>173</td>\n",
       "      <td>14978</td>\n",
       "      <td>5205</td>\n",
       "      <td>1690031</td>\n",
       "      <td>0.000229</td>\n",
       "      <td>6</td>\n",
       "      <td>-95.340</td>\n",
       "      <td>0.00</td>\n",
       "      <td>0.0</td>\n",
       "      <td>0.0</td>\n",
       "      <td>6.71</td>\n",
       "    </tr>\n",
       "    <tr>\n",
       "      <th>4707323</th>\n",
       "      <td>9</td>\n",
       "      <td>3</td>\n",
       "      <td>6</td>\n",
       "      <td>2</td>\n",
       "      <td>180</td>\n",
       "      <td>13331</td>\n",
       "      <td>4885</td>\n",
       "      <td>1486066</td>\n",
       "      <td>0.000149</td>\n",
       "      <td>11</td>\n",
       "      <td>-83.344</td>\n",
       "      <td>0.40</td>\n",
       "      <td>0.0</td>\n",
       "      <td>0.0</td>\n",
       "      <td>9.62</td>\n",
       "    </tr>\n",
       "    <tr>\n",
       "      <th>3261444</th>\n",
       "      <td>7</td>\n",
       "      <td>6</td>\n",
       "      <td>10</td>\n",
       "      <td>1</td>\n",
       "      <td>169</td>\n",
       "      <td>19667</td>\n",
       "      <td>2582</td>\n",
       "      <td>2780593</td>\n",
       "      <td>0.000229</td>\n",
       "      <td>5</td>\n",
       "      <td>-118.408</td>\n",
       "      <td>0.00</td>\n",
       "      <td>0.0</td>\n",
       "      <td>0.0</td>\n",
       "      <td>8.05</td>\n",
       "    </tr>\n",
       "    <tr>\n",
       "      <th>5355780</th>\n",
       "      <td>10</td>\n",
       "      <td>1</td>\n",
       "      <td>1</td>\n",
       "      <td>1</td>\n",
       "      <td>76</td>\n",
       "      <td>1539</td>\n",
       "      <td>223</td>\n",
       "      <td>154047</td>\n",
       "      <td>0.000091</td>\n",
       "      <td>67</td>\n",
       "      <td>-110.941</td>\n",
       "      <td>0.00</td>\n",
       "      <td>0.0</td>\n",
       "      <td>0.0</td>\n",
       "      <td>4.03</td>\n",
       "    </tr>\n",
       "    <tr>\n",
       "      <th>2607410</th>\n",
       "      <td>6</td>\n",
       "      <td>4</td>\n",
       "      <td>3</td>\n",
       "      <td>2</td>\n",
       "      <td>178</td>\n",
       "      <td>33994</td>\n",
       "      <td>845</td>\n",
       "      <td>4365661</td>\n",
       "      <td>0.000125</td>\n",
       "      <td>0</td>\n",
       "      <td>-84.427</td>\n",
       "      <td>3.90</td>\n",
       "      <td>0.0</td>\n",
       "      <td>0.0</td>\n",
       "      <td>6.71</td>\n",
       "    </tr>\n",
       "  </tbody>\n",
       "</table>\n",
       "<p>1718315 rows × 15 columns</p>\n",
       "</div>"
      ],
      "text/plain": [
       "         MONTH  DEP_TIME_BLK  DISTANCE_GROUP  SEGMENT_NUMBER  NUMBER_OF_SEATS  \\\n",
       "1900933      4            15               3               5              110   \n",
       "6447745     12             8               3               5               76   \n",
       "1419337      3            10              10               4              173   \n",
       "1704284      4             8               3               4              181   \n",
       "2811851      6            10               9               4              143   \n",
       "...        ...           ...             ...             ...              ...   \n",
       "2371455      5            14               7               1              173   \n",
       "4707323      9             3               6               2              180   \n",
       "3261444      7             6              10               1              169   \n",
       "5355780     10             1               1               1               76   \n",
       "2607410      6             4               3               2              178   \n",
       "\n",
       "         AIRPORT_FLIGHTS_MONTH  AIRLINE_AIRPORT_FLIGHTS_MONTH  \\\n",
       "1900933                  32678                          20473   \n",
       "6447745                  27188                            166   \n",
       "1419337                  11562                           5282   \n",
       "1704284                  10917                           5556   \n",
       "2811851                   3979                            997   \n",
       "...                        ...                            ...   \n",
       "2371455                  14978                           5205   \n",
       "4707323                  13331                           4885   \n",
       "3261444                  19667                           2582   \n",
       "5355780                   1539                            223   \n",
       "2607410                  33994                            845   \n",
       "\n",
       "         AVG_MONTHLY_PASS_AIRPORT  GROUND_SERV_PER_PASS  DEPARTING_AIRPORT  \\\n",
       "1900933                   4365661              0.000149                  0   \n",
       "6447745                   3103410              0.000094                  1   \n",
       "1419337                   1708599              0.000229                 17   \n",
       "1704284                   1960746              0.000175                 14   \n",
       "2811851                    344196              0.000099                 45   \n",
       "...                           ...                   ...                ...   \n",
       "2371455                   1690031              0.000229                  6   \n",
       "4707323                   1486066              0.000149                 11   \n",
       "3261444                   2780593              0.000229                  5   \n",
       "5355780                    154047              0.000091                 67   \n",
       "2607410                   4365661              0.000125                  0   \n",
       "\n",
       "         LONGITUDE  PRCP  SNOW  SNWD   AWND  \n",
       "1900933    -84.427  0.00   0.0   0.0   5.14  \n",
       "6447745    -87.906  0.11   0.1   0.0  10.07  \n",
       "1419337    -74.172  0.00   0.0   0.0  14.54  \n",
       "1704284   -122.306  0.28   0.0   0.0   5.82  \n",
       "2811851    -82.878  0.59   0.0   0.0   9.17  \n",
       "...            ...   ...   ...   ...    ...  \n",
       "2371455    -95.340  0.00   0.0   0.0   6.71  \n",
       "4707323    -83.344  0.40   0.0   0.0   9.62  \n",
       "3261444   -118.408  0.00   0.0   0.0   8.05  \n",
       "5355780   -110.941  0.00   0.0   0.0   4.03  \n",
       "2607410    -84.427  3.90   0.0   0.0   6.71  \n",
       "\n",
       "[1718315 rows x 15 columns]"
      ]
     },
     "execution_count": 19,
     "metadata": {},
     "output_type": "execute_result"
    }
   ],
   "source": [
    "X_train"
   ]
  },
  {
   "attachments": {},
   "cell_type": "markdown",
   "metadata": {},
   "source": [
    "Классификация с помощью метода k-nearest neighbors"
   ]
  },
  {
   "cell_type": "code",
   "execution_count": 20,
   "metadata": {},
   "outputs": [],
   "source": [
    "# neighbors = np.arange(1,7)\n",
    "# train = []\n",
    "# test = []\n",
    "# for i,k in enumerate(neighbors):\n",
    "#     knn = Pipeline([('scaler', StandardScaler()), ('classifier', KNeighborsClassifier(n_neighbors=k, n_jobs=-1))])\n",
    "#     knn.fit(X_train, y_train)\n",
    "#     train.append(knn.score(X_train, y_train))\n",
    "#     test.append(knn.score(X_test, y_test))\n",
    "#     print(f'{k} done')"
   ]
  },
  {
   "cell_type": "code",
   "execution_count": 21,
   "metadata": {},
   "outputs": [],
   "source": [
    "# plt.plot(np.arange(1,7), train)\n",
    "# plt.plot(np.arange(1,7), test)\n",
    "# max(test)"
   ]
  },
  {
   "cell_type": "code",
   "execution_count": 22,
   "metadata": {},
   "outputs": [
    {
     "name": "stdout",
     "output_type": "stream",
     "text": [
      "              precision    recall  f1-score   support\n",
      "\n",
      "   Not Delay       0.74      0.59      0.66    457557\n",
      "       Delay       0.50      0.65      0.56    278864\n",
      "\n",
      "    accuracy                           0.62    736421\n",
      "   macro avg       0.62      0.62      0.61    736421\n",
      "weighted avg       0.65      0.62      0.62    736421\n",
      "\n"
     ]
    }
   ],
   "source": [
    "knn = Pipeline([('scaler', StandardScaler()), ('classifier', KNeighborsClassifier(n_neighbors=6, n_jobs=-1))])\n",
    "knn.fit(X_train, y_train)\n",
    "predict = knn.predict(X_test)\n",
    "target_names = ['Not Delay', 'Delay']\n",
    "print(classification_report(predict, y_test, target_names=target_names))"
   ]
  },
  {
   "cell_type": "code",
   "execution_count": 23,
   "metadata": {},
   "outputs": [
    {
     "data": {
      "text/plain": [
       "<function matplotlib.pyplot.show(close=None, block=None)>"
      ]
     },
     "execution_count": 23,
     "metadata": {},
     "output_type": "execute_result"
    },
    {
     "data": {
      "image/png": "[encoded data removed]",
      "text/plain": [
       "<Figure size 720x720 with 2 Axes>"
      ]
     },
     "metadata": {
      "needs_background": "light"
     },
     "output_type": "display_data"
    }
   ],
   "source": [
    "fig, ax = plt.subplots(figsize=(10,10))\n",
    "ax.set_title(f'KNN (6 neighbours)')\n",
    "ConfusionMatrixDisplay.from_estimator(knn, X_test,y_test, ax=ax)  \n",
    "plt.show"
   ]
  },
  {
   "attachments": {},
   "cell_type": "markdown",
   "metadata": {},
   "source": [
    "Классификация с помощью логистической регрессии"
   ]
  },
  {
   "cell_type": "code",
   "execution_count": 24,
   "metadata": {},
   "outputs": [
    {
     "name": "stdout",
     "output_type": "stream",
     "text": [
      "              precision    recall  f1-score   support\n",
      "\n",
      "   Not Delay       0.08      0.51      0.13     56328\n",
      "       Delay       0.92      0.50      0.65    680093\n",
      "\n",
      "    accuracy                           0.50    736421\n",
      "   macro avg       0.50      0.50      0.39    736421\n",
      "weighted avg       0.86      0.50      0.61    736421\n",
      "\n"
     ]
    }
   ],
   "source": [
    "model = LogisticRegression(class_weight='balanced')\n",
    "model.fit(X_train, y_train)\n",
    "predict = model.predict(X_test)\n",
    "target_names = ['Not Delay', 'Delay']\n",
    "print(classification_report(predict, y_test, target_names=target_names))"
   ]
  },
  {
   "cell_type": "code",
   "execution_count": 25,
   "metadata": {},
   "outputs": [
    {
     "data": {
      "text/plain": [
       "<function matplotlib.pyplot.show(close=None, block=None)>"
      ]
     },
     "execution_count": 25,
     "metadata": {},
     "output_type": "execute_result"
    },
    {
     "data": {
      "image/png": "[encoded data removed]",
      "text/plain": [
       "<Figure size 720x720 with 2 Axes>"
      ]
     },
     "metadata": {
      "needs_background": "light"
     },
     "output_type": "display_data"
    }
   ],
   "source": [
    "fig, ax = plt.subplots(figsize=(10,10))\n",
    "ax.set_title(f'LogisticRegression')\n",
    "ConfusionMatrixDisplay.from_estimator(model, X_test, y_test, ax=ax)  \n",
    "plt.show"
   ]
  },
  {
   "attachments": {},
   "cell_type": "markdown",
   "metadata": {},
   "source": [
    "Классификация на полных данных, по наиболее каррелируемым признакам"
   ]
  },
  {
   "cell_type": "code",
   "execution_count": 26,
   "metadata": {},
   "outputs": [],
   "source": [
    "X = tdf[[\"TMAX\",\"PRCP\",\"SNOW\",\"CARRIER_NAME\",\"SNWD\",\"AWND\",\"CONCURRENT_FLIGHTS\",\"DEP_TIME_BLK\",\"DEPARTING_AIRPORT\",\"FLT_ATTENDANTS_PER_PASS\",\"NUMBER_OF_SEATS\"]] #\"TMAX\",\"CARRIER_NAME\",\"CONCURRENT_FLIGHTS\",\"FLT_ATTENDANTS_PER_PASS\"\n",
    "y = tdf[\"DEP_DEL15\"]\n",
    "X_train, X_test, y_train, y_test = train_test_split(X, y, test_size=0.2,random_state=21)"
   ]
  },
  {
   "cell_type": "code",
   "execution_count": 27,
   "metadata": {},
   "outputs": [
    {
     "name": "stderr",
     "output_type": "stream",
     "text": [
      "c:\\Users\\dimar\\AppData\\Local\\Programs\\Python\\Python310\\lib\\site-packages\\sklearn\\linear_model\\_logistic.py:458: ConvergenceWarning: lbfgs failed to converge (status=1):\n",
      "STOP: TOTAL NO. of ITERATIONS REACHED LIMIT.\n",
      "\n",
      "Increase the number of iterations (max_iter) or scale the data as shown in:\n",
      "    https://scikit-learn.org/stable/modules/preprocessing.html\n",
      "Please also refer to the documentation for alternative solver options:\n",
      "    https://scikit-learn.org/stable/modules/linear_model.html#logistic-regression\n",
      "  n_iter_i = _check_optimize_result(\n"
     ]
    },
    {
     "data": {
      "text/html": [
       "<style>#sk-container-id-1 {color: black;background-color: white;}#sk-container-id-1 pre{padding: 0;}#sk-container-id-1 div.sk-toggleable {background-color: white;}#sk-container-id-1 label.sk-toggleable__label {cursor: pointer;display: block;width: 100%;margin-bottom: 0;padding: 0.3em;box-sizing: border-box;text-align: center;}#sk-container-id-1 label.sk-toggleable__label-arrow:before {content: \"▸\";float: left;margin-right: 0.25em;color: #696969;}#sk-container-id-1 label.sk-toggleable__label-arrow:hover:before {color: black;}#sk-container-id-1 div.sk-estimator:hover label.sk-toggleable__label-arrow:before {color: black;}#sk-container-id-1 div.sk-toggleable__content {max-height: 0;max-width: 0;overflow: hidden;text-align: left;background-color: #f0f8ff;}#sk-container-id-1 div.sk-toggleable__content pre {margin: 0.2em;color: black;border-radius: 0.25em;background-color: #f0f8ff;}#sk-container-id-1 input.sk-toggleable__control:checked~div.sk-toggleable__content {max-height: 200px;max-width: 100%;overflow: auto;}#sk-container-id-1 input.sk-toggleable__control:checked~label.sk-toggleable__label-arrow:before {content: \"▾\";}#sk-container-id-1 div.sk-estimator input.sk-toggleable__control:checked~label.sk-toggleable__label {background-color: #d4ebff;}#sk-container-id-1 div.sk-label input.sk-toggleable__control:checked~label.sk-toggleable__label {background-color: #d4ebff;}#sk-container-id-1 input.sk-hidden--visually {border: 0;clip: rect(1px 1px 1px 1px);clip: rect(1px, 1px, 1px, 1px);height: 1px;margin: -1px;overflow: hidden;padding: 0;position: absolute;width: 1px;}#sk-container-id-1 div.sk-estimator {font-family: monospace;background-color: #f0f8ff;border: 1px dotted black;border-radius: 0.25em;box-sizing: border-box;margin-bottom: 0.5em;}#sk-container-id-1 div.sk-estimator:hover {background-color: #d4ebff;}#sk-container-id-1 div.sk-parallel-item::after {content: \"\";width: 100%;border-bottom: 1px solid gray;flex-grow: 1;}#sk-container-id-1 div.sk-label:hover label.sk-toggleable__label {background-color: #d4ebff;}#sk-container-id-1 div.sk-serial::before {content: \"\";position: absolute;border-left: 1px solid gray;box-sizing: border-box;top: 0;bottom: 0;left: 50%;z-index: 0;}#sk-container-id-1 div.sk-serial {display: flex;flex-direction: column;align-items: center;background-color: white;padding-right: 0.2em;padding-left: 0.2em;position: relative;}#sk-container-id-1 div.sk-item {position: relative;z-index: 1;}#sk-container-id-1 div.sk-parallel {display: flex;align-items: stretch;justify-content: center;background-color: white;position: relative;}#sk-container-id-1 div.sk-item::before, #sk-container-id-1 div.sk-parallel-item::before {content: \"\";position: absolute;border-left: 1px solid gray;box-sizing: border-box;top: 0;bottom: 0;left: 50%;z-index: -1;}#sk-container-id-1 div.sk-parallel-item {display: flex;flex-direction: column;z-index: 1;position: relative;background-color: white;}#sk-container-id-1 div.sk-parallel-item:first-child::after {align-self: flex-end;width: 50%;}#sk-container-id-1 div.sk-parallel-item:last-child::after {align-self: flex-start;width: 50%;}#sk-container-id-1 div.sk-parallel-item:only-child::after {width: 0;}#sk-container-id-1 div.sk-dashed-wrapped {border: 1px dashed gray;margin: 0 0.4em 0.5em 0.4em;box-sizing: border-box;padding-bottom: 0.4em;background-color: white;}#sk-container-id-1 div.sk-label label {font-family: monospace;font-weight: bold;display: inline-block;line-height: 1.2em;}#sk-container-id-1 div.sk-label-container {text-align: center;}#sk-container-id-1 div.sk-container {/* jupyter's `normalize.less` sets `[hidden] { display: none; }` but bootstrap.min.css set `[hidden] { display: none !important; }` so we also need the `!important` here to be able to override the default hidden behavior on the sphinx rendered scikit-learn.org. See: https://github.com/scikit-learn/scikit-learn/issues/21755 */display: inline-block !important;position: relative;}#sk-container-id-1 div.sk-text-repr-fallback {display: none;}</style><div id=\"sk-container-id-1\" class=\"sk-top-container\"><div class=\"sk-text-repr-fallback\"><pre>LogisticRegression()</pre><b>In a Jupyter environment, please rerun this cell to show the HTML representation or trust the notebook. <br />On GitHub, the HTML representation is unable to render, please try loading this page with nbviewer.org.</b></div><div class=\"sk-container\" hidden><div class=\"sk-item\"><div class=\"sk-estimator sk-toggleable\"><input class=\"sk-toggleable__control sk-hidden--visually\" id=\"sk-estimator-id-1\" type=\"checkbox\" checked><label for=\"sk-estimator-id-1\" class=\"sk-toggleable__label sk-toggleable__label-arrow\">LogisticRegression</label><div class=\"sk-toggleable__content\"><pre>LogisticRegression()</pre></div></div></div></div></div>"
      ],
      "text/plain": [
       "LogisticRegression()"
      ]
     },
     "execution_count": 27,
     "metadata": {},
     "output_type": "execute_result"
    }
   ],
   "source": [
    "model = LogisticRegression()\n",
    "model.fit(X_train, y_train)"
   ]
  },
  {
   "cell_type": "code",
   "execution_count": 28,
   "metadata": {},
   "outputs": [
    {
     "name": "stdout",
     "output_type": "stream",
     "text": [
      "              precision    recall  f1-score   support\n",
      "\n",
      "   Not Delay       1.00      0.81      0.90   1291694\n",
      "       Delay       0.01      0.45      0.02      6119\n",
      "\n",
      "    accuracy                           0.81   1297813\n",
      "   macro avg       0.50      0.63      0.46   1297813\n",
      "weighted avg       0.99      0.81      0.89   1297813\n",
      "\n"
     ]
    }
   ],
   "source": [
    "predict = model.predict(X_test)\n",
    "target_names = ['Not Delay', 'Delay']\n",
    "print(classification_report(predict, y_test, target_names=target_names))"
   ]
  },
  {
   "cell_type": "code",
   "execution_count": 29,
   "metadata": {},
   "outputs": [
    {
     "data": {
      "text/plain": [
       "<function matplotlib.pyplot.show(close=None, block=None)>"
      ]
     },
     "execution_count": 29,
     "metadata": {},
     "output_type": "execute_result"
    },
    {
     "data": {
      "image/png": "[encoded data removed]",
      "text/plain": [
       "<Figure size 720x720 with 2 Axes>"
      ]
     },
     "metadata": {
      "needs_background": "light"
     },
     "output_type": "display_data"
    }
   ],
   "source": [
    "fig, ax = plt.subplots(figsize=(10,10))\n",
    "ax.set_title(f'LogisticRegression')\n",
    "ConfusionMatrixDisplay.from_estimator(model, X_test, y_test, ax=ax)  \n",
    "plt.show"
   ]
  },
  {
   "cell_type": "code",
   "execution_count": 30,
   "metadata": {},
   "outputs": [
    {
     "name": "stderr",
     "output_type": "stream",
     "text": [
      "c:\\Users\\dimar\\AppData\\Local\\Programs\\Python\\Python310\\lib\\site-packages\\sklearn\\linear_model\\_logistic.py:458: ConvergenceWarning: lbfgs failed to converge (status=1):\n",
      "STOP: TOTAL NO. of ITERATIONS REACHED LIMIT.\n",
      "\n",
      "Increase the number of iterations (max_iter) or scale the data as shown in:\n",
      "    https://scikit-learn.org/stable/modules/preprocessing.html\n",
      "Please also refer to the documentation for alternative solver options:\n",
      "    https://scikit-learn.org/stable/modules/linear_model.html#logistic-regression\n",
      "  n_iter_i = _check_optimize_result(\n"
     ]
    },
    {
     "name": "stdout",
     "output_type": "stream",
     "text": [
      "              precision    recall  f1-score   support\n",
      "\n",
      "   Not Delay       0.59      0.85      0.70    725887\n",
      "       Delay       0.57      0.24      0.34    571926\n",
      "\n",
      "    accuracy                           0.58   1297813\n",
      "   macro avg       0.58      0.55      0.52   1297813\n",
      "weighted avg       0.58      0.58      0.54   1297813\n",
      "\n"
     ]
    }
   ],
   "source": [
    "model = LogisticRegression(class_weight='balanced')\n",
    "model.fit(X_train, y_train)\n",
    "predict = model.predict(X_test)\n",
    "target_names = ['Not Delay', 'Delay']\n",
    "print(classification_report(predict, y_test, target_names=target_names))"
   ]
  },
  {
   "cell_type": "code",
   "execution_count": 31,
   "metadata": {},
   "outputs": [
    {
     "data": {
      "text/plain": [
       "<function matplotlib.pyplot.show(close=None, block=None)>"
      ]
     },
     "execution_count": 31,
     "metadata": {},
     "output_type": "execute_result"
    },
    {
     "data": {
      "image/png": "[encoded data removed]",
      "text/plain": [
       "<Figure size 720x720 with 2 Axes>"
      ]
     },
     "metadata": {
      "needs_background": "light"
     },
     "output_type": "display_data"
    }
   ],
   "source": [
    "fig, ax = plt.subplots(figsize=(10,10))\n",
    "ax.set_title(f'LogisticRegression')\n",
    "ConfusionMatrixDisplay.from_estimator(model, X_test, y_test, ax=ax)  \n",
    "plt.show"
   ]
  },
  {
   "cell_type": "code",
   "execution_count": 32,
   "metadata": {},
   "outputs": [
    {
     "data": {
      "text/html": [
       "<style>#sk-container-id-2 {color: black;background-color: white;}#sk-container-id-2 pre{padding: 0;}#sk-container-id-2 div.sk-toggleable {background-color: white;}#sk-container-id-2 label.sk-toggleable__label {cursor: pointer;display: block;width: 100%;margin-bottom: 0;padding: 0.3em;box-sizing: border-box;text-align: center;}#sk-container-id-2 label.sk-toggleable__label-arrow:before {content: \"▸\";float: left;margin-right: 0.25em;color: #696969;}#sk-container-id-2 label.sk-toggleable__label-arrow:hover:before {color: black;}#sk-container-id-2 div.sk-estimator:hover label.sk-toggleable__label-arrow:before {color: black;}#sk-container-id-2 div.sk-toggleable__content {max-height: 0;max-width: 0;overflow: hidden;text-align: left;background-color: #f0f8ff;}#sk-container-id-2 div.sk-toggleable__content pre {margin: 0.2em;color: black;border-radius: 0.25em;background-color: #f0f8ff;}#sk-container-id-2 input.sk-toggleable__control:checked~div.sk-toggleable__content {max-height: 200px;max-width: 100%;overflow: auto;}#sk-container-id-2 input.sk-toggleable__control:checked~label.sk-toggleable__label-arrow:before {content: \"▾\";}#sk-container-id-2 div.sk-estimator input.sk-toggleable__control:checked~label.sk-toggleable__label {background-color: #d4ebff;}#sk-container-id-2 div.sk-label input.sk-toggleable__control:checked~label.sk-toggleable__label {background-color: #d4ebff;}#sk-container-id-2 input.sk-hidden--visually {border: 0;clip: rect(1px 1px 1px 1px);clip: rect(1px, 1px, 1px, 1px);height: 1px;margin: -1px;overflow: hidden;padding: 0;position: absolute;width: 1px;}#sk-container-id-2 div.sk-estimator {font-family: monospace;background-color: #f0f8ff;border: 1px dotted black;border-radius: 0.25em;box-sizing: border-box;margin-bottom: 0.5em;}#sk-container-id-2 div.sk-estimator:hover {background-color: #d4ebff;}#sk-container-id-2 div.sk-parallel-item::after {content: \"\";width: 100%;border-bottom: 1px solid gray;flex-grow: 1;}#sk-container-id-2 div.sk-label:hover label.sk-toggleable__label {background-color: #d4ebff;}#sk-container-id-2 div.sk-serial::before {content: \"\";position: absolute;border-left: 1px solid gray;box-sizing: border-box;top: 0;bottom: 0;left: 50%;z-index: 0;}#sk-container-id-2 div.sk-serial {display: flex;flex-direction: column;align-items: center;background-color: white;padding-right: 0.2em;padding-left: 0.2em;position: relative;}#sk-container-id-2 div.sk-item {position: relative;z-index: 1;}#sk-container-id-2 div.sk-parallel {display: flex;align-items: stretch;justify-content: center;background-color: white;position: relative;}#sk-container-id-2 div.sk-item::before, #sk-container-id-2 div.sk-parallel-item::before {content: \"\";position: absolute;border-left: 1px solid gray;box-sizing: border-box;top: 0;bottom: 0;left: 50%;z-index: -1;}#sk-container-id-2 div.sk-parallel-item {display: flex;flex-direction: column;z-index: 1;position: relative;background-color: white;}#sk-container-id-2 div.sk-parallel-item:first-child::after {align-self: flex-end;width: 50%;}#sk-container-id-2 div.sk-parallel-item:last-child::after {align-self: flex-start;width: 50%;}#sk-container-id-2 div.sk-parallel-item:only-child::after {width: 0;}#sk-container-id-2 div.sk-dashed-wrapped {border: 1px dashed gray;margin: 0 0.4em 0.5em 0.4em;box-sizing: border-box;padding-bottom: 0.4em;background-color: white;}#sk-container-id-2 div.sk-label label {font-family: monospace;font-weight: bold;display: inline-block;line-height: 1.2em;}#sk-container-id-2 div.sk-label-container {text-align: center;}#sk-container-id-2 div.sk-container {/* jupyter's `normalize.less` sets `[hidden] { display: none; }` but bootstrap.min.css set `[hidden] { display: none !important; }` so we also need the `!important` here to be able to override the default hidden behavior on the sphinx rendered scikit-learn.org. See: https://github.com/scikit-learn/scikit-learn/issues/21755 */display: inline-block !important;position: relative;}#sk-container-id-2 div.sk-text-repr-fallback {display: none;}</style><div id=\"sk-container-id-2\" class=\"sk-top-container\"><div class=\"sk-text-repr-fallback\"><pre>Pipeline(steps=[(&#x27;scaler&#x27;, StandardScaler()),\n",
       "                (&#x27;classifier&#x27;, KNeighborsClassifier(n_jobs=-1, n_neighbors=6))])</pre><b>In a Jupyter environment, please rerun this cell to show the HTML representation or trust the notebook. <br />On GitHub, the HTML representation is unable to render, please try loading this page with nbviewer.org.</b></div><div class=\"sk-container\" hidden><div class=\"sk-item sk-dashed-wrapped\"><div class=\"sk-label-container\"><div class=\"sk-label sk-toggleable\"><input class=\"sk-toggleable__control sk-hidden--visually\" id=\"sk-estimator-id-2\" type=\"checkbox\" ><label for=\"sk-estimator-id-2\" class=\"sk-toggleable__label sk-toggleable__label-arrow\">Pipeline</label><div class=\"sk-toggleable__content\"><pre>Pipeline(steps=[(&#x27;scaler&#x27;, StandardScaler()),\n",
       "                (&#x27;classifier&#x27;, KNeighborsClassifier(n_jobs=-1, n_neighbors=6))])</pre></div></div></div><div class=\"sk-serial\"><div class=\"sk-item\"><div class=\"sk-estimator sk-toggleable\"><input class=\"sk-toggleable__control sk-hidden--visually\" id=\"sk-estimator-id-3\" type=\"checkbox\" ><label for=\"sk-estimator-id-3\" class=\"sk-toggleable__label sk-toggleable__label-arrow\">StandardScaler</label><div class=\"sk-toggleable__content\"><pre>StandardScaler()</pre></div></div></div><div class=\"sk-item\"><div class=\"sk-estimator sk-toggleable\"><input class=\"sk-toggleable__control sk-hidden--visually\" id=\"sk-estimator-id-4\" type=\"checkbox\" ><label for=\"sk-estimator-id-4\" class=\"sk-toggleable__label sk-toggleable__label-arrow\">KNeighborsClassifier</label><div class=\"sk-toggleable__content\"><pre>KNeighborsClassifier(n_jobs=-1, n_neighbors=6)</pre></div></div></div></div></div></div></div>"
      ],
      "text/plain": [
       "Pipeline(steps=[('scaler', StandardScaler()),\n",
       "                ('classifier', KNeighborsClassifier(n_jobs=-1, n_neighbors=6))])"
      ]
     },
     "execution_count": 32,
     "metadata": {},
     "output_type": "execute_result"
    }
   ],
   "source": [
    "knn = Pipeline([('scaler', StandardScaler()), ('classifier', KNeighborsClassifier(n_neighbors=6, n_jobs=-1))])\n",
    "knn.fit(X_train, y_train)"
   ]
  },
  {
   "cell_type": "code",
   "execution_count": 33,
   "metadata": {},
   "outputs": [
    {
     "name": "stdout",
     "output_type": "stream",
     "text": [
      "              precision    recall  f1-score   support\n",
      "\n",
      "   Not Delay       0.97      0.83      0.89   1232490\n",
      "       Delay       0.14      0.52      0.22     65323\n",
      "\n",
      "    accuracy                           0.81   1297813\n",
      "   macro avg       0.55      0.67      0.56   1297813\n",
      "weighted avg       0.93      0.81      0.86   1297813\n",
      "\n"
     ]
    }
   ],
   "source": [
    "predict = knn.predict(X_test)\n",
    "target_names = ['Not Delay', 'Delay']\n",
    "print(classification_report(predict, y_test, target_names=target_names))"
   ]
  },
  {
   "cell_type": "code",
   "execution_count": 34,
   "metadata": {},
   "outputs": [
    {
     "data": {
      "text/plain": [
       "<function matplotlib.pyplot.show(close=None, block=None)>"
      ]
     },
     "execution_count": 34,
     "metadata": {},
     "output_type": "execute_result"
    },
    {
     "data": {
      "image/png": "[encoded data removed]",
      "text/plain": [
       "<Figure size 720x720 with 2 Axes>"
      ]
     },
     "metadata": {
      "needs_background": "light"
     },
     "output_type": "display_data"
    }
   ],
   "source": [
    "fig, ax = plt.subplots(figsize=(10,10))\n",
    "ax.set_title(f'KNN(6 neighbours)')\n",
    "ConfusionMatrixDisplay.from_estimator(knn, X_test, y_test, ax=ax)  \n",
    "plt.show"
   ]
  },
  {
   "attachments": {},
   "cell_type": "markdown",
   "metadata": {},
   "source": [
    "Стандартизация и нормализация данных:"
   ]
  },
  {
   "attachments": {},
   "cell_type": "markdown",
   "metadata": {},
   "source": [
    "Избавляемся от выбросов"
   ]
  },
  {
   "cell_type": "code",
   "execution_count": 35,
   "metadata": {},
   "outputs": [],
   "source": [
    "tdf_f = tdf.drop(['DAY_OF_WEEK', 'CARRIER_NAME', 'AIRLINE_FLIGHTS_MONTH', 'AVG_MONTHLY_PASS_AIRLINE', 'FLT_ATTENDANTS_PER_PASS', 'PLANE_AGE', 'LATITUDE', 'TMAX', 'CONCURRENT_FLIGHTS', 'PREVIOUS_AIRPORT'], axis = 1)"
   ]
  },
  {
   "cell_type": "code",
   "execution_count": 36,
   "metadata": {},
   "outputs": [],
   "source": [
    "ncols = np.clip(len(tdf_f.columns), 0, 16)\n",
    "cols = tdf_f.columns[:ncols]\n",
    "drop = (tdf_f[cols[0]] < tdf_f[cols[0]].quantile(0.005)) | (tdf_f[cols[0]] > tdf_f[cols[0]].quantile(0.995))\n",
    "for i in range(1, ncols):\n",
    "    drop = drop | (tdf_f[cols[i]] < tdf_f[cols[i]].quantile(0.005)) | (tdf_f[cols[i]] > tdf_f[cols[i]].quantile(0.995))\n",
    "rtd = tdf_f[drop].index\n",
    "df_clear = tdf_f.drop(index = rtd)"
   ]
  },
  {
   "cell_type": "code",
   "execution_count": 37,
   "metadata": {},
   "outputs": [],
   "source": [
    "c2 = df_clear[df_clear['DEP_DEL15'] == 1]\n",
    "c1 = df_clear[df_clear['DEP_DEL15'] == 0]\n",
    "req = int(min(c2.size, c1.size) / 16)\n",
    "df_2 = c2.sample(req)\n",
    "df_1 = c1.sample(req)\n",
    "df_clear = pd.concat([df_2,df_1],axis=0)"
   ]
  },
  {
   "attachments": {},
   "cell_type": "markdown",
   "metadata": {},
   "source": [
    "Нормализация"
   ]
  },
  {
   "cell_type": "code",
   "execution_count": 38,
   "metadata": {},
   "outputs": [],
   "source": [
    "X = df_clear.drop('DEP_DEL15', axis = 1)\n",
    "y = df_clear['DEP_DEL15']\n",
    "transformer = Normalizer().fit(X)\n",
    "X_normalize = transformer.transform(X)\n",
    "X_train, X_test, y_train, y_test = train_test_split(X_normalize,y, test_size=0.3, random_state=17)"
   ]
  },
  {
   "cell_type": "code",
   "execution_count": 39,
   "metadata": {},
   "outputs": [
    {
     "name": "stdout",
     "output_type": "stream",
     "text": [
      "1 done\n",
      "2 done\n",
      "3 done\n",
      "4 done\n",
      "5 done\n",
      "6 done\n"
     ]
    }
   ],
   "source": [
    "neighbors = np.arange(1,7)\n",
    "train = []\n",
    "test = []\n",
    "for i,k in enumerate(neighbors):\n",
    "    knn = KNeighborsClassifier(n_neighbors=k, n_jobs=-1)\n",
    "    knn.fit(X_train, y_train)\n",
    "    train.append(knn.score(X_train, y_train))\n",
    "    test.append(knn.score(X_test, y_test))\n",
    "    print(f'{k} done')"
   ]
  },
  {
   "cell_type": "code",
   "execution_count": 40,
   "metadata": {},
   "outputs": [
    {
     "data": {
      "text/plain": [
       "0.6089517793365596"
      ]
     },
     "execution_count": 40,
     "metadata": {},
     "output_type": "execute_result"
    },
    {
     "data": {
      "image/png": "[encoded data removed]",
      "text/plain": [
       "<Figure size 432x288 with 1 Axes>"
      ]
     },
     "metadata": {
      "needs_background": "light"
     },
     "output_type": "display_data"
    }
   ],
   "source": [
    "plt.plot(np.arange(1,7), train)\n",
    "plt.plot(np.arange(1,7), test)\n",
    "max(test)"
   ]
  },
  {
   "cell_type": "code",
   "execution_count": 41,
   "metadata": {},
   "outputs": [
    {
     "name": "stdout",
     "output_type": "stream",
     "text": [
      "              precision    recall  f1-score   support\n",
      "\n",
      "   Not Delay       0.73      0.59      0.65    428853\n",
      "       Delay       0.49      0.64      0.55    263568\n",
      "\n",
      "    accuracy                           0.61    692421\n",
      "   macro avg       0.61      0.61      0.60    692421\n",
      "weighted avg       0.63      0.61      0.61    692421\n",
      "\n"
     ]
    }
   ],
   "source": [
    "knn = KNeighborsClassifier(n_neighbors=6, n_jobs=-1)\n",
    "knn.fit(X_train, y_train)\n",
    "predict = knn.predict(X_test)\n",
    "target_names = ['Not Delay', 'Delay']\n",
    "print(classification_report(predict, y_test, target_names=target_names))"
   ]
  },
  {
   "cell_type": "code",
   "execution_count": 42,
   "metadata": {},
   "outputs": [
    {
     "data": {
      "text/plain": [
       "<function matplotlib.pyplot.show(close=None, block=None)>"
      ]
     },
     "execution_count": 42,
     "metadata": {},
     "output_type": "execute_result"
    },
    {
     "data": {
      "image/png": "[encoded data removed]",
      "text/plain": [
       "<Figure size 720x720 with 2 Axes>"
      ]
     },
     "metadata": {
      "needs_background": "light"
     },
     "output_type": "display_data"
    }
   ],
   "source": [
    "fig, ax = plt.subplots(figsize=(10,10))\n",
    "ax.set_title(f'KNN (6 neighbours)')\n",
    "ConfusionMatrixDisplay.from_estimator(knn, X_test,y_test, ax=ax)  \n",
    "plt.show"
   ]
  },
  {
   "cell_type": "code",
   "execution_count": 43,
   "metadata": {},
   "outputs": [
    {
     "name": "stdout",
     "output_type": "stream",
     "text": [
      "              precision    recall  f1-score   support\n",
      "\n",
      "   Not Delay       0.55      0.51      0.53    375575\n",
      "       Delay       0.47      0.51      0.49    316846\n",
      "\n",
      "    accuracy                           0.51    692421\n",
      "   macro avg       0.51      0.51      0.51    692421\n",
      "weighted avg       0.51      0.51      0.51    692421\n",
      "\n"
     ]
    }
   ],
   "source": [
    "model = LogisticRegression(class_weight='balanced', solver='newton-cholesky')\n",
    "model.fit(X_train, y_train)\n",
    "predict = model.predict(X_test)\n",
    "target_names = ['Not Delay', 'Delay']\n",
    "print(classification_report(predict, y_test, target_names=target_names))"
   ]
  },
  {
   "cell_type": "code",
   "execution_count": 44,
   "metadata": {},
   "outputs": [
    {
     "data": {
      "text/plain": [
       "<function matplotlib.pyplot.show(close=None, block=None)>"
      ]
     },
     "execution_count": 44,
     "metadata": {},
     "output_type": "execute_result"
    },
    {
     "data": {
      "image/png": "[encoded data removed]",
      "text/plain": [
       "<Figure size 720x720 with 2 Axes>"
      ]
     },
     "metadata": {
      "needs_background": "light"
     },
     "output_type": "display_data"
    }
   ],
   "source": [
    "fig, ax = plt.subplots(figsize=(10,10))\n",
    "ax.set_title(f'LogisticRegression')\n",
    "ConfusionMatrixDisplay.from_estimator(model, X_test, y_test, ax=ax)  \n",
    "plt.show"
   ]
  },
  {
   "attachments": {},
   "cell_type": "markdown",
   "metadata": {},
   "source": [
    "Стандартизация данных"
   ]
  },
  {
   "cell_type": "code",
   "execution_count": 45,
   "metadata": {},
   "outputs": [],
   "source": [
    "transformer = StandardScaler().fit(X)\n",
    "X_Sscaler = transformer.transform(X)\n",
    "X_train, X_test, y_train, y_test = train_test_split(X_Sscaler,y, test_size=0.3, random_state=17)"
   ]
  },
  {
   "cell_type": "code",
   "execution_count": 46,
   "metadata": {},
   "outputs": [
    {
     "name": "stdout",
     "output_type": "stream",
     "text": [
      "1 done\n",
      "2 done\n",
      "3 done\n",
      "4 done\n",
      "5 done\n",
      "6 done\n"
     ]
    }
   ],
   "source": [
    "neighbors = np.arange(1,7)\n",
    "train = []\n",
    "test = []\n",
    "for i,k in enumerate(neighbors):\n",
    "    knn = KNeighborsClassifier(n_neighbors=k, n_jobs=-1)\n",
    "    knn.fit(X_train, y_train)\n",
    "    train.append(knn.score(X_train, y_train))\n",
    "    test.append(knn.score(X_test, y_test))\n",
    "    print(f'{k} done')"
   ]
  },
  {
   "cell_type": "code",
   "execution_count": 47,
   "metadata": {},
   "outputs": [
    {
     "data": {
      "text/plain": [
       "0.6168544859269144"
      ]
     },
     "execution_count": 47,
     "metadata": {},
     "output_type": "execute_result"
    },
    {
     "data": {
      "image/png": "[encoded data removed]",
      "text/plain": [
       "<Figure size 432x288 with 1 Axes>"
      ]
     },
     "metadata": {
      "needs_background": "light"
     },
     "output_type": "display_data"
    }
   ],
   "source": [
    "plt.plot(np.arange(1,7), train)\n",
    "plt.plot(np.arange(1,7), test)\n",
    "max(test)"
   ]
  },
  {
   "cell_type": "code",
   "execution_count": 48,
   "metadata": {},
   "outputs": [
    {
     "name": "stdout",
     "output_type": "stream",
     "text": [
      "              precision    recall  f1-score   support\n",
      "\n",
      "   Not Delay       0.74      0.59      0.66    429254\n",
      "       Delay       0.50      0.65      0.56    263167\n",
      "\n",
      "    accuracy                           0.62    692421\n",
      "   macro avg       0.62      0.62      0.61    692421\n",
      "weighted avg       0.64      0.62      0.62    692421\n",
      "\n"
     ]
    }
   ],
   "source": [
    "knn = KNeighborsClassifier(n_neighbors=6, n_jobs=-1)\n",
    "knn.fit(X_train, y_train)\n",
    "predict = knn.predict(X_test)\n",
    "target_names = ['Not Delay', 'Delay']\n",
    "print(classification_report(predict, y_test, target_names=target_names))"
   ]
  },
  {
   "cell_type": "code",
   "execution_count": 49,
   "metadata": {},
   "outputs": [
    {
     "data": {
      "text/plain": [
       "<function matplotlib.pyplot.show(close=None, block=None)>"
      ]
     },
     "execution_count": 49,
     "metadata": {},
     "output_type": "execute_result"
    },
    {
     "data": {
      "image/png": "[encoded data removed]",
      "text/plain": [
       "<Figure size 720x720 with 2 Axes>"
      ]
     },
     "metadata": {
      "needs_background": "light"
     },
     "output_type": "display_data"
    }
   ],
   "source": [
    "fig, ax = plt.subplots(figsize=(10,10))\n",
    "ax.set_title(f'KNN (6 neighbours)')\n",
    "ConfusionMatrixDisplay.from_estimator(knn, X_test,y_test, ax=ax)  \n",
    "plt.show"
   ]
  },
  {
   "cell_type": "code",
   "execution_count": 50,
   "metadata": {},
   "outputs": [
    {
     "name": "stdout",
     "output_type": "stream",
     "text": [
      "              precision    recall  f1-score   support\n",
      "\n",
      "   Not Delay       0.61      0.59      0.60    359399\n",
      "       Delay       0.57      0.60      0.58    333022\n",
      "\n",
      "    accuracy                           0.59    692421\n",
      "   macro avg       0.59      0.59      0.59    692421\n",
      "weighted avg       0.59      0.59      0.59    692421\n",
      "\n"
     ]
    }
   ],
   "source": [
    "model = LogisticRegression(class_weight='balanced', solver= 'newton-cholesky')\n",
    "model.fit(X_train, y_train)\n",
    "predict = model.predict(X_test)\n",
    "target_names = ['Not Delay', 'Delay']\n",
    "print(classification_report(predict, y_test, target_names=target_names))"
   ]
  },
  {
   "cell_type": "code",
   "execution_count": 51,
   "metadata": {},
   "outputs": [
    {
     "data": {
      "text/plain": [
       "<function matplotlib.pyplot.show(close=None, block=None)>"
      ]
     },
     "execution_count": 51,
     "metadata": {},
     "output_type": "execute_result"
    },
    {
     "data": {
      "image/png": "[encoded data removed]",
      "text/plain": [
       "<Figure size 720x720 with 2 Axes>"
      ]
     },
     "metadata": {
      "needs_background": "light"
     },
     "output_type": "display_data"
    }
   ],
   "source": [
    "fig, ax = plt.subplots(figsize=(10,10))\n",
    "ax.set_title(f'LogisticRegression')\n",
    "ConfusionMatrixDisplay.from_estimator(model, X_test, y_test, ax=ax)  \n",
    "plt.show"
   ]
  },
  {
   "attachments": {},
   "cell_type": "markdown",
   "metadata": {},
   "source": [
    "MinMaxScaler"
   ]
  },
  {
   "cell_type": "code",
   "execution_count": 52,
   "metadata": {},
   "outputs": [],
   "source": [
    "transformer = MinMaxScaler().fit(X)\n",
    "X_MMscaler = transformer.transform(X)\n",
    "X_train, X_test, y_train, y_test = train_test_split(X_MMscaler,y, test_size=0.3, random_state=17)"
   ]
  },
  {
   "cell_type": "code",
   "execution_count": 53,
   "metadata": {},
   "outputs": [
    {
     "name": "stdout",
     "output_type": "stream",
     "text": [
      "              precision    recall  f1-score   support\n",
      "\n",
      "   Not Delay       0.61      0.59      0.60    359380\n",
      "       Delay       0.57      0.60      0.58    333041\n",
      "\n",
      "    accuracy                           0.59    692421\n",
      "   macro avg       0.59      0.59      0.59    692421\n",
      "weighted avg       0.59      0.59      0.59    692421\n",
      "\n"
     ]
    }
   ],
   "source": [
    "model = LogisticRegression(class_weight='balanced')\n",
    "model.fit(X_train, y_train)\n",
    "predict = model.predict(X_test)\n",
    "target_names = ['Not Delay', 'Delay']\n",
    "print(classification_report(predict, y_test, target_names=target_names))"
   ]
  },
  {
   "cell_type": "code",
   "execution_count": 54,
   "metadata": {},
   "outputs": [
    {
     "data": {
      "text/plain": [
       "<function matplotlib.pyplot.show(close=None, block=None)>"
      ]
     },
     "execution_count": 54,
     "metadata": {},
     "output_type": "execute_result"
    },
    {
     "data": {
      "image/png": "[encoded data removed]",
      "text/plain": [
       "<Figure size 720x720 with 2 Axes>"
      ]
     },
     "metadata": {
      "needs_background": "light"
     },
     "output_type": "display_data"
    }
   ],
   "source": [
    "fig, ax = plt.subplots(figsize=(10,10))\n",
    "ax.set_title(f'LogisticRegression')\n",
    "ConfusionMatrixDisplay.from_estimator(model, X_test, y_test, ax=ax)  \n",
    "plt.show"
   ]
  },
  {
   "attachments": {},
   "cell_type": "markdown",
   "metadata": {},
   "source": [
    "MaxAbsScaler"
   ]
  },
  {
   "cell_type": "code",
   "execution_count": 55,
   "metadata": {},
   "outputs": [],
   "source": [
    "transformer = MaxAbsScaler().fit(X)\n",
    "X_MAscaler = transformer.transform(X)\n",
    "X_train, X_test, y_train, y_test = train_test_split(X_MAscaler,y, test_size=0.3, random_state=17)"
   ]
  },
  {
   "cell_type": "code",
   "execution_count": 56,
   "metadata": {},
   "outputs": [
    {
     "name": "stdout",
     "output_type": "stream",
     "text": [
      "              precision    recall  f1-score   support\n",
      "\n",
      "   Not Delay       0.61      0.59      0.60    359379\n",
      "       Delay       0.57      0.60      0.58    333042\n",
      "\n",
      "    accuracy                           0.59    692421\n",
      "   macro avg       0.59      0.59      0.59    692421\n",
      "weighted avg       0.59      0.59      0.59    692421\n",
      "\n"
     ]
    }
   ],
   "source": [
    "model = LogisticRegression(class_weight='balanced')\n",
    "model.fit(X_train, y_train)\n",
    "predict = model.predict(X_test)\n",
    "target_names = ['Not Delay', 'Delay']\n",
    "print(classification_report(predict, y_test, target_names=target_names))"
   ]
  },
  {
   "cell_type": "code",
   "execution_count": 57,
   "metadata": {},
   "outputs": [
    {
     "data": {
      "text/plain": [
       "<function matplotlib.pyplot.show(close=None, block=None)>"
      ]
     },
     "execution_count": 57,
     "metadata": {},
     "output_type": "execute_result"
    },
    {
     "data": {
      "image/png": "[encoded data removed]",
      "text/plain": [
       "<Figure size 720x720 with 2 Axes>"
      ]
     },
     "metadata": {
      "needs_background": "light"
     },
     "output_type": "display_data"
    }
   ],
   "source": [
    "fig, ax = plt.subplots(figsize=(10,10))\n",
    "ax.set_title(f'LogisticRegression')\n",
    "ConfusionMatrixDisplay.from_estimator(model, X_test, y_test, ax=ax)  \n",
    "plt.show"
   ]
  },
  {
   "cell_type": "code",
   "execution_count": 58,
   "metadata": {},
   "outputs": [
    {
     "name": "stdout",
     "output_type": "stream",
     "text": [
      "15 done\n",
      "20 done\n",
      "25 done\n",
      "30 done\n",
      "35 done\n",
      "40 done\n",
      "45 done\n",
      "50 done\n",
      "55 done\n",
      "60 done\n",
      "65 done\n",
      "70 done\n",
      "75 done\n",
      "80 done\n",
      "85 done\n",
      "90 done\n",
      "95 done\n",
      "100 done\n"
     ]
    }
   ],
   "source": [
    "MLPClassifier()\n",
    "train = []\n",
    "test = []\n",
    "layers = np.arange(15, 101, 5)\n",
    "for k in layers:\n",
    "    clf = MLPClassifier(hidden_layer_sizes = (k, ), random_state=17, max_iter=500)\n",
    "    clf.fit(X_train, y_train)\n",
    "    train.append(clf.score(X_train, y_train))\n",
    "    test.append(clf.score(X_test, y_test))\n",
    "    print(f'{k} done')"
   ]
  },
  {
   "cell_type": "code",
   "execution_count": 59,
   "metadata": {},
   "outputs": [
    {
     "data": {
      "text/plain": [
       "0.6359483608960445"
      ]
     },
     "execution_count": 59,
     "metadata": {},
     "output_type": "execute_result"
    },
    {
     "data": {
      "image/png": "[encoded data removed]",
      "text/plain": [
       "<Figure size 432x288 with 1 Axes>"
      ]
     },
     "metadata": {
      "needs_background": "light"
     },
     "output_type": "display_data"
    }
   ],
   "source": [
    "plt.plot(layers, train)\n",
    "plt.plot(layers, test)\n",
    "max(test)"
   ]
  },
  {
   "cell_type": "code",
   "execution_count": 60,
   "metadata": {},
   "outputs": [
    {
     "name": "stdout",
     "output_type": "stream",
     "text": [
      "              precision    recall  f1-score   support\n",
      "\n",
      "   Not Delay       0.62      0.64      0.63    331924\n",
      "       Delay       0.66      0.63      0.65    360497\n",
      "\n",
      "    accuracy                           0.64    692421\n",
      "   macro avg       0.64      0.64      0.64    692421\n",
      "weighted avg       0.64      0.64      0.64    692421\n",
      "\n"
     ]
    }
   ],
   "source": [
    "clf = MLPClassifier(hidden_layer_sizes = (30, 30, 30, 30 ), random_state=17, max_iter=500)\n",
    "clf.fit(X_train, y_train)\n",
    "target_names = ['Not Delay', 'Delay']\n",
    "predict = clf.predict(X_test)\n",
    "print(classification_report(predict, y_test, target_names=target_names))"
   ]
  },
  {
   "cell_type": "code",
   "execution_count": 61,
   "metadata": {},
   "outputs": [
    {
     "data": {
      "text/plain": [
       "<function matplotlib.pyplot.show(close=None, block=None)>"
      ]
     },
     "execution_count": 61,
     "metadata": {},
     "output_type": "execute_result"
    },
    {
     "data": {
      "image/png": "[encoded data removed]",
      "text/plain": [
       "<Figure size 720x720 with 2 Axes>"
      ]
     },
     "metadata": {
      "needs_background": "light"
     },
     "output_type": "display_data"
    }
   ],
   "source": [
    "fig, ax = plt.subplots(figsize=(10,10))\n",
    "ax.set_title(f'MLPClassifier')\n",
    "ConfusionMatrixDisplay.from_estimator(model, X_test, y_test, ax=ax)  \n",
    "plt.show"
   ]
  },
  {
   "attachments": {},
   "cell_type": "markdown",
   "metadata": {},
   "source": [
    "Выводы:\n",
    "из-за высокой сложности датасета лучше всего себя показала четырехслойная нейронная сеть (MLPClassifier) с 30-ю нейронами в каждом скрытом слое, на стандартизированных данных при сбалансированных классах."
   ]
  },
  {
   "cell_type": "markdown",
   "metadata": {},
   "source": []
  }
 ],
 "metadata": {
  "kernelspec": {
   "display_name": "Python 3",
   "language": "python",
   "name": "python3"
  },
  "language_info": {
   "codemirror_mode": {
    "name": "ipython",
    "version": 3
   },
   "file_extension": ".py",
   "mimetype": "text/x-python",
   "name": "python",
   "nbconvert_exporter": "python",
   "pygments_lexer": "ipython3",
   "version": "3.10.2"
  },
  "orig_nbformat": 4,
  "vscode": {
   "interpreter": {
    "hash": "5ba9f6733753d9760e38ecbd0388426087242d4be4a8178b6909cf8cd7694b72"
   }
  }
 },
 "nbformat": 4,
 "nbformat_minor": 2
}
