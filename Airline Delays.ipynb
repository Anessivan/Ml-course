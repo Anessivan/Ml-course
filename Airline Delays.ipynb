{
 "cells": [
  {
   "attachments": {},
   "cell_type": "markdown",
   "metadata": {},
   "source": [
    "В датасете стоит задача определения воздушных рейсов, которые задержат свой вылет, что выжно для устойчивости логистических цепочек и избежания опасных ситуаций. Данные содержат информацию про самолет(количество мест, срок службы, компания владелец), погоду(общее количество осадков, количество выпавшего снега, количество снега, который выпадет за день, максимальную температуру в течение дня, максимальная скорость ветра в течение дня), информацию об аэропорте(название, широта и долгота, среднее количество вылетов в месяц)"
   ]
  },
  {
   "attachments": {},
   "cell_type": "markdown",
   "metadata": {},
   "source": [
    "Чтение данных и приведение категориальных признаков к числовым значениям"
   ]
  },
  {
   "cell_type": "code",
   "execution_count": 1,
   "metadata": {},
   "outputs": [],
   "source": [
    "import pandas as pd\n",
    "import numpy as np\n",
    "import matplotlib.pyplot as plt\n",
    "import seaborn as sns\n",
    "\n",
    "from sklearn.model_selection import train_test_split, GridSearchCV, cross_val_predict, cross_val_score, cross_validate\n",
    "from imblearn.pipeline import Pipeline\n",
    "from sklearn.neighbors import KNeighborsClassifier\n",
    "from sklearn.preprocessing import StandardScaler, MinMaxScaler, MaxAbsScaler, Normalizer\n",
    "from sklearn.metrics import confusion_matrix, ConfusionMatrixDisplay, accuracy_score, classification_report\n",
    "from sklearn.linear_model import LogisticRegression\n",
    "from sklearn.neural_network import MLPClassifier\n",
    "\n",
    "from reservoirpy.nodes import Reservoir, Ridge\n",
    "\n"
   ]
  },
  {
   "cell_type": "code",
   "execution_count": 2,
   "metadata": {},
   "outputs": [
    {
     "data": {
      "text/html": [
       "<div>\n",
       "<style scoped>\n",
       "    .dataframe tbody tr th:only-of-type {\n",
       "        vertical-align: middle;\n",
       "    }\n",
       "\n",
       "    .dataframe tbody tr th {\n",
       "        vertical-align: top;\n",
       "    }\n",
       "\n",
       "    .dataframe thead th {\n",
       "        text-align: right;\n",
       "    }\n",
       "</style>\n",
       "<table border=\"1\" class=\"dataframe\">\n",
       "  <thead>\n",
       "    <tr style=\"text-align: right;\">\n",
       "      <th></th>\n",
       "      <th>MONTH</th>\n",
       "      <th>DAY_OF_WEEK</th>\n",
       "      <th>DEP_DEL15</th>\n",
       "      <th>DEP_TIME_BLK</th>\n",
       "      <th>DISTANCE_GROUP</th>\n",
       "      <th>SEGMENT_NUMBER</th>\n",
       "      <th>CONCURRENT_FLIGHTS</th>\n",
       "      <th>NUMBER_OF_SEATS</th>\n",
       "      <th>CARRIER_NAME</th>\n",
       "      <th>AIRPORT_FLIGHTS_MONTH</th>\n",
       "      <th>...</th>\n",
       "      <th>PLANE_AGE</th>\n",
       "      <th>DEPARTING_AIRPORT</th>\n",
       "      <th>LATITUDE</th>\n",
       "      <th>LONGITUDE</th>\n",
       "      <th>PREVIOUS_AIRPORT</th>\n",
       "      <th>PRCP</th>\n",
       "      <th>SNOW</th>\n",
       "      <th>SNWD</th>\n",
       "      <th>TMAX</th>\n",
       "      <th>AWND</th>\n",
       "    </tr>\n",
       "  </thead>\n",
       "  <tbody>\n",
       "    <tr>\n",
       "      <th>0</th>\n",
       "      <td>1</td>\n",
       "      <td>7</td>\n",
       "      <td>0</td>\n",
       "      <td>0800-0859</td>\n",
       "      <td>2</td>\n",
       "      <td>1</td>\n",
       "      <td>25</td>\n",
       "      <td>143</td>\n",
       "      <td>Southwest Airlines Co.</td>\n",
       "      <td>13056</td>\n",
       "      <td>...</td>\n",
       "      <td>8</td>\n",
       "      <td>McCarran International</td>\n",
       "      <td>36.080</td>\n",
       "      <td>-115.152</td>\n",
       "      <td>NONE</td>\n",
       "      <td>0.00</td>\n",
       "      <td>0.0</td>\n",
       "      <td>0.0</td>\n",
       "      <td>65.0</td>\n",
       "      <td>2.91</td>\n",
       "    </tr>\n",
       "    <tr>\n",
       "      <th>1</th>\n",
       "      <td>1</td>\n",
       "      <td>7</td>\n",
       "      <td>0</td>\n",
       "      <td>0700-0759</td>\n",
       "      <td>7</td>\n",
       "      <td>1</td>\n",
       "      <td>29</td>\n",
       "      <td>191</td>\n",
       "      <td>Delta Air Lines Inc.</td>\n",
       "      <td>13056</td>\n",
       "      <td>...</td>\n",
       "      <td>3</td>\n",
       "      <td>McCarran International</td>\n",
       "      <td>36.080</td>\n",
       "      <td>-115.152</td>\n",
       "      <td>NONE</td>\n",
       "      <td>0.00</td>\n",
       "      <td>0.0</td>\n",
       "      <td>0.0</td>\n",
       "      <td>65.0</td>\n",
       "      <td>2.91</td>\n",
       "    </tr>\n",
       "    <tr>\n",
       "      <th>2</th>\n",
       "      <td>1</td>\n",
       "      <td>7</td>\n",
       "      <td>0</td>\n",
       "      <td>0600-0659</td>\n",
       "      <td>7</td>\n",
       "      <td>1</td>\n",
       "      <td>27</td>\n",
       "      <td>199</td>\n",
       "      <td>Delta Air Lines Inc.</td>\n",
       "      <td>13056</td>\n",
       "      <td>...</td>\n",
       "      <td>18</td>\n",
       "      <td>McCarran International</td>\n",
       "      <td>36.080</td>\n",
       "      <td>-115.152</td>\n",
       "      <td>NONE</td>\n",
       "      <td>0.00</td>\n",
       "      <td>0.0</td>\n",
       "      <td>0.0</td>\n",
       "      <td>65.0</td>\n",
       "      <td>2.91</td>\n",
       "    </tr>\n",
       "    <tr>\n",
       "      <th>3</th>\n",
       "      <td>1</td>\n",
       "      <td>7</td>\n",
       "      <td>0</td>\n",
       "      <td>0600-0659</td>\n",
       "      <td>9</td>\n",
       "      <td>1</td>\n",
       "      <td>27</td>\n",
       "      <td>180</td>\n",
       "      <td>Delta Air Lines Inc.</td>\n",
       "      <td>13056</td>\n",
       "      <td>...</td>\n",
       "      <td>2</td>\n",
       "      <td>McCarran International</td>\n",
       "      <td>36.080</td>\n",
       "      <td>-115.152</td>\n",
       "      <td>NONE</td>\n",
       "      <td>0.00</td>\n",
       "      <td>0.0</td>\n",
       "      <td>0.0</td>\n",
       "      <td>65.0</td>\n",
       "      <td>2.91</td>\n",
       "    </tr>\n",
       "    <tr>\n",
       "      <th>4</th>\n",
       "      <td>1</td>\n",
       "      <td>7</td>\n",
       "      <td>0</td>\n",
       "      <td>0001-0559</td>\n",
       "      <td>7</td>\n",
       "      <td>1</td>\n",
       "      <td>10</td>\n",
       "      <td>182</td>\n",
       "      <td>Spirit Air Lines</td>\n",
       "      <td>13056</td>\n",
       "      <td>...</td>\n",
       "      <td>1</td>\n",
       "      <td>McCarran International</td>\n",
       "      <td>36.080</td>\n",
       "      <td>-115.152</td>\n",
       "      <td>NONE</td>\n",
       "      <td>0.00</td>\n",
       "      <td>0.0</td>\n",
       "      <td>0.0</td>\n",
       "      <td>65.0</td>\n",
       "      <td>2.91</td>\n",
       "    </tr>\n",
       "    <tr>\n",
       "      <th>...</th>\n",
       "      <td>...</td>\n",
       "      <td>...</td>\n",
       "      <td>...</td>\n",
       "      <td>...</td>\n",
       "      <td>...</td>\n",
       "      <td>...</td>\n",
       "      <td>...</td>\n",
       "      <td>...</td>\n",
       "      <td>...</td>\n",
       "      <td>...</td>\n",
       "      <td>...</td>\n",
       "      <td>...</td>\n",
       "      <td>...</td>\n",
       "      <td>...</td>\n",
       "      <td>...</td>\n",
       "      <td>...</td>\n",
       "      <td>...</td>\n",
       "      <td>...</td>\n",
       "      <td>...</td>\n",
       "      <td>...</td>\n",
       "      <td>...</td>\n",
       "    </tr>\n",
       "    <tr>\n",
       "      <th>6489057</th>\n",
       "      <td>12</td>\n",
       "      <td>7</td>\n",
       "      <td>0</td>\n",
       "      <td>2300-2359</td>\n",
       "      <td>1</td>\n",
       "      <td>11</td>\n",
       "      <td>3</td>\n",
       "      <td>123</td>\n",
       "      <td>Hawaiian Airlines Inc.</td>\n",
       "      <td>1318</td>\n",
       "      <td>...</td>\n",
       "      <td>18</td>\n",
       "      <td>Lihue Airport</td>\n",
       "      <td>21.979</td>\n",
       "      <td>-159.346</td>\n",
       "      <td>Honolulu International</td>\n",
       "      <td>0.06</td>\n",
       "      <td>0.0</td>\n",
       "      <td>0.0</td>\n",
       "      <td>84.0</td>\n",
       "      <td>15.21</td>\n",
       "    </tr>\n",
       "    <tr>\n",
       "      <th>6489058</th>\n",
       "      <td>12</td>\n",
       "      <td>7</td>\n",
       "      <td>0</td>\n",
       "      <td>1800-1859</td>\n",
       "      <td>1</td>\n",
       "      <td>11</td>\n",
       "      <td>2</td>\n",
       "      <td>123</td>\n",
       "      <td>Hawaiian Airlines Inc.</td>\n",
       "      <td>1318</td>\n",
       "      <td>...</td>\n",
       "      <td>16</td>\n",
       "      <td>Lihue Airport</td>\n",
       "      <td>21.979</td>\n",
       "      <td>-159.346</td>\n",
       "      <td>Honolulu International</td>\n",
       "      <td>0.06</td>\n",
       "      <td>0.0</td>\n",
       "      <td>0.0</td>\n",
       "      <td>84.0</td>\n",
       "      <td>15.21</td>\n",
       "    </tr>\n",
       "    <tr>\n",
       "      <th>6489059</th>\n",
       "      <td>12</td>\n",
       "      <td>7</td>\n",
       "      <td>0</td>\n",
       "      <td>2000-2059</td>\n",
       "      <td>1</td>\n",
       "      <td>11</td>\n",
       "      <td>2</td>\n",
       "      <td>123</td>\n",
       "      <td>Hawaiian Airlines Inc.</td>\n",
       "      <td>1318</td>\n",
       "      <td>...</td>\n",
       "      <td>18</td>\n",
       "      <td>Lihue Airport</td>\n",
       "      <td>21.979</td>\n",
       "      <td>-159.346</td>\n",
       "      <td>Honolulu International</td>\n",
       "      <td>0.06</td>\n",
       "      <td>0.0</td>\n",
       "      <td>0.0</td>\n",
       "      <td>84.0</td>\n",
       "      <td>15.21</td>\n",
       "    </tr>\n",
       "    <tr>\n",
       "      <th>6489060</th>\n",
       "      <td>12</td>\n",
       "      <td>7</td>\n",
       "      <td>0</td>\n",
       "      <td>2100-2159</td>\n",
       "      <td>1</td>\n",
       "      <td>12</td>\n",
       "      <td>3</td>\n",
       "      <td>123</td>\n",
       "      <td>Hawaiian Airlines Inc.</td>\n",
       "      <td>1318</td>\n",
       "      <td>...</td>\n",
       "      <td>18</td>\n",
       "      <td>Lihue Airport</td>\n",
       "      <td>21.979</td>\n",
       "      <td>-159.346</td>\n",
       "      <td>Honolulu International</td>\n",
       "      <td>0.06</td>\n",
       "      <td>0.0</td>\n",
       "      <td>0.0</td>\n",
       "      <td>84.0</td>\n",
       "      <td>15.21</td>\n",
       "    </tr>\n",
       "    <tr>\n",
       "      <th>6489061</th>\n",
       "      <td>12</td>\n",
       "      <td>7</td>\n",
       "      <td>1</td>\n",
       "      <td>2100-2159</td>\n",
       "      <td>1</td>\n",
       "      <td>12</td>\n",
       "      <td>3</td>\n",
       "      <td>123</td>\n",
       "      <td>Hawaiian Airlines Inc.</td>\n",
       "      <td>1318</td>\n",
       "      <td>...</td>\n",
       "      <td>15</td>\n",
       "      <td>Lihue Airport</td>\n",
       "      <td>21.979</td>\n",
       "      <td>-159.346</td>\n",
       "      <td>Honolulu International</td>\n",
       "      <td>0.06</td>\n",
       "      <td>0.0</td>\n",
       "      <td>0.0</td>\n",
       "      <td>84.0</td>\n",
       "      <td>15.21</td>\n",
       "    </tr>\n",
       "  </tbody>\n",
       "</table>\n",
       "<p>6489062 rows × 26 columns</p>\n",
       "</div>"
      ],
      "text/plain": [
       "         MONTH  DAY_OF_WEEK  DEP_DEL15 DEP_TIME_BLK  DISTANCE_GROUP  \\\n",
       "0            1            7          0    0800-0859               2   \n",
       "1            1            7          0    0700-0759               7   \n",
       "2            1            7          0    0600-0659               7   \n",
       "3            1            7          0    0600-0659               9   \n",
       "4            1            7          0    0001-0559               7   \n",
       "...        ...          ...        ...          ...             ...   \n",
       "6489057     12            7          0    2300-2359               1   \n",
       "6489058     12            7          0    1800-1859               1   \n",
       "6489059     12            7          0    2000-2059               1   \n",
       "6489060     12            7          0    2100-2159               1   \n",
       "6489061     12            7          1    2100-2159               1   \n",
       "\n",
       "         SEGMENT_NUMBER  CONCURRENT_FLIGHTS  NUMBER_OF_SEATS  \\\n",
       "0                     1                  25              143   \n",
       "1                     1                  29              191   \n",
       "2                     1                  27              199   \n",
       "3                     1                  27              180   \n",
       "4                     1                  10              182   \n",
       "...                 ...                 ...              ...   \n",
       "6489057              11                   3              123   \n",
       "6489058              11                   2              123   \n",
       "6489059              11                   2              123   \n",
       "6489060              12                   3              123   \n",
       "6489061              12                   3              123   \n",
       "\n",
       "                   CARRIER_NAME  AIRPORT_FLIGHTS_MONTH  ...  PLANE_AGE  \\\n",
       "0        Southwest Airlines Co.                  13056  ...          8   \n",
       "1          Delta Air Lines Inc.                  13056  ...          3   \n",
       "2          Delta Air Lines Inc.                  13056  ...         18   \n",
       "3          Delta Air Lines Inc.                  13056  ...          2   \n",
       "4              Spirit Air Lines                  13056  ...          1   \n",
       "...                         ...                    ...  ...        ...   \n",
       "6489057  Hawaiian Airlines Inc.                   1318  ...         18   \n",
       "6489058  Hawaiian Airlines Inc.                   1318  ...         16   \n",
       "6489059  Hawaiian Airlines Inc.                   1318  ...         18   \n",
       "6489060  Hawaiian Airlines Inc.                   1318  ...         18   \n",
       "6489061  Hawaiian Airlines Inc.                   1318  ...         15   \n",
       "\n",
       "              DEPARTING_AIRPORT  LATITUDE  LONGITUDE        PREVIOUS_AIRPORT  \\\n",
       "0        McCarran International    36.080   -115.152                    NONE   \n",
       "1        McCarran International    36.080   -115.152                    NONE   \n",
       "2        McCarran International    36.080   -115.152                    NONE   \n",
       "3        McCarran International    36.080   -115.152                    NONE   \n",
       "4        McCarran International    36.080   -115.152                    NONE   \n",
       "...                         ...       ...        ...                     ...   \n",
       "6489057           Lihue Airport    21.979   -159.346  Honolulu International   \n",
       "6489058           Lihue Airport    21.979   -159.346  Honolulu International   \n",
       "6489059           Lihue Airport    21.979   -159.346  Honolulu International   \n",
       "6489060           Lihue Airport    21.979   -159.346  Honolulu International   \n",
       "6489061           Lihue Airport    21.979   -159.346  Honolulu International   \n",
       "\n",
       "         PRCP  SNOW SNWD  TMAX   AWND  \n",
       "0        0.00   0.0  0.0  65.0   2.91  \n",
       "1        0.00   0.0  0.0  65.0   2.91  \n",
       "2        0.00   0.0  0.0  65.0   2.91  \n",
       "3        0.00   0.0  0.0  65.0   2.91  \n",
       "4        0.00   0.0  0.0  65.0   2.91  \n",
       "...       ...   ...  ...   ...    ...  \n",
       "6489057  0.06   0.0  0.0  84.0  15.21  \n",
       "6489058  0.06   0.0  0.0  84.0  15.21  \n",
       "6489059  0.06   0.0  0.0  84.0  15.21  \n",
       "6489060  0.06   0.0  0.0  84.0  15.21  \n",
       "6489061  0.06   0.0  0.0  84.0  15.21  \n",
       "\n",
       "[6489062 rows x 26 columns]"
      ]
     },
     "execution_count": 2,
     "metadata": {},
     "output_type": "execute_result"
    }
   ],
   "source": [
    "data = pd.read_csv('data/full_data_flightdelay.csv')\n",
    "data\n"
   ]
  },
  {
   "cell_type": "code",
   "execution_count": 3,
   "metadata": {},
   "outputs": [],
   "source": [
    "df = data.copy()"
   ]
  },
  {
   "cell_type": "code",
   "execution_count": 4,
   "metadata": {},
   "outputs": [],
   "source": [
    "carriers = df['CARRIER_NAME'].value_counts()\n",
    "carriers = carriers.index.values.tolist()\n",
    "df['CARRIER_NAME'] = df['CARRIER_NAME'].replace(carriers, range(len(carriers)))"
   ]
  },
  {
   "cell_type": "code",
   "execution_count": 5,
   "metadata": {},
   "outputs": [],
   "source": [
    "deps = df['DEP_TIME_BLK'].value_counts()\n",
    "deps = deps.index.values.tolist()\n",
    "df['DEP_TIME_BLK'] = df['DEP_TIME_BLK'].replace(deps, range(len(deps)))"
   ]
  },
  {
   "cell_type": "code",
   "execution_count": 6,
   "metadata": {},
   "outputs": [],
   "source": [
    "airport = df['DEPARTING_AIRPORT'].value_counts()\n",
    "airport = airport.index.values.tolist()\n",
    "df['DEPARTING_AIRPORT'] = df['DEPARTING_AIRPORT'].replace(airport, range(len(airport)))"
   ]
  },
  {
   "cell_type": "code",
   "execution_count": 7,
   "metadata": {},
   "outputs": [],
   "source": [
    "prev_airport = df['PREVIOUS_AIRPORT'].value_counts()\n",
    "prev_airport = prev_airport.index.values.tolist()\n",
    "df['PREVIOUS_AIRPORT'] = df['PREVIOUS_AIRPORT'].replace(prev_airport, range(len(prev_airport)))"
   ]
  },
  {
   "cell_type": "code",
   "execution_count": 8,
   "metadata": {},
   "outputs": [
    {
     "data": {
      "text/plain": [
       "MONTH                              int64\n",
       "DAY_OF_WEEK                        int64\n",
       "DEP_DEL15                          int64\n",
       "DEP_TIME_BLK                       int64\n",
       "DISTANCE_GROUP                     int64\n",
       "SEGMENT_NUMBER                     int64\n",
       "CONCURRENT_FLIGHTS                 int64\n",
       "NUMBER_OF_SEATS                    int64\n",
       "CARRIER_NAME                       int64\n",
       "AIRPORT_FLIGHTS_MONTH              int64\n",
       "AIRLINE_FLIGHTS_MONTH              int64\n",
       "AIRLINE_AIRPORT_FLIGHTS_MONTH      int64\n",
       "AVG_MONTHLY_PASS_AIRPORT           int64\n",
       "AVG_MONTHLY_PASS_AIRLINE           int64\n",
       "FLT_ATTENDANTS_PER_PASS          float64\n",
       "GROUND_SERV_PER_PASS             float64\n",
       "PLANE_AGE                          int64\n",
       "DEPARTING_AIRPORT                  int64\n",
       "LATITUDE                         float64\n",
       "LONGITUDE                        float64\n",
       "PREVIOUS_AIRPORT                   int64\n",
       "PRCP                             float64\n",
       "SNOW                             float64\n",
       "SNWD                             float64\n",
       "TMAX                             float64\n",
       "AWND                             float64\n",
       "dtype: object"
      ]
     },
     "execution_count": 8,
     "metadata": {},
     "output_type": "execute_result"
    }
   ],
   "source": [
    "df.dtypes"
   ]
  },
  {
   "cell_type": "code",
   "execution_count": 9,
   "metadata": {},
   "outputs": [],
   "source": [
    "tdf = df.copy()"
   ]
  },
  {
   "attachments": {},
   "cell_type": "markdown",
   "metadata": {},
   "source": [
    "Оценка корреляции данных "
   ]
  },
  {
   "cell_type": "code",
   "execution_count": 10,
   "metadata": {},
   "outputs": [
    {
     "data": {
      "image/png": "[encoded data removed]",
      "text/plain": [
       "<Figure size 720x720 with 2 Axes>"
      ]
     },
     "metadata": {
      "needs_background": "light"
     },
     "output_type": "display_data"
    }
   ],
   "source": [
    "fig, ax = plt.subplots(figsize=(10,10))\n",
    "\n",
    "corr_mat = df.corr()\n",
    "sns.heatmap(corr_mat, square=True, cmap='plasma', linewidths=.5, ax=ax, vmin = -1, vmax = 1)\n",
    "pass"
   ]
  },
  {
   "cell_type": "code",
   "execution_count": 14,
   "metadata": {},
   "outputs": [
    {
     "data": {
      "text/plain": [
       "MONTH                           -0.019049\n",
       "DAY_OF_WEEK                     -0.000199\n",
       "DEP_DEL15                        1.000000\n",
       "DEP_TIME_BLK                     0.109707\n",
       "DISTANCE_GROUP                   0.016289\n",
       "SEGMENT_NUMBER                   0.117528\n",
       "CONCURRENT_FLIGHTS               0.009028\n",
       "NUMBER_OF_SEATS                  0.011845\n",
       "CARRIER_NAME                     0.002282\n",
       "AIRPORT_FLIGHTS_MONTH            0.026740\n",
       "AIRLINE_FLIGHTS_MONTH            0.003528\n",
       "AIRLINE_AIRPORT_FLIGHTS_MONTH    0.013711\n",
       "AVG_MONTHLY_PASS_AIRPORT         0.024383\n",
       "AVG_MONTHLY_PASS_AIRLINE         0.001257\n",
       "FLT_ATTENDANTS_PER_PASS         -0.002114\n",
       "GROUND_SERV_PER_PASS            -0.016736\n",
       "PLANE_AGE                        0.006220\n",
       "DEPARTING_AIRPORT               -0.037350\n",
       "LATITUDE                         0.000490\n",
       "LONGITUDE                        0.027097\n",
       "PREVIOUS_AIRPORT                 0.001224\n",
       "PRCP                             0.080277\n",
       "SNOW                             0.050156\n",
       "SNWD                             0.026129\n",
       "TMAX                            -0.008936\n",
       "AWND                             0.050947\n",
       "Name: DEP_DEL15, dtype: float64"
      ]
     },
     "execution_count": 14,
     "metadata": {},
     "output_type": "execute_result"
    }
   ],
   "source": [
    "corr_mat['DEP_DEL15']"
   ]
  },
  {
   "attachments": {},
   "cell_type": "markdown",
   "metadata": {},
   "source": [
    "Избавляемся от данных, зависимость от которых мала"
   ]
  },
  {
   "cell_type": "code",
   "execution_count": 15,
   "metadata": {},
   "outputs": [
    {
     "data": {
      "text/html": [
       "<div>\n",
       "<style scoped>\n",
       "    .dataframe tbody tr th:only-of-type {\n",
       "        vertical-align: middle;\n",
       "    }\n",
       "\n",
       "    .dataframe tbody tr th {\n",
       "        vertical-align: top;\n",
       "    }\n",
       "\n",
       "    .dataframe thead th {\n",
       "        text-align: right;\n",
       "    }\n",
       "</style>\n",
       "<table border=\"1\" class=\"dataframe\">\n",
       "  <thead>\n",
       "    <tr style=\"text-align: right;\">\n",
       "      <th></th>\n",
       "      <th>MONTH</th>\n",
       "      <th>DEP_DEL15</th>\n",
       "      <th>DEP_TIME_BLK</th>\n",
       "      <th>DISTANCE_GROUP</th>\n",
       "      <th>SEGMENT_NUMBER</th>\n",
       "      <th>NUMBER_OF_SEATS</th>\n",
       "      <th>AIRPORT_FLIGHTS_MONTH</th>\n",
       "      <th>AIRLINE_AIRPORT_FLIGHTS_MONTH</th>\n",
       "      <th>AVG_MONTHLY_PASS_AIRPORT</th>\n",
       "      <th>GROUND_SERV_PER_PASS</th>\n",
       "      <th>DEPARTING_AIRPORT</th>\n",
       "      <th>LONGITUDE</th>\n",
       "      <th>PRCP</th>\n",
       "      <th>SNOW</th>\n",
       "      <th>SNWD</th>\n",
       "      <th>AWND</th>\n",
       "    </tr>\n",
       "  </thead>\n",
       "  <tbody>\n",
       "    <tr>\n",
       "      <th>0</th>\n",
       "      <td>1</td>\n",
       "      <td>0</td>\n",
       "      <td>0</td>\n",
       "      <td>2</td>\n",
       "      <td>1</td>\n",
       "      <td>143</td>\n",
       "      <td>13056</td>\n",
       "      <td>5873</td>\n",
       "      <td>1903352</td>\n",
       "      <td>0.000099</td>\n",
       "      <td>10</td>\n",
       "      <td>-115.152</td>\n",
       "      <td>0.00</td>\n",
       "      <td>0.0</td>\n",
       "      <td>0.0</td>\n",
       "      <td>2.91</td>\n",
       "    </tr>\n",
       "    <tr>\n",
       "      <th>1</th>\n",
       "      <td>1</td>\n",
       "      <td>0</td>\n",
       "      <td>1</td>\n",
       "      <td>7</td>\n",
       "      <td>1</td>\n",
       "      <td>191</td>\n",
       "      <td>13056</td>\n",
       "      <td>1174</td>\n",
       "      <td>1903352</td>\n",
       "      <td>0.000149</td>\n",
       "      <td>10</td>\n",
       "      <td>-115.152</td>\n",
       "      <td>0.00</td>\n",
       "      <td>0.0</td>\n",
       "      <td>0.0</td>\n",
       "      <td>2.91</td>\n",
       "    </tr>\n",
       "    <tr>\n",
       "      <th>2</th>\n",
       "      <td>1</td>\n",
       "      <td>0</td>\n",
       "      <td>2</td>\n",
       "      <td>7</td>\n",
       "      <td>1</td>\n",
       "      <td>199</td>\n",
       "      <td>13056</td>\n",
       "      <td>1174</td>\n",
       "      <td>1903352</td>\n",
       "      <td>0.000149</td>\n",
       "      <td>10</td>\n",
       "      <td>-115.152</td>\n",
       "      <td>0.00</td>\n",
       "      <td>0.0</td>\n",
       "      <td>0.0</td>\n",
       "      <td>2.91</td>\n",
       "    </tr>\n",
       "    <tr>\n",
       "      <th>3</th>\n",
       "      <td>1</td>\n",
       "      <td>0</td>\n",
       "      <td>2</td>\n",
       "      <td>9</td>\n",
       "      <td>1</td>\n",
       "      <td>180</td>\n",
       "      <td>13056</td>\n",
       "      <td>1174</td>\n",
       "      <td>1903352</td>\n",
       "      <td>0.000149</td>\n",
       "      <td>10</td>\n",
       "      <td>-115.152</td>\n",
       "      <td>0.00</td>\n",
       "      <td>0.0</td>\n",
       "      <td>0.0</td>\n",
       "      <td>2.91</td>\n",
       "    </tr>\n",
       "    <tr>\n",
       "      <th>4</th>\n",
       "      <td>1</td>\n",
       "      <td>0</td>\n",
       "      <td>17</td>\n",
       "      <td>7</td>\n",
       "      <td>1</td>\n",
       "      <td>182</td>\n",
       "      <td>13056</td>\n",
       "      <td>1257</td>\n",
       "      <td>1903352</td>\n",
       "      <td>0.000125</td>\n",
       "      <td>10</td>\n",
       "      <td>-115.152</td>\n",
       "      <td>0.00</td>\n",
       "      <td>0.0</td>\n",
       "      <td>0.0</td>\n",
       "      <td>2.91</td>\n",
       "    </tr>\n",
       "    <tr>\n",
       "      <th>...</th>\n",
       "      <td>...</td>\n",
       "      <td>...</td>\n",
       "      <td>...</td>\n",
       "      <td>...</td>\n",
       "      <td>...</td>\n",
       "      <td>...</td>\n",
       "      <td>...</td>\n",
       "      <td>...</td>\n",
       "      <td>...</td>\n",
       "      <td>...</td>\n",
       "      <td>...</td>\n",
       "      <td>...</td>\n",
       "      <td>...</td>\n",
       "      <td>...</td>\n",
       "      <td>...</td>\n",
       "      <td>...</td>\n",
       "    </tr>\n",
       "    <tr>\n",
       "      <th>6489057</th>\n",
       "      <td>12</td>\n",
       "      <td>0</td>\n",
       "      <td>18</td>\n",
       "      <td>1</td>\n",
       "      <td>11</td>\n",
       "      <td>123</td>\n",
       "      <td>1318</td>\n",
       "      <td>757</td>\n",
       "      <td>133573</td>\n",
       "      <td>0.000198</td>\n",
       "      <td>86</td>\n",
       "      <td>-159.346</td>\n",
       "      <td>0.06</td>\n",
       "      <td>0.0</td>\n",
       "      <td>0.0</td>\n",
       "      <td>15.21</td>\n",
       "    </tr>\n",
       "    <tr>\n",
       "      <th>6489058</th>\n",
       "      <td>12</td>\n",
       "      <td>0</td>\n",
       "      <td>10</td>\n",
       "      <td>1</td>\n",
       "      <td>11</td>\n",
       "      <td>123</td>\n",
       "      <td>1318</td>\n",
       "      <td>757</td>\n",
       "      <td>133573</td>\n",
       "      <td>0.000198</td>\n",
       "      <td>86</td>\n",
       "      <td>-159.346</td>\n",
       "      <td>0.06</td>\n",
       "      <td>0.0</td>\n",
       "      <td>0.0</td>\n",
       "      <td>15.21</td>\n",
       "    </tr>\n",
       "    <tr>\n",
       "      <th>6489059</th>\n",
       "      <td>12</td>\n",
       "      <td>0</td>\n",
       "      <td>14</td>\n",
       "      <td>1</td>\n",
       "      <td>11</td>\n",
       "      <td>123</td>\n",
       "      <td>1318</td>\n",
       "      <td>757</td>\n",
       "      <td>133573</td>\n",
       "      <td>0.000198</td>\n",
       "      <td>86</td>\n",
       "      <td>-159.346</td>\n",
       "      <td>0.06</td>\n",
       "      <td>0.0</td>\n",
       "      <td>0.0</td>\n",
       "      <td>15.21</td>\n",
       "    </tr>\n",
       "    <tr>\n",
       "      <th>6489060</th>\n",
       "      <td>12</td>\n",
       "      <td>0</td>\n",
       "      <td>15</td>\n",
       "      <td>1</td>\n",
       "      <td>12</td>\n",
       "      <td>123</td>\n",
       "      <td>1318</td>\n",
       "      <td>757</td>\n",
       "      <td>133573</td>\n",
       "      <td>0.000198</td>\n",
       "      <td>86</td>\n",
       "      <td>-159.346</td>\n",
       "      <td>0.06</td>\n",
       "      <td>0.0</td>\n",
       "      <td>0.0</td>\n",
       "      <td>15.21</td>\n",
       "    </tr>\n",
       "    <tr>\n",
       "      <th>6489061</th>\n",
       "      <td>12</td>\n",
       "      <td>1</td>\n",
       "      <td>15</td>\n",
       "      <td>1</td>\n",
       "      <td>12</td>\n",
       "      <td>123</td>\n",
       "      <td>1318</td>\n",
       "      <td>757</td>\n",
       "      <td>133573</td>\n",
       "      <td>0.000198</td>\n",
       "      <td>86</td>\n",
       "      <td>-159.346</td>\n",
       "      <td>0.06</td>\n",
       "      <td>0.0</td>\n",
       "      <td>0.0</td>\n",
       "      <td>15.21</td>\n",
       "    </tr>\n",
       "  </tbody>\n",
       "</table>\n",
       "<p>6489062 rows × 16 columns</p>\n",
       "</div>"
      ],
      "text/plain": [
       "         MONTH  DEP_DEL15  DEP_TIME_BLK  DISTANCE_GROUP  SEGMENT_NUMBER  \\\n",
       "0            1          0             0               2               1   \n",
       "1            1          0             1               7               1   \n",
       "2            1          0             2               7               1   \n",
       "3            1          0             2               9               1   \n",
       "4            1          0            17               7               1   \n",
       "...        ...        ...           ...             ...             ...   \n",
       "6489057     12          0            18               1              11   \n",
       "6489058     12          0            10               1              11   \n",
       "6489059     12          0            14               1              11   \n",
       "6489060     12          0            15               1              12   \n",
       "6489061     12          1            15               1              12   \n",
       "\n",
       "         NUMBER_OF_SEATS  AIRPORT_FLIGHTS_MONTH  \\\n",
       "0                    143                  13056   \n",
       "1                    191                  13056   \n",
       "2                    199                  13056   \n",
       "3                    180                  13056   \n",
       "4                    182                  13056   \n",
       "...                  ...                    ...   \n",
       "6489057              123                   1318   \n",
       "6489058              123                   1318   \n",
       "6489059              123                   1318   \n",
       "6489060              123                   1318   \n",
       "6489061              123                   1318   \n",
       "\n",
       "         AIRLINE_AIRPORT_FLIGHTS_MONTH  AVG_MONTHLY_PASS_AIRPORT  \\\n",
       "0                                 5873                   1903352   \n",
       "1                                 1174                   1903352   \n",
       "2                                 1174                   1903352   \n",
       "3                                 1174                   1903352   \n",
       "4                                 1257                   1903352   \n",
       "...                                ...                       ...   \n",
       "6489057                            757                    133573   \n",
       "6489058                            757                    133573   \n",
       "6489059                            757                    133573   \n",
       "6489060                            757                    133573   \n",
       "6489061                            757                    133573   \n",
       "\n",
       "         GROUND_SERV_PER_PASS  DEPARTING_AIRPORT  LONGITUDE  PRCP  SNOW  SNWD  \\\n",
       "0                    0.000099                 10   -115.152  0.00   0.0   0.0   \n",
       "1                    0.000149                 10   -115.152  0.00   0.0   0.0   \n",
       "2                    0.000149                 10   -115.152  0.00   0.0   0.0   \n",
       "3                    0.000149                 10   -115.152  0.00   0.0   0.0   \n",
       "4                    0.000125                 10   -115.152  0.00   0.0   0.0   \n",
       "...                       ...                ...        ...   ...   ...   ...   \n",
       "6489057              0.000198                 86   -159.346  0.06   0.0   0.0   \n",
       "6489058              0.000198                 86   -159.346  0.06   0.0   0.0   \n",
       "6489059              0.000198                 86   -159.346  0.06   0.0   0.0   \n",
       "6489060              0.000198                 86   -159.346  0.06   0.0   0.0   \n",
       "6489061              0.000198                 86   -159.346  0.06   0.0   0.0   \n",
       "\n",
       "          AWND  \n",
       "0         2.91  \n",
       "1         2.91  \n",
       "2         2.91  \n",
       "3         2.91  \n",
       "4         2.91  \n",
       "...        ...  \n",
       "6489057  15.21  \n",
       "6489058  15.21  \n",
       "6489059  15.21  \n",
       "6489060  15.21  \n",
       "6489061  15.21  \n",
       "\n",
       "[6489062 rows x 16 columns]"
      ]
     },
     "execution_count": 15,
     "metadata": {},
     "output_type": "execute_result"
    }
   ],
   "source": [
    "df = df.drop(['DAY_OF_WEEK', 'CARRIER_NAME', 'AIRLINE_FLIGHTS_MONTH', 'AVG_MONTHLY_PASS_AIRLINE', 'FLT_ATTENDANTS_PER_PASS', 'PLANE_AGE', 'LATITUDE', 'TMAX', 'CONCURRENT_FLIGHTS', 'PREVIOUS_AIRPORT'], axis = 1)\n",
    "df"
   ]
  },
  {
   "attachments": {},
   "cell_type": "markdown",
   "metadata": {},
   "source": [
    "Больше всего самолетов отменяют в июне(относительно общего числа полетов)"
   ]
  },
  {
   "cell_type": "code",
   "execution_count": 16,
   "metadata": {},
   "outputs": [],
   "source": [
    "# pd.crosstab(data.MONTH, data.DEP_DEL15, normalize='index' ).plot(kind='bar')\n",
    "# plt.title('Departure Delays in MONTH')\n",
    "# plt.xlabel('MONTH')\n",
    "# plt.ylabel('Departure Delays')"
   ]
  },
  {
   "cell_type": "code",
   "execution_count": 17,
   "metadata": {},
   "outputs": [],
   "source": [
    "# pd.crosstab(data.DISTANCE_GROUP, data.DEP_DEL15, normalize='index' ).plot(kind='bar')\n",
    "# plt.title('Departure Delays in DISTANCE_GROUP')\n",
    "# plt.xlabel('DISTANCE_GROUP')\n",
    "# plt.ylabel('Departure Delays')"
   ]
  },
  {
   "cell_type": "code",
   "execution_count": 18,
   "metadata": {},
   "outputs": [],
   "source": [
    "# pd.crosstab(data.SEGMENT_NUMBER, data.DEP_DEL15, normalize='index' ).plot(kind='bar')\n",
    "# plt.title('Departure Delays in SEGMENT_NUMBER')\n",
    "# plt.xlabel('SEGMENT_NUMBER')\n",
    "# plt.ylabel('Departure Delays')"
   ]
  },
  {
   "attachments": {},
   "cell_type": "markdown",
   "metadata": {},
   "source": [
    "Сбалансируем классы, для чего возьмем количество записей равное наименьшему классу для каждого из классов"
   ]
  },
  {
   "cell_type": "code",
   "execution_count": 19,
   "metadata": {},
   "outputs": [],
   "source": [
    "c2 = df[df['DEP_DEL15'] == 1]\n",
    "c1 = df[df['DEP_DEL15'] == 0]\n",
    "req = int(min(c2.size, c1.size) / 16)\n",
    "df_2 = c2.sample(req)\n",
    "df_1 = c1.sample(req)\n",
    "df = pd.concat([df_2,df_1],axis=0)"
   ]
  },
  {
   "cell_type": "code",
   "execution_count": 20,
   "metadata": {},
   "outputs": [],
   "source": [
    "X = df.drop('DEP_DEL15', axis = 1)\n",
    "y = df['DEP_DEL15']"
   ]
  },
  {
   "cell_type": "code",
   "execution_count": 21,
   "metadata": {},
   "outputs": [],
   "source": [
    "X_train, X_test, y_train, y_test = train_test_split(X,y, test_size=0.3, random_state=17)"
   ]
  },
  {
   "cell_type": "code",
   "execution_count": 22,
   "metadata": {},
   "outputs": [
    {
     "data": {
      "text/html": [
       "<div>\n",
       "<style scoped>\n",
       "    .dataframe tbody tr th:only-of-type {\n",
       "        vertical-align: middle;\n",
       "    }\n",
       "\n",
       "    .dataframe tbody tr th {\n",
       "        vertical-align: top;\n",
       "    }\n",
       "\n",
       "    .dataframe thead th {\n",
       "        text-align: right;\n",
       "    }\n",
       "</style>\n",
       "<table border=\"1\" class=\"dataframe\">\n",
       "  <thead>\n",
       "    <tr style=\"text-align: right;\">\n",
       "      <th></th>\n",
       "      <th>MONTH</th>\n",
       "      <th>DEP_TIME_BLK</th>\n",
       "      <th>DISTANCE_GROUP</th>\n",
       "      <th>SEGMENT_NUMBER</th>\n",
       "      <th>NUMBER_OF_SEATS</th>\n",
       "      <th>AIRPORT_FLIGHTS_MONTH</th>\n",
       "      <th>AIRLINE_AIRPORT_FLIGHTS_MONTH</th>\n",
       "      <th>AVG_MONTHLY_PASS_AIRPORT</th>\n",
       "      <th>GROUND_SERV_PER_PASS</th>\n",
       "      <th>DEPARTING_AIRPORT</th>\n",
       "      <th>LONGITUDE</th>\n",
       "      <th>PRCP</th>\n",
       "      <th>SNOW</th>\n",
       "      <th>SNWD</th>\n",
       "      <th>AWND</th>\n",
       "    </tr>\n",
       "  </thead>\n",
       "  <tbody>\n",
       "    <tr>\n",
       "      <th>4687991</th>\n",
       "      <td>9</td>\n",
       "      <td>9</td>\n",
       "      <td>2</td>\n",
       "      <td>3</td>\n",
       "      <td>76</td>\n",
       "      <td>2024</td>\n",
       "      <td>301</td>\n",
       "      <td>220025</td>\n",
       "      <td>0.000099</td>\n",
       "      <td>63</td>\n",
       "      <td>-106.606</td>\n",
       "      <td>0.00</td>\n",
       "      <td>0.0</td>\n",
       "      <td>0.0</td>\n",
       "      <td>6.04</td>\n",
       "    </tr>\n",
       "    <tr>\n",
       "      <th>2708923</th>\n",
       "      <td>6</td>\n",
       "      <td>5</td>\n",
       "      <td>4</td>\n",
       "      <td>3</td>\n",
       "      <td>140</td>\n",
       "      <td>25390</td>\n",
       "      <td>12632</td>\n",
       "      <td>2907365</td>\n",
       "      <td>0.000177</td>\n",
       "      <td>2</td>\n",
       "      <td>-97.030</td>\n",
       "      <td>0.00</td>\n",
       "      <td>0.0</td>\n",
       "      <td>0.0</td>\n",
       "      <td>3.36</td>\n",
       "    </tr>\n",
       "    <tr>\n",
       "      <th>1608219</th>\n",
       "      <td>4</td>\n",
       "      <td>15</td>\n",
       "      <td>2</td>\n",
       "      <td>2</td>\n",
       "      <td>76</td>\n",
       "      <td>13675</td>\n",
       "      <td>3299</td>\n",
       "      <td>1908862</td>\n",
       "      <td>0.000099</td>\n",
       "      <td>8</td>\n",
       "      <td>-122.375</td>\n",
       "      <td>0.00</td>\n",
       "      <td>0.0</td>\n",
       "      <td>0.0</td>\n",
       "      <td>12.53</td>\n",
       "    </tr>\n",
       "    <tr>\n",
       "      <th>5919440</th>\n",
       "      <td>11</td>\n",
       "      <td>3</td>\n",
       "      <td>6</td>\n",
       "      <td>1</td>\n",
       "      <td>175</td>\n",
       "      <td>4718</td>\n",
       "      <td>4348</td>\n",
       "      <td>589072</td>\n",
       "      <td>0.000099</td>\n",
       "      <td>35</td>\n",
       "      <td>-95.279</td>\n",
       "      <td>0.00</td>\n",
       "      <td>0.0</td>\n",
       "      <td>0.0</td>\n",
       "      <td>5.14</td>\n",
       "    </tr>\n",
       "    <tr>\n",
       "      <th>4964836</th>\n",
       "      <td>10</td>\n",
       "      <td>5</td>\n",
       "      <td>3</td>\n",
       "      <td>1</td>\n",
       "      <td>76</td>\n",
       "      <td>20449</td>\n",
       "      <td>227</td>\n",
       "      <td>2006675</td>\n",
       "      <td>0.000094</td>\n",
       "      <td>4</td>\n",
       "      <td>-80.936</td>\n",
       "      <td>0.29</td>\n",
       "      <td>0.0</td>\n",
       "      <td>0.0</td>\n",
       "      <td>8.50</td>\n",
       "    </tr>\n",
       "    <tr>\n",
       "      <th>...</th>\n",
       "      <td>...</td>\n",
       "      <td>...</td>\n",
       "      <td>...</td>\n",
       "      <td>...</td>\n",
       "      <td>...</td>\n",
       "      <td>...</td>\n",
       "      <td>...</td>\n",
       "      <td>...</td>\n",
       "      <td>...</td>\n",
       "      <td>...</td>\n",
       "      <td>...</td>\n",
       "      <td>...</td>\n",
       "      <td>...</td>\n",
       "      <td>...</td>\n",
       "      <td>...</td>\n",
       "    </tr>\n",
       "    <tr>\n",
       "      <th>3154029</th>\n",
       "      <td>6</td>\n",
       "      <td>8</td>\n",
       "      <td>2</td>\n",
       "      <td>4</td>\n",
       "      <td>129</td>\n",
       "      <td>1427</td>\n",
       "      <td>220</td>\n",
       "      <td>106734</td>\n",
       "      <td>0.000108</td>\n",
       "      <td>89</td>\n",
       "      <td>-78.930</td>\n",
       "      <td>0.00</td>\n",
       "      <td>0.0</td>\n",
       "      <td>0.0</td>\n",
       "      <td>11.63</td>\n",
       "    </tr>\n",
       "    <tr>\n",
       "      <th>1636388</th>\n",
       "      <td>4</td>\n",
       "      <td>7</td>\n",
       "      <td>2</td>\n",
       "      <td>3</td>\n",
       "      <td>50</td>\n",
       "      <td>26142</td>\n",
       "      <td>4835</td>\n",
       "      <td>3103410</td>\n",
       "      <td>0.000099</td>\n",
       "      <td>1</td>\n",
       "      <td>-87.906</td>\n",
       "      <td>0.25</td>\n",
       "      <td>0.0</td>\n",
       "      <td>0.0</td>\n",
       "      <td>9.84</td>\n",
       "    </tr>\n",
       "    <tr>\n",
       "      <th>896280</th>\n",
       "      <td>2</td>\n",
       "      <td>3</td>\n",
       "      <td>1</td>\n",
       "      <td>5</td>\n",
       "      <td>143</td>\n",
       "      <td>11500</td>\n",
       "      <td>5104</td>\n",
       "      <td>1903352</td>\n",
       "      <td>0.000099</td>\n",
       "      <td>10</td>\n",
       "      <td>-115.152</td>\n",
       "      <td>0.01</td>\n",
       "      <td>0.0</td>\n",
       "      <td>0.0</td>\n",
       "      <td>13.20</td>\n",
       "    </tr>\n",
       "    <tr>\n",
       "      <th>3699350</th>\n",
       "      <td>7</td>\n",
       "      <td>17</td>\n",
       "      <td>7</td>\n",
       "      <td>1</td>\n",
       "      <td>181</td>\n",
       "      <td>13781</td>\n",
       "      <td>769</td>\n",
       "      <td>1960746</td>\n",
       "      <td>0.000177</td>\n",
       "      <td>14</td>\n",
       "      <td>-122.306</td>\n",
       "      <td>0.00</td>\n",
       "      <td>0.0</td>\n",
       "      <td>0.0</td>\n",
       "      <td>6.71</td>\n",
       "    </tr>\n",
       "    <tr>\n",
       "      <th>6351077</th>\n",
       "      <td>12</td>\n",
       "      <td>10</td>\n",
       "      <td>2</td>\n",
       "      <td>5</td>\n",
       "      <td>143</td>\n",
       "      <td>1380</td>\n",
       "      <td>95</td>\n",
       "      <td>118923</td>\n",
       "      <td>0.000099</td>\n",
       "      <td>75</td>\n",
       "      <td>-93.657</td>\n",
       "      <td>0.17</td>\n",
       "      <td>1.2</td>\n",
       "      <td>0.0</td>\n",
       "      <td>18.57</td>\n",
       "    </tr>\n",
       "  </tbody>\n",
       "</table>\n",
       "<p>1718315 rows × 15 columns</p>\n",
       "</div>"
      ],
      "text/plain": [
       "         MONTH  DEP_TIME_BLK  DISTANCE_GROUP  SEGMENT_NUMBER  NUMBER_OF_SEATS  \\\n",
       "4687991      9             9               2               3               76   \n",
       "2708923      6             5               4               3              140   \n",
       "1608219      4            15               2               2               76   \n",
       "5919440     11             3               6               1              175   \n",
       "4964836     10             5               3               1               76   \n",
       "...        ...           ...             ...             ...              ...   \n",
       "3154029      6             8               2               4              129   \n",
       "1636388      4             7               2               3               50   \n",
       "896280       2             3               1               5              143   \n",
       "3699350      7            17               7               1              181   \n",
       "6351077     12            10               2               5              143   \n",
       "\n",
       "         AIRPORT_FLIGHTS_MONTH  AIRLINE_AIRPORT_FLIGHTS_MONTH  \\\n",
       "4687991                   2024                            301   \n",
       "2708923                  25390                          12632   \n",
       "1608219                  13675                           3299   \n",
       "5919440                   4718                           4348   \n",
       "4964836                  20449                            227   \n",
       "...                        ...                            ...   \n",
       "3154029                   1427                            220   \n",
       "1636388                  26142                           4835   \n",
       "896280                   11500                           5104   \n",
       "3699350                  13781                            769   \n",
       "6351077                   1380                             95   \n",
       "\n",
       "         AVG_MONTHLY_PASS_AIRPORT  GROUND_SERV_PER_PASS  DEPARTING_AIRPORT  \\\n",
       "4687991                    220025              0.000099                 63   \n",
       "2708923                   2907365              0.000177                  2   \n",
       "1608219                   1908862              0.000099                  8   \n",
       "5919440                    589072              0.000099                 35   \n",
       "4964836                   2006675              0.000094                  4   \n",
       "...                           ...                   ...                ...   \n",
       "3154029                    106734              0.000108                 89   \n",
       "1636388                   3103410              0.000099                  1   \n",
       "896280                    1903352              0.000099                 10   \n",
       "3699350                   1960746              0.000177                 14   \n",
       "6351077                    118923              0.000099                 75   \n",
       "\n",
       "         LONGITUDE  PRCP  SNOW  SNWD   AWND  \n",
       "4687991   -106.606  0.00   0.0   0.0   6.04  \n",
       "2708923    -97.030  0.00   0.0   0.0   3.36  \n",
       "1608219   -122.375  0.00   0.0   0.0  12.53  \n",
       "5919440    -95.279  0.00   0.0   0.0   5.14  \n",
       "4964836    -80.936  0.29   0.0   0.0   8.50  \n",
       "...            ...   ...   ...   ...    ...  \n",
       "3154029    -78.930  0.00   0.0   0.0  11.63  \n",
       "1636388    -87.906  0.25   0.0   0.0   9.84  \n",
       "896280    -115.152  0.01   0.0   0.0  13.20  \n",
       "3699350   -122.306  0.00   0.0   0.0   6.71  \n",
       "6351077    -93.657  0.17   1.2   0.0  18.57  \n",
       "\n",
       "[1718315 rows x 15 columns]"
      ]
     },
     "execution_count": 22,
     "metadata": {},
     "output_type": "execute_result"
    }
   ],
   "source": [
    "X_train"
   ]
  },
  {
   "attachments": {},
   "cell_type": "markdown",
   "metadata": {},
   "source": [
    "Классификация с помощью метода k-nearest neighbors"
   ]
  },
  {
   "cell_type": "code",
   "execution_count": 23,
   "metadata": {},
   "outputs": [],
   "source": [
    "# neighbors = np.arange(1,7)\n",
    "# train = []\n",
    "# test = []\n",
    "# for i,k in enumerate(neighbors):\n",
    "#     knn = Pipeline([('scaler', StandardScaler()), ('classifier', KNeighborsClassifier(n_neighbors=k, n_jobs=-1))])\n",
    "#     knn.fit(X_train, y_train)\n",
    "#     train.append(knn.score(X_train, y_train))\n",
    "#     test.append(knn.score(X_test, y_test))\n",
    "#     print(f'{k} done')"
   ]
  },
  {
   "cell_type": "code",
   "execution_count": 24,
   "metadata": {},
   "outputs": [],
   "source": [
    "# plt.plot(np.arange(1,7), train)\n",
    "# plt.plot(np.arange(1,7), test)\n",
    "# max(test)"
   ]
  },
  {
   "cell_type": "code",
   "execution_count": 25,
   "metadata": {},
   "outputs": [
    {
     "name": "stdout",
     "output_type": "stream",
     "text": [
      "              precision    recall  f1-score   support\n",
      "\n",
      "   Not Delay       0.74      0.59      0.66    456923\n",
      "       Delay       0.50      0.65      0.56    279498\n",
      "\n",
      "    accuracy                           0.62    736421\n",
      "   macro avg       0.62      0.62      0.61    736421\n",
      "weighted avg       0.65      0.62      0.62    736421\n",
      "\n"
     ]
    }
   ],
   "source": [
    "knn = Pipeline([('scaler', StandardScaler()), ('classifier', KNeighborsClassifier(n_neighbors=6, n_jobs=-1))])\n",
    "knn.fit(X_train, y_train)\n",
    "predict = knn.predict(X_test)\n",
    "target_names = ['Not Delay', 'Delay']\n",
    "print(classification_report(predict, y_test, target_names=target_names))"
   ]
  },
  {
   "cell_type": "code",
   "execution_count": 27,
   "metadata": {},
   "outputs": [
    {
     "data": {
      "text/plain": [
       "<function matplotlib.pyplot.show(close=None, block=None)>"
      ]
     },
     "execution_count": 27,
     "metadata": {},
     "output_type": "execute_result"
    },
    {
     "data": {
      "image/png": "[encoded data removed]",
      "text/plain": [
       "<Figure size 720x720 with 2 Axes>"
      ]
     },
     "metadata": {
      "needs_background": "light"
     },
     "output_type": "display_data"
    }
   ],
   "source": [
    "fig, ax = plt.subplots(figsize=(10,10))\n",
    "ax.set_title(f'KNN (6 neighbours)')\n",
    "ConfusionMatrixDisplay.from_estimator(knn, X_test,y_test, ax=ax)  \n",
    "plt.show"
   ]
  },
  {
   "attachments": {},
   "cell_type": "markdown",
   "metadata": {},
   "source": [
    "Классификация с помощью логистической регрессии"
   ]
  },
  {
   "cell_type": "code",
   "execution_count": 28,
   "metadata": {},
   "outputs": [
    {
     "name": "stdout",
     "output_type": "stream",
     "text": [
      "              precision    recall  f1-score   support\n",
      "\n",
      "   Not Delay       0.06      0.51      0.11     46235\n",
      "       Delay       0.94      0.50      0.65    690186\n",
      "\n",
      "    accuracy                           0.50    736421\n",
      "   macro avg       0.50      0.51      0.38    736421\n",
      "weighted avg       0.88      0.50      0.62    736421\n",
      "\n"
     ]
    }
   ],
   "source": [
    "model = LogisticRegression(class_weight='balanced')\n",
    "model.fit(X_train, y_train)\n",
    "predict = model.predict(X_test)\n",
    "target_names = ['Not Delay', 'Delay']\n",
    "print(classification_report(predict, y_test, target_names=target_names))"
   ]
  },
  {
   "cell_type": "code",
   "execution_count": 29,
   "metadata": {},
   "outputs": [
    {
     "data": {
      "text/plain": [
       "<function matplotlib.pyplot.show(close=None, block=None)>"
      ]
     },
     "execution_count": 29,
     "metadata": {},
     "output_type": "execute_result"
    },
    {
     "data": {
      "image/png": "[encoded data removed]",
      "text/plain": [
       "<Figure size 720x720 with 2 Axes>"
      ]
     },
     "metadata": {
      "needs_background": "light"
     },
     "output_type": "display_data"
    }
   ],
   "source": [
    "fig, ax = plt.subplots(figsize=(10,10))\n",
    "ax.set_title(f'LogisticRegression')\n",
    "ConfusionMatrixDisplay.from_estimator(model, X_test, y_test, ax=ax)  \n",
    "plt.show"
   ]
  },
  {
   "attachments": {},
   "cell_type": "markdown",
   "metadata": {},
   "source": [
    "Классификация на полных данных, по наиболее каррелируемым признакам"
   ]
  },
  {
   "cell_type": "code",
   "execution_count": 30,
   "metadata": {},
   "outputs": [],
   "source": [
    "X = tdf[[\"TMAX\",\"PRCP\",\"SNOW\",\"CARRIER_NAME\",\"SNWD\",\"AWND\",\"CONCURRENT_FLIGHTS\",\"DEP_TIME_BLK\",\"DEPARTING_AIRPORT\",\"FLT_ATTENDANTS_PER_PASS\",\"NUMBER_OF_SEATS\"]] #\"TMAX\",\"CARRIER_NAME\",\"CONCURRENT_FLIGHTS\",\"FLT_ATTENDANTS_PER_PASS\"\n",
    "y = tdf[\"DEP_DEL15\"]\n",
    "X_train, X_test, y_train, y_test = train_test_split(X, y, test_size=0.2,random_state=21)"
   ]
  },
  {
   "cell_type": "code",
   "execution_count": 31,
   "metadata": {},
   "outputs": [
    {
     "name": "stderr",
     "output_type": "stream",
     "text": [
      "c:\\Users\\dimar\\AppData\\Local\\Programs\\Python\\Python310\\lib\\site-packages\\sklearn\\linear_model\\_logistic.py:458: ConvergenceWarning: lbfgs failed to converge (status=1):\n",
      "STOP: TOTAL NO. of ITERATIONS REACHED LIMIT.\n",
      "\n",
      "Increase the number of iterations (max_iter) or scale the data as shown in:\n",
      "    https://scikit-learn.org/stable/modules/preprocessing.html\n",
      "Please also refer to the documentation for alternative solver options:\n",
      "    https://scikit-learn.org/stable/modules/linear_model.html#logistic-regression\n",
      "  n_iter_i = _check_optimize_result(\n"
     ]
    },
    {
     "data": {
      "text/html": [
       "<style>#sk-container-id-1 {color: black;background-color: white;}#sk-container-id-1 pre{padding: 0;}#sk-container-id-1 div.sk-toggleable {background-color: white;}#sk-container-id-1 label.sk-toggleable__label {cursor: pointer;display: block;width: 100%;margin-bottom: 0;padding: 0.3em;box-sizing: border-box;text-align: center;}#sk-container-id-1 label.sk-toggleable__label-arrow:before {content: \"▸\";float: left;margin-right: 0.25em;color: #696969;}#sk-container-id-1 label.sk-toggleable__label-arrow:hover:before {color: black;}#sk-container-id-1 div.sk-estimator:hover label.sk-toggleable__label-arrow:before {color: black;}#sk-container-id-1 div.sk-toggleable__content {max-height: 0;max-width: 0;overflow: hidden;text-align: left;background-color: #f0f8ff;}#sk-container-id-1 div.sk-toggleable__content pre {margin: 0.2em;color: black;border-radius: 0.25em;background-color: #f0f8ff;}#sk-container-id-1 input.sk-toggleable__control:checked~div.sk-toggleable__content {max-height: 200px;max-width: 100%;overflow: auto;}#sk-container-id-1 input.sk-toggleable__control:checked~label.sk-toggleable__label-arrow:before {content: \"▾\";}#sk-container-id-1 div.sk-estimator input.sk-toggleable__control:checked~label.sk-toggleable__label {background-color: #d4ebff;}#sk-container-id-1 div.sk-label input.sk-toggleable__control:checked~label.sk-toggleable__label {background-color: #d4ebff;}#sk-container-id-1 input.sk-hidden--visually {border: 0;clip: rect(1px 1px 1px 1px);clip: rect(1px, 1px, 1px, 1px);height: 1px;margin: -1px;overflow: hidden;padding: 0;position: absolute;width: 1px;}#sk-container-id-1 div.sk-estimator {font-family: monospace;background-color: #f0f8ff;border: 1px dotted black;border-radius: 0.25em;box-sizing: border-box;margin-bottom: 0.5em;}#sk-container-id-1 div.sk-estimator:hover {background-color: #d4ebff;}#sk-container-id-1 div.sk-parallel-item::after {content: \"\";width: 100%;border-bottom: 1px solid gray;flex-grow: 1;}#sk-container-id-1 div.sk-label:hover label.sk-toggleable__label {background-color: #d4ebff;}#sk-container-id-1 div.sk-serial::before {content: \"\";position: absolute;border-left: 1px solid gray;box-sizing: border-box;top: 0;bottom: 0;left: 50%;z-index: 0;}#sk-container-id-1 div.sk-serial {display: flex;flex-direction: column;align-items: center;background-color: white;padding-right: 0.2em;padding-left: 0.2em;position: relative;}#sk-container-id-1 div.sk-item {position: relative;z-index: 1;}#sk-container-id-1 div.sk-parallel {display: flex;align-items: stretch;justify-content: center;background-color: white;position: relative;}#sk-container-id-1 div.sk-item::before, #sk-container-id-1 div.sk-parallel-item::before {content: \"\";position: absolute;border-left: 1px solid gray;box-sizing: border-box;top: 0;bottom: 0;left: 50%;z-index: -1;}#sk-container-id-1 div.sk-parallel-item {display: flex;flex-direction: column;z-index: 1;position: relative;background-color: white;}#sk-container-id-1 div.sk-parallel-item:first-child::after {align-self: flex-end;width: 50%;}#sk-container-id-1 div.sk-parallel-item:last-child::after {align-self: flex-start;width: 50%;}#sk-container-id-1 div.sk-parallel-item:only-child::after {width: 0;}#sk-container-id-1 div.sk-dashed-wrapped {border: 1px dashed gray;margin: 0 0.4em 0.5em 0.4em;box-sizing: border-box;padding-bottom: 0.4em;background-color: white;}#sk-container-id-1 div.sk-label label {font-family: monospace;font-weight: bold;display: inline-block;line-height: 1.2em;}#sk-container-id-1 div.sk-label-container {text-align: center;}#sk-container-id-1 div.sk-container {/* jupyter's `normalize.less` sets `[hidden] { display: none; }` but bootstrap.min.css set `[hidden] { display: none !important; }` so we also need the `!important` here to be able to override the default hidden behavior on the sphinx rendered scikit-learn.org. See: https://github.com/scikit-learn/scikit-learn/issues/21755 */display: inline-block !important;position: relative;}#sk-container-id-1 div.sk-text-repr-fallback {display: none;}</style><div id=\"sk-container-id-1\" class=\"sk-top-container\"><div class=\"sk-text-repr-fallback\"><pre>LogisticRegression()</pre><b>In a Jupyter environment, please rerun this cell to show the HTML representation or trust the notebook. <br />On GitHub, the HTML representation is unable to render, please try loading this page with nbviewer.org.</b></div><div class=\"sk-container\" hidden><div class=\"sk-item\"><div class=\"sk-estimator sk-toggleable\"><input class=\"sk-toggleable__control sk-hidden--visually\" id=\"sk-estimator-id-1\" type=\"checkbox\" checked><label for=\"sk-estimator-id-1\" class=\"sk-toggleable__label sk-toggleable__label-arrow\">LogisticRegression</label><div class=\"sk-toggleable__content\"><pre>LogisticRegression()</pre></div></div></div></div></div>"
      ],
      "text/plain": [
       "LogisticRegression()"
      ]
     },
     "execution_count": 31,
     "metadata": {},
     "output_type": "execute_result"
    }
   ],
   "source": [
    "model = LogisticRegression()\n",
    "model.fit(X_train, y_train)"
   ]
  },
  {
   "cell_type": "code",
   "execution_count": 32,
   "metadata": {},
   "outputs": [
    {
     "name": "stdout",
     "output_type": "stream",
     "text": [
      "              precision    recall  f1-score   support\n",
      "\n",
      "   Not Delay       1.00      0.81      0.90   1291694\n",
      "       Delay       0.01      0.45      0.02      6119\n",
      "\n",
      "    accuracy                           0.81   1297813\n",
      "   macro avg       0.50      0.63      0.46   1297813\n",
      "weighted avg       0.99      0.81      0.89   1297813\n",
      "\n"
     ]
    }
   ],
   "source": [
    "predict = model.predict(X_test)\n",
    "target_names = ['Not Delay', 'Delay']\n",
    "print(classification_report(predict, y_test, target_names=target_names))"
   ]
  },
  {
   "cell_type": "code",
   "execution_count": 33,
   "metadata": {},
   "outputs": [
    {
     "data": {
      "text/plain": [
       "<function matplotlib.pyplot.show(close=None, block=None)>"
      ]
     },
     "execution_count": 33,
     "metadata": {},
     "output_type": "execute_result"
    },
    {
     "data": {
      "image/png": "[encoded data removed]",
      "text/plain": [
       "<Figure size 720x720 with 2 Axes>"
      ]
     },
     "metadata": {
      "needs_background": "light"
     },
     "output_type": "display_data"
    }
   ],
   "source": [
    "fig, ax = plt.subplots(figsize=(10,10))\n",
    "ax.set_title(f'LogisticRegression')\n",
    "ConfusionMatrixDisplay.from_estimator(model, X_test, y_test, ax=ax)  \n",
    "plt.show"
   ]
  },
  {
   "cell_type": "code",
   "execution_count": 34,
   "metadata": {},
   "outputs": [
    {
     "name": "stderr",
     "output_type": "stream",
     "text": [
      "c:\\Users\\dimar\\AppData\\Local\\Programs\\Python\\Python310\\lib\\site-packages\\sklearn\\linear_model\\_logistic.py:458: ConvergenceWarning: lbfgs failed to converge (status=1):\n",
      "STOP: TOTAL NO. of ITERATIONS REACHED LIMIT.\n",
      "\n",
      "Increase the number of iterations (max_iter) or scale the data as shown in:\n",
      "    https://scikit-learn.org/stable/modules/preprocessing.html\n",
      "Please also refer to the documentation for alternative solver options:\n",
      "    https://scikit-learn.org/stable/modules/linear_model.html#logistic-regression\n",
      "  n_iter_i = _check_optimize_result(\n"
     ]
    },
    {
     "name": "stdout",
     "output_type": "stream",
     "text": [
      "              precision    recall  f1-score   support\n",
      "\n",
      "   Not Delay       0.59      0.85      0.70    725887\n",
      "       Delay       0.57      0.24      0.34    571926\n",
      "\n",
      "    accuracy                           0.58   1297813\n",
      "   macro avg       0.58      0.55      0.52   1297813\n",
      "weighted avg       0.58      0.58      0.54   1297813\n",
      "\n"
     ]
    }
   ],
   "source": [
    "model = LogisticRegression(class_weight='balanced')\n",
    "model.fit(X_train, y_train)\n",
    "predict = model.predict(X_test)\n",
    "target_names = ['Not Delay', 'Delay']\n",
    "print(classification_report(predict, y_test, target_names=target_names))"
   ]
  },
  {
   "cell_type": "code",
   "execution_count": 35,
   "metadata": {},
   "outputs": [
    {
     "data": {
      "text/plain": [
       "<function matplotlib.pyplot.show(close=None, block=None)>"
      ]
     },
     "execution_count": 35,
     "metadata": {},
     "output_type": "execute_result"
    },
    {
     "data": {
      "image/png": "[encoded data removed]",
      "text/plain": [
       "<Figure size 720x720 with 2 Axes>"
      ]
     },
     "metadata": {
      "needs_background": "light"
     },
     "output_type": "display_data"
    }
   ],
   "source": [
    "fig, ax = plt.subplots(figsize=(10,10))\n",
    "ax.set_title(f'LogisticRegression')\n",
    "ConfusionMatrixDisplay.from_estimator(model, X_test, y_test, ax=ax)  \n",
    "plt.show"
   ]
  },
  {
   "cell_type": "code",
   "execution_count": 36,
   "metadata": {},
   "outputs": [
    {
     "data": {
      "text/html": [
       "<style>#sk-container-id-2 {color: black;background-color: white;}#sk-container-id-2 pre{padding: 0;}#sk-container-id-2 div.sk-toggleable {background-color: white;}#sk-container-id-2 label.sk-toggleable__label {cursor: pointer;display: block;width: 100%;margin-bottom: 0;padding: 0.3em;box-sizing: border-box;text-align: center;}#sk-container-id-2 label.sk-toggleable__label-arrow:before {content: \"▸\";float: left;margin-right: 0.25em;color: #696969;}#sk-container-id-2 label.sk-toggleable__label-arrow:hover:before {color: black;}#sk-container-id-2 div.sk-estimator:hover label.sk-toggleable__label-arrow:before {color: black;}#sk-container-id-2 div.sk-toggleable__content {max-height: 0;max-width: 0;overflow: hidden;text-align: left;background-color: #f0f8ff;}#sk-container-id-2 div.sk-toggleable__content pre {margin: 0.2em;color: black;border-radius: 0.25em;background-color: #f0f8ff;}#sk-container-id-2 input.sk-toggleable__control:checked~div.sk-toggleable__content {max-height: 200px;max-width: 100%;overflow: auto;}#sk-container-id-2 input.sk-toggleable__control:checked~label.sk-toggleable__label-arrow:before {content: \"▾\";}#sk-container-id-2 div.sk-estimator input.sk-toggleable__control:checked~label.sk-toggleable__label {background-color: #d4ebff;}#sk-container-id-2 div.sk-label input.sk-toggleable__control:checked~label.sk-toggleable__label {background-color: #d4ebff;}#sk-container-id-2 input.sk-hidden--visually {border: 0;clip: rect(1px 1px 1px 1px);clip: rect(1px, 1px, 1px, 1px);height: 1px;margin: -1px;overflow: hidden;padding: 0;position: absolute;width: 1px;}#sk-container-id-2 div.sk-estimator {font-family: monospace;background-color: #f0f8ff;border: 1px dotted black;border-radius: 0.25em;box-sizing: border-box;margin-bottom: 0.5em;}#sk-container-id-2 div.sk-estimator:hover {background-color: #d4ebff;}#sk-container-id-2 div.sk-parallel-item::after {content: \"\";width: 100%;border-bottom: 1px solid gray;flex-grow: 1;}#sk-container-id-2 div.sk-label:hover label.sk-toggleable__label {background-color: #d4ebff;}#sk-container-id-2 div.sk-serial::before {content: \"\";position: absolute;border-left: 1px solid gray;box-sizing: border-box;top: 0;bottom: 0;left: 50%;z-index: 0;}#sk-container-id-2 div.sk-serial {display: flex;flex-direction: column;align-items: center;background-color: white;padding-right: 0.2em;padding-left: 0.2em;position: relative;}#sk-container-id-2 div.sk-item {position: relative;z-index: 1;}#sk-container-id-2 div.sk-parallel {display: flex;align-items: stretch;justify-content: center;background-color: white;position: relative;}#sk-container-id-2 div.sk-item::before, #sk-container-id-2 div.sk-parallel-item::before {content: \"\";position: absolute;border-left: 1px solid gray;box-sizing: border-box;top: 0;bottom: 0;left: 50%;z-index: -1;}#sk-container-id-2 div.sk-parallel-item {display: flex;flex-direction: column;z-index: 1;position: relative;background-color: white;}#sk-container-id-2 div.sk-parallel-item:first-child::after {align-self: flex-end;width: 50%;}#sk-container-id-2 div.sk-parallel-item:last-child::after {align-self: flex-start;width: 50%;}#sk-container-id-2 div.sk-parallel-item:only-child::after {width: 0;}#sk-container-id-2 div.sk-dashed-wrapped {border: 1px dashed gray;margin: 0 0.4em 0.5em 0.4em;box-sizing: border-box;padding-bottom: 0.4em;background-color: white;}#sk-container-id-2 div.sk-label label {font-family: monospace;font-weight: bold;display: inline-block;line-height: 1.2em;}#sk-container-id-2 div.sk-label-container {text-align: center;}#sk-container-id-2 div.sk-container {/* jupyter's `normalize.less` sets `[hidden] { display: none; }` but bootstrap.min.css set `[hidden] { display: none !important; }` so we also need the `!important` here to be able to override the default hidden behavior on the sphinx rendered scikit-learn.org. See: https://github.com/scikit-learn/scikit-learn/issues/21755 */display: inline-block !important;position: relative;}#sk-container-id-2 div.sk-text-repr-fallback {display: none;}</style><div id=\"sk-container-id-2\" class=\"sk-top-container\"><div class=\"sk-text-repr-fallback\"><pre>Pipeline(steps=[(&#x27;scaler&#x27;, StandardScaler()),\n",
       "                (&#x27;classifier&#x27;, KNeighborsClassifier(n_jobs=-1, n_neighbors=6))])</pre><b>In a Jupyter environment, please rerun this cell to show the HTML representation or trust the notebook. <br />On GitHub, the HTML representation is unable to render, please try loading this page with nbviewer.org.</b></div><div class=\"sk-container\" hidden><div class=\"sk-item sk-dashed-wrapped\"><div class=\"sk-label-container\"><div class=\"sk-label sk-toggleable\"><input class=\"sk-toggleable__control sk-hidden--visually\" id=\"sk-estimator-id-2\" type=\"checkbox\" ><label for=\"sk-estimator-id-2\" class=\"sk-toggleable__label sk-toggleable__label-arrow\">Pipeline</label><div class=\"sk-toggleable__content\"><pre>Pipeline(steps=[(&#x27;scaler&#x27;, StandardScaler()),\n",
       "                (&#x27;classifier&#x27;, KNeighborsClassifier(n_jobs=-1, n_neighbors=6))])</pre></div></div></div><div class=\"sk-serial\"><div class=\"sk-item\"><div class=\"sk-estimator sk-toggleable\"><input class=\"sk-toggleable__control sk-hidden--visually\" id=\"sk-estimator-id-3\" type=\"checkbox\" ><label for=\"sk-estimator-id-3\" class=\"sk-toggleable__label sk-toggleable__label-arrow\">StandardScaler</label><div class=\"sk-toggleable__content\"><pre>StandardScaler()</pre></div></div></div><div class=\"sk-item\"><div class=\"sk-estimator sk-toggleable\"><input class=\"sk-toggleable__control sk-hidden--visually\" id=\"sk-estimator-id-4\" type=\"checkbox\" ><label for=\"sk-estimator-id-4\" class=\"sk-toggleable__label sk-toggleable__label-arrow\">KNeighborsClassifier</label><div class=\"sk-toggleable__content\"><pre>KNeighborsClassifier(n_jobs=-1, n_neighbors=6)</pre></div></div></div></div></div></div></div>"
      ],
      "text/plain": [
       "Pipeline(steps=[('scaler', StandardScaler()),\n",
       "                ('classifier', KNeighborsClassifier(n_jobs=-1, n_neighbors=6))])"
      ]
     },
     "execution_count": 36,
     "metadata": {},
     "output_type": "execute_result"
    }
   ],
   "source": [
    "knn = Pipeline([('scaler', StandardScaler()), ('classifier', KNeighborsClassifier(n_neighbors=6, n_jobs=-1))])\n",
    "knn.fit(X_train, y_train)"
   ]
  },
  {
   "cell_type": "code",
   "execution_count": 37,
   "metadata": {},
   "outputs": [
    {
     "name": "stdout",
     "output_type": "stream",
     "text": [
      "              precision    recall  f1-score   support\n",
      "\n",
      "   Not Delay       0.97      0.83      0.89   1232490\n",
      "       Delay       0.14      0.52      0.22     65323\n",
      "\n",
      "    accuracy                           0.81   1297813\n",
      "   macro avg       0.55      0.67      0.56   1297813\n",
      "weighted avg       0.93      0.81      0.86   1297813\n",
      "\n"
     ]
    }
   ],
   "source": [
    "predict = knn.predict(X_test)\n",
    "target_names = ['Not Delay', 'Delay']\n",
    "print(classification_report(predict, y_test, target_names=target_names))"
   ]
  },
  {
   "cell_type": "code",
   "execution_count": 38,
   "metadata": {},
   "outputs": [
    {
     "data": {
      "text/plain": [
       "<function matplotlib.pyplot.show(close=None, block=None)>"
      ]
     },
     "execution_count": 38,
     "metadata": {},
     "output_type": "execute_result"
    },
    {
     "data": {
      "image/png": "[encoded data removed]",
      "text/plain": [
       "<Figure size 720x720 with 2 Axes>"
      ]
     },
     "metadata": {
      "needs_background": "light"
     },
     "output_type": "display_data"
    }
   ],
   "source": [
    "fig, ax = plt.subplots(figsize=(10,10))\n",
    "ax.set_title(f'KNN(6 neighbours)')\n",
    "ConfusionMatrixDisplay.from_estimator(knn, X_test, y_test, ax=ax)  \n",
    "plt.show"
   ]
  },
  {
   "attachments": {},
   "cell_type": "markdown",
   "metadata": {},
   "source": [
    "Стандартизация и нормализация данных:"
   ]
  },
  {
   "attachments": {},
   "cell_type": "markdown",
   "metadata": {},
   "source": [
    "Избавляемся от выбросов"
   ]
  },
  {
   "cell_type": "code",
   "execution_count": 11,
   "metadata": {},
   "outputs": [],
   "source": [
    "tdf_f = tdf.drop(['DAY_OF_WEEK', 'CARRIER_NAME', 'AIRLINE_FLIGHTS_MONTH', 'AVG_MONTHLY_PASS_AIRLINE', 'FLT_ATTENDANTS_PER_PASS', 'PLANE_AGE', 'LATITUDE', 'TMAX', 'CONCURRENT_FLIGHTS', 'PREVIOUS_AIRPORT'], axis = 1)"
   ]
  },
  {
   "cell_type": "code",
   "execution_count": 12,
   "metadata": {},
   "outputs": [],
   "source": [
    "ncols = np.clip(len(tdf_f.columns), 0, 16)\n",
    "cols = tdf_f.columns[:ncols]\n",
    "drop = (tdf_f[cols[0]] < tdf_f[cols[0]].quantile(0.005)) | (tdf_f[cols[0]] > tdf_f[cols[0]].quantile(0.995))\n",
    "for i in range(1, ncols):\n",
    "    drop = drop | (tdf_f[cols[i]] < tdf_f[cols[i]].quantile(0.005)) | (tdf_f[cols[i]] > tdf_f[cols[i]].quantile(0.995))\n",
    "rtd = tdf_f[drop].index\n",
    "df_clear = tdf_f.drop(index = rtd)"
   ]
  },
  {
   "cell_type": "code",
   "execution_count": 13,
   "metadata": {},
   "outputs": [],
   "source": [
    "c2 = df_clear[df_clear['DEP_DEL15'] == 1]\n",
    "c1 = df_clear[df_clear['DEP_DEL15'] == 0]\n",
    "req = int(min(c2.size, c1.size) / 16)\n",
    "df_2 = c2.sample(req)\n",
    "df_1 = c1.sample(req)\n",
    "df_clear = pd.concat([df_2,df_1],axis=0)"
   ]
  },
  {
   "attachments": {},
   "cell_type": "markdown",
   "metadata": {},
   "source": [
    "Нормализация"
   ]
  },
  {
   "cell_type": "code",
   "execution_count": 14,
   "metadata": {},
   "outputs": [],
   "source": [
    "X = df_clear.drop('DEP_DEL15', axis = 1)\n",
    "y = df_clear['DEP_DEL15']\n",
    "transformer = Normalizer().fit(X)\n",
    "X_normalize = transformer.transform(X)\n",
    "X_train, X_test, y_train, y_test = train_test_split(X_normalize,y, test_size=0.3, random_state=17)"
   ]
  },
  {
   "cell_type": "code",
   "execution_count": 43,
   "metadata": {},
   "outputs": [],
   "source": [
    "# neighbors = np.arange(1,7)\n",
    "# train = []\n",
    "# test = []\n",
    "# for i,k in enumerate(neighbors):\n",
    "#     knn = KNeighborsClassifier(n_neighbors=k, n_jobs=-1)\n",
    "#     knn.fit(X_train, y_train)\n",
    "#     train.append(knn.score(X_train, y_train))\n",
    "#     test.append(knn.score(X_test, y_test))\n",
    "#     print(f'{k} done')"
   ]
  },
  {
   "cell_type": "code",
   "execution_count": 44,
   "metadata": {},
   "outputs": [],
   "source": [
    "# plt.plot(np.arange(1,7), train)\n",
    "# plt.plot(np.arange(1,7), test)\n",
    "# max(test)"
   ]
  },
  {
   "cell_type": "code",
   "execution_count": 45,
   "metadata": {},
   "outputs": [
    {
     "name": "stdout",
     "output_type": "stream",
     "text": [
      "              precision    recall  f1-score   support\n",
      "\n",
      "   Not Delay       0.73      0.59      0.65    428424\n",
      "       Delay       0.49      0.64      0.55    263997\n",
      "\n",
      "    accuracy                           0.61    692421\n",
      "   macro avg       0.61      0.61      0.60    692421\n",
      "weighted avg       0.63      0.61      0.61    692421\n",
      "\n"
     ]
    }
   ],
   "source": [
    "knn = KNeighborsClassifier(n_neighbors=6, n_jobs=-1)\n",
    "knn.fit(X_train, y_train)\n",
    "predict = knn.predict(X_test)\n",
    "target_names = ['Not Delay', 'Delay']\n",
    "print(classification_report(predict, y_test, target_names=target_names))"
   ]
  },
  {
   "cell_type": "code",
   "execution_count": 46,
   "metadata": {},
   "outputs": [
    {
     "data": {
      "text/plain": [
       "<function matplotlib.pyplot.show(close=None, block=None)>"
      ]
     },
     "execution_count": 46,
     "metadata": {},
     "output_type": "execute_result"
    },
    {
     "data": {
      "image/png": "[encoded data removed]",
      "text/plain": [
       "<Figure size 720x720 with 2 Axes>"
      ]
     },
     "metadata": {
      "needs_background": "light"
     },
     "output_type": "display_data"
    }
   ],
   "source": [
    "fig, ax = plt.subplots(figsize=(10,10))\n",
    "ax.set_title(f'KNN (6 neighbours)')\n",
    "ConfusionMatrixDisplay.from_estimator(knn, X_test,y_test, ax=ax)  \n",
    "plt.show"
   ]
  },
  {
   "cell_type": "code",
   "execution_count": 47,
   "metadata": {},
   "outputs": [
    {
     "name": "stdout",
     "output_type": "stream",
     "text": [
      "              precision    recall  f1-score   support\n",
      "\n",
      "   Not Delay       0.56      0.51      0.53    382272\n",
      "       Delay       0.46      0.51      0.48    310149\n",
      "\n",
      "    accuracy                           0.51    692421\n",
      "   macro avg       0.51      0.51      0.51    692421\n",
      "weighted avg       0.52      0.51      0.51    692421\n",
      "\n"
     ]
    }
   ],
   "source": [
    "model = LogisticRegression(class_weight='balanced', solver='newton-cholesky')\n",
    "model.fit(X_train, y_train)\n",
    "predict = model.predict(X_test)\n",
    "target_names = ['Not Delay', 'Delay']\n",
    "print(classification_report(predict, y_test, target_names=target_names))"
   ]
  },
  {
   "cell_type": "code",
   "execution_count": 48,
   "metadata": {},
   "outputs": [
    {
     "data": {
      "text/plain": [
       "<function matplotlib.pyplot.show(close=None, block=None)>"
      ]
     },
     "execution_count": 48,
     "metadata": {},
     "output_type": "execute_result"
    },
    {
     "data": {
      "image/png": "[encoded data removed]",
      "text/plain": [
       "<Figure size 720x720 with 2 Axes>"
      ]
     },
     "metadata": {
      "needs_background": "light"
     },
     "output_type": "display_data"
    }
   ],
   "source": [
    "fig, ax = plt.subplots(figsize=(10,10))\n",
    "ax.set_title(f'LogisticRegression')\n",
    "ConfusionMatrixDisplay.from_estimator(model, X_test, y_test, ax=ax)  \n",
    "plt.show"
   ]
  },
  {
   "attachments": {},
   "cell_type": "markdown",
   "metadata": {},
   "source": [
    "Стандартизация данных"
   ]
  },
  {
   "cell_type": "code",
   "execution_count": 15,
   "metadata": {},
   "outputs": [],
   "source": [
    "transformer = StandardScaler().fit(X)\n",
    "X_Sscaler = transformer.transform(X)\n",
    "X_train, X_test, y_train, y_test = train_test_split(X_Sscaler,y, test_size=0.3, random_state=17)"
   ]
  },
  {
   "cell_type": "code",
   "execution_count": 50,
   "metadata": {},
   "outputs": [],
   "source": [
    "# neighbors = np.arange(1,7)\n",
    "# train = []\n",
    "# test = []\n",
    "# for i,k in enumerate(neighbors):\n",
    "#     knn = KNeighborsClassifier(n_neighbors=k, n_jobs=-1)\n",
    "#     knn.fit(X_train, y_train)\n",
    "#     train.append(knn.score(X_train, y_train))\n",
    "#     test.append(knn.score(X_test, y_test))\n",
    "#     print(f'{k} done')"
   ]
  },
  {
   "cell_type": "code",
   "execution_count": 51,
   "metadata": {},
   "outputs": [],
   "source": [
    "# plt.plot(np.arange(1,7), train)\n",
    "# plt.plot(np.arange(1,7), test)\n",
    "# max(test)"
   ]
  },
  {
   "cell_type": "code",
   "execution_count": 52,
   "metadata": {},
   "outputs": [
    {
     "name": "stdout",
     "output_type": "stream",
     "text": [
      "              precision    recall  f1-score   support\n",
      "\n",
      "   Not Delay       0.73      0.59      0.66    429533\n",
      "       Delay       0.49      0.65      0.56    262888\n",
      "\n",
      "    accuracy                           0.61    692421\n",
      "   macro avg       0.61      0.62      0.61    692421\n",
      "weighted avg       0.64      0.61      0.62    692421\n",
      "\n"
     ]
    }
   ],
   "source": [
    "knn = KNeighborsClassifier(n_neighbors=6, n_jobs=-1)\n",
    "knn.fit(X_train, y_train)\n",
    "predict = knn.predict(X_test)\n",
    "target_names = ['Not Delay', 'Delay']\n",
    "print(classification_report(predict, y_test, target_names=target_names))"
   ]
  },
  {
   "cell_type": "code",
   "execution_count": 53,
   "metadata": {},
   "outputs": [
    {
     "data": {
      "text/plain": [
       "<function matplotlib.pyplot.show(close=None, block=None)>"
      ]
     },
     "execution_count": 53,
     "metadata": {},
     "output_type": "execute_result"
    },
    {
     "data": {
      "image/png": "[encoded data removed]",
      "text/plain": [
       "<Figure size 720x720 with 2 Axes>"
      ]
     },
     "metadata": {
      "needs_background": "light"
     },
     "output_type": "display_data"
    }
   ],
   "source": [
    "fig, ax = plt.subplots(figsize=(10,10))\n",
    "ax.set_title(f'KNN (6 neighbours)')\n",
    "ConfusionMatrixDisplay.from_estimator(knn, X_test,y_test, ax=ax)  \n",
    "plt.show"
   ]
  },
  {
   "cell_type": "code",
   "execution_count": 54,
   "metadata": {},
   "outputs": [
    {
     "name": "stdout",
     "output_type": "stream",
     "text": [
      "              precision    recall  f1-score   support\n",
      "\n",
      "   Not Delay       0.61      0.59      0.60    359991\n",
      "       Delay       0.57      0.60      0.58    332430\n",
      "\n",
      "    accuracy                           0.59    692421\n",
      "   macro avg       0.59      0.59      0.59    692421\n",
      "weighted avg       0.59      0.59      0.59    692421\n",
      "\n"
     ]
    }
   ],
   "source": [
    "model = LogisticRegression(class_weight='balanced', solver= 'newton-cholesky')\n",
    "model.fit(X_train, y_train)\n",
    "predict = model.predict(X_test)\n",
    "target_names = ['Not Delay', 'Delay']\n",
    "print(classification_report(predict, y_test, target_names=target_names))"
   ]
  },
  {
   "cell_type": "code",
   "execution_count": 55,
   "metadata": {},
   "outputs": [
    {
     "data": {
      "text/plain": [
       "<function matplotlib.pyplot.show(close=None, block=None)>"
      ]
     },
     "execution_count": 55,
     "metadata": {},
     "output_type": "execute_result"
    },
    {
     "data": {
      "image/png": "[encoded data removed]",
      "text/plain": [
       "<Figure size 720x720 with 2 Axes>"
      ]
     },
     "metadata": {
      "needs_background": "light"
     },
     "output_type": "display_data"
    }
   ],
   "source": [
    "fig, ax = plt.subplots(figsize=(10,10))\n",
    "ax.set_title(f'LogisticRegression')\n",
    "ConfusionMatrixDisplay.from_estimator(model, X_test, y_test, ax=ax)  \n",
    "plt.show"
   ]
  },
  {
   "attachments": {},
   "cell_type": "markdown",
   "metadata": {},
   "source": [
    "MinMaxScaler"
   ]
  },
  {
   "cell_type": "code",
   "execution_count": 16,
   "metadata": {},
   "outputs": [],
   "source": [
    "transformer = MinMaxScaler().fit(X)\n",
    "X_MMscaler = transformer.transform(X)\n",
    "X_train, X_test, y_train, y_test = train_test_split(X_MMscaler,y, test_size=0.3, random_state=17)"
   ]
  },
  {
   "cell_type": "code",
   "execution_count": 57,
   "metadata": {},
   "outputs": [
    {
     "name": "stdout",
     "output_type": "stream",
     "text": [
      "              precision    recall  f1-score   support\n",
      "\n",
      "   Not Delay       0.61      0.59      0.60    359985\n",
      "       Delay       0.57      0.60      0.58    332436\n",
      "\n",
      "    accuracy                           0.59    692421\n",
      "   macro avg       0.59      0.59      0.59    692421\n",
      "weighted avg       0.59      0.59      0.59    692421\n",
      "\n"
     ]
    }
   ],
   "source": [
    "model = LogisticRegression(class_weight='balanced')\n",
    "model.fit(X_train, y_train)\n",
    "predict = model.predict(X_test)\n",
    "target_names = ['Not Delay', 'Delay']\n",
    "print(classification_report(predict, y_test, target_names=target_names))"
   ]
  },
  {
   "cell_type": "code",
   "execution_count": 58,
   "metadata": {},
   "outputs": [
    {
     "data": {
      "text/plain": [
       "<function matplotlib.pyplot.show(close=None, block=None)>"
      ]
     },
     "execution_count": 58,
     "metadata": {},
     "output_type": "execute_result"
    },
    {
     "data": {
      "image/png": "[encoded data removed]",
      "text/plain": [
       "<Figure size 720x720 with 2 Axes>"
      ]
     },
     "metadata": {
      "needs_background": "light"
     },
     "output_type": "display_data"
    }
   ],
   "source": [
    "fig, ax = plt.subplots(figsize=(10,10))\n",
    "ax.set_title(f'LogisticRegression')\n",
    "ConfusionMatrixDisplay.from_estimator(model, X_test, y_test, ax=ax)  \n",
    "plt.show"
   ]
  },
  {
   "attachments": {},
   "cell_type": "markdown",
   "metadata": {},
   "source": [
    "MaxAbsScaler"
   ]
  },
  {
   "cell_type": "code",
   "execution_count": 17,
   "metadata": {},
   "outputs": [],
   "source": [
    "transformer = MaxAbsScaler().fit(X)\n",
    "X_MAscaler = transformer.transform(X)\n",
    "X_train, X_test, y_train, y_test = train_test_split(X_MAscaler,y, test_size=0.3, random_state=17)"
   ]
  },
  {
   "cell_type": "code",
   "execution_count": 60,
   "metadata": {},
   "outputs": [
    {
     "name": "stdout",
     "output_type": "stream",
     "text": [
      "              precision    recall  f1-score   support\n",
      "\n",
      "   Not Delay       0.61      0.59      0.60    359974\n",
      "       Delay       0.57      0.60      0.58    332447\n",
      "\n",
      "    accuracy                           0.59    692421\n",
      "   macro avg       0.59      0.59      0.59    692421\n",
      "weighted avg       0.59      0.59      0.59    692421\n",
      "\n"
     ]
    }
   ],
   "source": [
    "model = LogisticRegression(class_weight='balanced')\n",
    "model.fit(X_train, y_train)\n",
    "predict = model.predict(X_test)\n",
    "target_names = ['Not Delay', 'Delay']\n",
    "print(classification_report(predict, y_test, target_names=target_names))"
   ]
  },
  {
   "cell_type": "code",
   "execution_count": 61,
   "metadata": {},
   "outputs": [
    {
     "data": {
      "text/plain": [
       "<function matplotlib.pyplot.show(close=None, block=None)>"
      ]
     },
     "execution_count": 61,
     "metadata": {},
     "output_type": "execute_result"
    },
    {
     "data": {
      "image/png": "[encoded data removed]",
      "text/plain": [
       "<Figure size 720x720 with 2 Axes>"
      ]
     },
     "metadata": {
      "needs_background": "light"
     },
     "output_type": "display_data"
    }
   ],
   "source": [
    "fig, ax = plt.subplots(figsize=(10,10))\n",
    "ax.set_title(f'LogisticRegression')\n",
    "ConfusionMatrixDisplay.from_estimator(model, X_test, y_test, ax=ax)  \n",
    "plt.show"
   ]
  },
  {
   "cell_type": "code",
   "execution_count": 62,
   "metadata": {},
   "outputs": [],
   "source": [
    "#MLPClassifier()\n",
    "# train = []\n",
    "# test = []\n",
    "# layers = np.arange(15, 101, 5)\n",
    "# for k in layers:\n",
    "#     clf = MLPClassifier(hidden_layer_sizes = (k, ), random_state=17, max_iter=500)\n",
    "#     clf.fit(X_train, y_train)\n",
    "#     train.append(clf.score(X_train, y_train))\n",
    "#     test.append(clf.score(X_test, y_test))\n",
    "#     print(f'{k} done')"
   ]
  },
  {
   "cell_type": "code",
   "execution_count": 63,
   "metadata": {},
   "outputs": [],
   "source": [
    "# plt.plot(layers, train)\n",
    "# plt.plot(layers, test)\n",
    "# max(test)"
   ]
  },
  {
   "cell_type": "code",
   "execution_count": 64,
   "metadata": {},
   "outputs": [],
   "source": [
    "#[[i, j, k, l] for i in range(30, 51, 20) for j in range(30, 51, 20) for k in range(30, 51, 20) for l in range(30, 51, 20)]"
   ]
  },
  {
   "attachments": {},
   "cell_type": "markdown",
   "metadata": {},
   "source": [
    "Нормализованные данные"
   ]
  },
  {
   "cell_type": "code",
   "execution_count": 18,
   "metadata": {},
   "outputs": [],
   "source": [
    "X_train, X_test, y_train, y_test = train_test_split(X_normalize, y, test_size=0.3, random_state=17)"
   ]
  },
  {
   "cell_type": "code",
   "execution_count": 66,
   "metadata": {},
   "outputs": [],
   "source": [
    "MLPclass = MLPClassifier()\n",
    "layers = [[i] for i in range(10, 31, 10)]+[[i, j] for i in range(10, 31, 10) for j in range(10, 31, 10)]\n",
    "parameters = {'hidden_layer_sizes': layers}\n",
    "clf = GridSearchCV(MLPclass, parameters, n_jobs = -1)\n",
    "report = clf.fit(X_train, y_train)"
   ]
  },
  {
   "cell_type": "code",
   "execution_count": 67,
   "metadata": {},
   "outputs": [
    {
     "name": "stdout",
     "output_type": "stream",
     "text": [
      "              precision    recall  f1-score   support\n",
      "\n",
      "   Not Delay       0.87      0.51      0.64    592799\n",
      "       Delay       0.15      0.53      0.24     99622\n",
      "\n",
      "    accuracy                           0.51    692421\n",
      "   macro avg       0.51      0.52      0.44    692421\n",
      "weighted avg       0.76      0.51      0.58    692421\n",
      "\n"
     ]
    }
   ],
   "source": [
    "target_names = ['Not Delay', 'Delay']\n",
    "predict = clf.best_estimator_.predict(X_test)\n",
    "print(classification_report(predict, y_test, target_names=target_names))"
   ]
  },
  {
   "cell_type": "code",
   "execution_count": 68,
   "metadata": {},
   "outputs": [
    {
     "data": {
      "text/plain": [
       "<function matplotlib.pyplot.show(close=None, block=None)>"
      ]
     },
     "execution_count": 68,
     "metadata": {},
     "output_type": "execute_result"
    },
    {
     "data": {
      "image/png": "[encoded data removed]",
      "text/plain": [
       "<Figure size 720x720 with 2 Axes>"
      ]
     },
     "metadata": {
      "needs_background": "light"
     },
     "output_type": "display_data"
    }
   ],
   "source": [
    "fig, ax = plt.subplots(figsize=(10,10))\n",
    "ax.set_title(f'MLPClassifier')\n",
    "ConfusionMatrixDisplay.from_estimator(clf.best_estimator_, X_test, y_test, ax=ax)  \n",
    "plt.show"
   ]
  },
  {
   "cell_type": "code",
   "execution_count": 69,
   "metadata": {},
   "outputs": [
    {
     "data": {
      "text/html": [
       "<style>#sk-container-id-3 {color: black;background-color: white;}#sk-container-id-3 pre{padding: 0;}#sk-container-id-3 div.sk-toggleable {background-color: white;}#sk-container-id-3 label.sk-toggleable__label {cursor: pointer;display: block;width: 100%;margin-bottom: 0;padding: 0.3em;box-sizing: border-box;text-align: center;}#sk-container-id-3 label.sk-toggleable__label-arrow:before {content: \"▸\";float: left;margin-right: 0.25em;color: #696969;}#sk-container-id-3 label.sk-toggleable__label-arrow:hover:before {color: black;}#sk-container-id-3 div.sk-estimator:hover label.sk-toggleable__label-arrow:before {color: black;}#sk-container-id-3 div.sk-toggleable__content {max-height: 0;max-width: 0;overflow: hidden;text-align: left;background-color: #f0f8ff;}#sk-container-id-3 div.sk-toggleable__content pre {margin: 0.2em;color: black;border-radius: 0.25em;background-color: #f0f8ff;}#sk-container-id-3 input.sk-toggleable__control:checked~div.sk-toggleable__content {max-height: 200px;max-width: 100%;overflow: auto;}#sk-container-id-3 input.sk-toggleable__control:checked~label.sk-toggleable__label-arrow:before {content: \"▾\";}#sk-container-id-3 div.sk-estimator input.sk-toggleable__control:checked~label.sk-toggleable__label {background-color: #d4ebff;}#sk-container-id-3 div.sk-label input.sk-toggleable__control:checked~label.sk-toggleable__label {background-color: #d4ebff;}#sk-container-id-3 input.sk-hidden--visually {border: 0;clip: rect(1px 1px 1px 1px);clip: rect(1px, 1px, 1px, 1px);height: 1px;margin: -1px;overflow: hidden;padding: 0;position: absolute;width: 1px;}#sk-container-id-3 div.sk-estimator {font-family: monospace;background-color: #f0f8ff;border: 1px dotted black;border-radius: 0.25em;box-sizing: border-box;margin-bottom: 0.5em;}#sk-container-id-3 div.sk-estimator:hover {background-color: #d4ebff;}#sk-container-id-3 div.sk-parallel-item::after {content: \"\";width: 100%;border-bottom: 1px solid gray;flex-grow: 1;}#sk-container-id-3 div.sk-label:hover label.sk-toggleable__label {background-color: #d4ebff;}#sk-container-id-3 div.sk-serial::before {content: \"\";position: absolute;border-left: 1px solid gray;box-sizing: border-box;top: 0;bottom: 0;left: 50%;z-index: 0;}#sk-container-id-3 div.sk-serial {display: flex;flex-direction: column;align-items: center;background-color: white;padding-right: 0.2em;padding-left: 0.2em;position: relative;}#sk-container-id-3 div.sk-item {position: relative;z-index: 1;}#sk-container-id-3 div.sk-parallel {display: flex;align-items: stretch;justify-content: center;background-color: white;position: relative;}#sk-container-id-3 div.sk-item::before, #sk-container-id-3 div.sk-parallel-item::before {content: \"\";position: absolute;border-left: 1px solid gray;box-sizing: border-box;top: 0;bottom: 0;left: 50%;z-index: -1;}#sk-container-id-3 div.sk-parallel-item {display: flex;flex-direction: column;z-index: 1;position: relative;background-color: white;}#sk-container-id-3 div.sk-parallel-item:first-child::after {align-self: flex-end;width: 50%;}#sk-container-id-3 div.sk-parallel-item:last-child::after {align-self: flex-start;width: 50%;}#sk-container-id-3 div.sk-parallel-item:only-child::after {width: 0;}#sk-container-id-3 div.sk-dashed-wrapped {border: 1px dashed gray;margin: 0 0.4em 0.5em 0.4em;box-sizing: border-box;padding-bottom: 0.4em;background-color: white;}#sk-container-id-3 div.sk-label label {font-family: monospace;font-weight: bold;display: inline-block;line-height: 1.2em;}#sk-container-id-3 div.sk-label-container {text-align: center;}#sk-container-id-3 div.sk-container {/* jupyter's `normalize.less` sets `[hidden] { display: none; }` but bootstrap.min.css set `[hidden] { display: none !important; }` so we also need the `!important` here to be able to override the default hidden behavior on the sphinx rendered scikit-learn.org. See: https://github.com/scikit-learn/scikit-learn/issues/21755 */display: inline-block !important;position: relative;}#sk-container-id-3 div.sk-text-repr-fallback {display: none;}</style><div id=\"sk-container-id-3\" class=\"sk-top-container\"><div class=\"sk-text-repr-fallback\"><pre>MLPClassifier(hidden_layer_sizes=[20, 20])</pre><b>In a Jupyter environment, please rerun this cell to show the HTML representation or trust the notebook. <br />On GitHub, the HTML representation is unable to render, please try loading this page with nbviewer.org.</b></div><div class=\"sk-container\" hidden><div class=\"sk-item\"><div class=\"sk-estimator sk-toggleable\"><input class=\"sk-toggleable__control sk-hidden--visually\" id=\"sk-estimator-id-5\" type=\"checkbox\" checked><label for=\"sk-estimator-id-5\" class=\"sk-toggleable__label sk-toggleable__label-arrow\">MLPClassifier</label><div class=\"sk-toggleable__content\"><pre>MLPClassifier(hidden_layer_sizes=[20, 20])</pre></div></div></div></div></div>"
      ],
      "text/plain": [
       "MLPClassifier(hidden_layer_sizes=[20, 20])"
      ]
     },
     "execution_count": 69,
     "metadata": {},
     "output_type": "execute_result"
    }
   ],
   "source": [
    "clf.best_estimator_"
   ]
  },
  {
   "cell_type": "code",
   "execution_count": 20,
   "metadata": {},
   "outputs": [
    {
     "data": {
      "text/plain": [
       "(1615649, 100)"
      ]
     },
     "execution_count": 20,
     "metadata": {},
     "output_type": "execute_result"
    }
   ],
   "source": [
    "train_states.shape"
   ]
  },
  {
   "cell_type": "code",
   "execution_count": 19,
   "metadata": {},
   "outputs": [
    {
     "name": "stderr",
     "output_type": "stream",
     "text": [
      "Running Reservoir-0: 100%|██████████| 1615649/1615649 [01:50<00:00, 14560.04it/s]\n"
     ]
    },
    {
     "ename": "ValueError",
     "evalue": "shapes (1615649,0) and (1615639,101) not aligned: 0 (dim 1) != 1615639 (dim 0)",
     "output_type": "error",
     "traceback": [
      "\u001b[1;31m---------------------------------------------------------------------------\u001b[0m",
      "\u001b[1;31mValueError\u001b[0m                                Traceback (most recent call last)",
      "\u001b[1;32md:\\projects\\ML\\Ml-course\\Airline Delays.ipynb Cell 83\u001b[0m in \u001b[0;36m<module>\u001b[1;34m\u001b[0m\n\u001b[0;32m      <a href='vscode-notebook-cell:/d%3A/projects/ML/Ml-course/Airline%20Delays.ipynb#Y145sZmlsZQ%3D%3D?line=1'>2</a>\u001b[0m ridge \u001b[39m=\u001b[39m Ridge(ridge\u001b[39m=\u001b[39m\u001b[39m1e-7\u001b[39m)\n\u001b[0;32m      <a href='vscode-notebook-cell:/d%3A/projects/ML/Ml-course/Airline%20Delays.ipynb#Y145sZmlsZQ%3D%3D?line=3'>4</a>\u001b[0m train_states \u001b[39m=\u001b[39m reservoir\u001b[39m.\u001b[39mrun(X_train, reset \u001b[39m=\u001b[39m \u001b[39mTrue\u001b[39;00m)\n\u001b[1;32m----> <a href='vscode-notebook-cell:/d%3A/projects/ML/Ml-course/Airline%20Delays.ipynb#Y145sZmlsZQ%3D%3D?line=4'>5</a>\u001b[0m readout \u001b[39m=\u001b[39m ridge\u001b[39m.\u001b[39;49mfit(train_states, np\u001b[39m.\u001b[39;49marray(y_train), warmup \u001b[39m=\u001b[39;49m \u001b[39m10\u001b[39;49m)\n\u001b[0;32m      <a href='vscode-notebook-cell:/d%3A/projects/ML/Ml-course/Airline%20Delays.ipynb#Y145sZmlsZQ%3D%3D?line=5'>6</a>\u001b[0m test_states \u001b[39m=\u001b[39m reservoir\u001b[39m.\u001b[39mrun(X_test)\n\u001b[0;32m      <a href='vscode-notebook-cell:/d%3A/projects/ML/Ml-course/Airline%20Delays.ipynb#Y145sZmlsZQ%3D%3D?line=6'>7</a>\u001b[0m predict \u001b[39m=\u001b[39m readout\u001b[39m.\u001b[39mrun(test_states)\n",
      "File \u001b[1;32mc:\\Users\\dimar\\AppData\\Local\\Programs\\Python\\Python310\\lib\\site-packages\\reservoirpy\\node.py:1144\u001b[0m, in \u001b[0;36mNode.fit\u001b[1;34m(self, X, Y, warmup)\u001b[0m\n\u001b[0;32m   1142\u001b[0m \u001b[39mif\u001b[39;00m X \u001b[39mis\u001b[39;00m \u001b[39mnot\u001b[39;00m \u001b[39mNone\u001b[39;00m:\n\u001b[0;32m   1143\u001b[0m     \u001b[39mif\u001b[39;00m \u001b[39mself\u001b[39m\u001b[39m.\u001b[39m_partial_backward \u001b[39mis\u001b[39;00m \u001b[39mnot\u001b[39;00m \u001b[39mNone\u001b[39;00m:\n\u001b[1;32m-> 1144\u001b[0m         \u001b[39mself\u001b[39;49m\u001b[39m.\u001b[39;49mpartial_fit(X, Y, warmup\u001b[39m=\u001b[39;49mwarmup)\n\u001b[0;32m   1146\u001b[0m \u001b[39melif\u001b[39;00m \u001b[39mnot\u001b[39;00m \u001b[39mself\u001b[39m\u001b[39m.\u001b[39m_is_initialized:\n\u001b[0;32m   1147\u001b[0m     \u001b[39mraise\u001b[39;00m \u001b[39mRuntimeError\u001b[39;00m(\n\u001b[0;32m   1148\u001b[0m         \u001b[39mf\u001b[39m\u001b[39m\"\u001b[39m\u001b[39mImpossible to fit node \u001b[39m\u001b[39m{\u001b[39;00m\u001b[39mself\u001b[39m\u001b[39m.\u001b[39mname\u001b[39m}\u001b[39;00m\u001b[39m: node\u001b[39m\u001b[39m\"\u001b[39m\n\u001b[0;32m   1149\u001b[0m         \u001b[39mf\u001b[39m\u001b[39m\"\u001b[39m\u001b[39mis not initialized, and fit was called \u001b[39m\u001b[39m\"\u001b[39m\n\u001b[0;32m   1150\u001b[0m         \u001b[39mf\u001b[39m\u001b[39m\"\u001b[39m\u001b[39mwithout input and teacher data.\u001b[39m\u001b[39m\"\u001b[39m\n\u001b[0;32m   1151\u001b[0m     )\n",
      "File \u001b[1;32mc:\\Users\\dimar\\AppData\\Local\\Programs\\Python\\Python310\\lib\\site-packages\\reservoirpy\\node.py:1105\u001b[0m, in \u001b[0;36mNode.partial_fit\u001b[1;34m(self, X_batch, Y_batch, warmup, **kwargs)\u001b[0m\n\u001b[0;32m   1099\u001b[0m     \u001b[39mraise\u001b[39;00m \u001b[39mValueError\u001b[39;00m(\n\u001b[0;32m   1100\u001b[0m         \u001b[39mf\u001b[39m\u001b[39m\"\u001b[39m\u001b[39mWarmup set to \u001b[39m\u001b[39m{\u001b[39;00mwarmup\u001b[39m}\u001b[39;00m\u001b[39m timesteps, but one timeseries is only \u001b[39m\u001b[39m\"\u001b[39m\n\u001b[0;32m   1101\u001b[0m         \u001b[39mf\u001b[39m\u001b[39m\"\u001b[39m\u001b[39m{\u001b[39;00mX_seq\u001b[39m.\u001b[39mshape[\u001b[39m0\u001b[39m]\u001b[39m}\u001b[39;00m\u001b[39m long.\u001b[39m\u001b[39m\"\u001b[39m\n\u001b[0;32m   1102\u001b[0m     )\n\u001b[0;32m   1104\u001b[0m \u001b[39mif\u001b[39;00m Y_seq \u001b[39mis\u001b[39;00m \u001b[39mnot\u001b[39;00m \u001b[39mNone\u001b[39;00m:\n\u001b[1;32m-> 1105\u001b[0m     \u001b[39mself\u001b[39m\u001b[39m.\u001b[39m_partial_backward(\u001b[39mself\u001b[39m, X_seq[warmup:], Y_seq[warmup:], \u001b[39m*\u001b[39m\u001b[39m*\u001b[39mkwargs)\n\u001b[0;32m   1106\u001b[0m \u001b[39melse\u001b[39;00m:\n\u001b[0;32m   1107\u001b[0m     \u001b[39mself\u001b[39m\u001b[39m.\u001b[39m_partial_backward(\u001b[39mself\u001b[39m, X_seq[warmup:], \u001b[39m*\u001b[39m\u001b[39m*\u001b[39mkwargs)\n",
      "File \u001b[1;32mc:\\Users\\dimar\\AppData\\Local\\Programs\\Python\\Python310\\lib\\site-packages\\reservoirpy\\nodes\\readouts\\ridge.py:38\u001b[0m, in \u001b[0;36mpartial_backward\u001b[1;34m(readout, X_batch, Y_batch, lock)\u001b[0m\n\u001b[0;32m     30\u001b[0m X, Y \u001b[39m=\u001b[39m _prepare_inputs_for_learning(\n\u001b[0;32m     31\u001b[0m     X_batch,\n\u001b[0;32m     32\u001b[0m     Y_batch,\n\u001b[0;32m     33\u001b[0m     bias\u001b[39m=\u001b[39mreadout\u001b[39m.\u001b[39minput_bias,\n\u001b[0;32m     34\u001b[0m     allow_reshape\u001b[39m=\u001b[39m\u001b[39mTrue\u001b[39;00m,\n\u001b[0;32m     35\u001b[0m )\n\u001b[0;32m     37\u001b[0m xxt \u001b[39m=\u001b[39m X\u001b[39m.\u001b[39mT\u001b[39m.\u001b[39mdot(X)\n\u001b[1;32m---> 38\u001b[0m yxt \u001b[39m=\u001b[39m Y\u001b[39m.\u001b[39;49mT\u001b[39m.\u001b[39;49mdot(X)\n\u001b[0;32m     40\u001b[0m \u001b[39mif\u001b[39;00m lock \u001b[39mis\u001b[39;00m \u001b[39mnot\u001b[39;00m \u001b[39mNone\u001b[39;00m:\n\u001b[0;32m     41\u001b[0m     \u001b[39m# This is not thread-safe using Numpy memmap as buffers\u001b[39;00m\n\u001b[0;32m     42\u001b[0m     \u001b[39m# ok for parallelization then with a lock (see ESN object)\u001b[39;00m\n\u001b[0;32m     43\u001b[0m     \u001b[39mwith\u001b[39;00m lock:\n",
      "\u001b[1;31mValueError\u001b[0m: shapes (1615649,0) and (1615639,101) not aligned: 0 (dim 1) != 1615639 (dim 0)"
     ]
    }
   ],
   "source": [
    "reservoir = Reservoir(100, lr=0.5, sr=0.9)\n",
    "ridge = Ridge(ridge=1e-7)\n",
    "\n",
    "train_states = reservoir.run(X_train, reset = True)\n",
    "readout = ridge.fit(train_states, np.array(y_train), warmup = 10)\n",
    "test_states = reservoir.run(X_test)\n",
    "predict = readout.run(test_states)\n",
    "print(classification_report(predict, y_test, target_names=target_names))"
   ]
  },
  {
   "cell_type": "code",
   "execution_count": 72,
   "metadata": {},
   "outputs": [
    {
     "ename": "ValueError",
     "evalue": "Missing target data for node Ridge-1.",
     "output_type": "error",
     "traceback": [
      "\u001b[1;31m---------------------------------------------------------------------------\u001b[0m",
      "\u001b[1;31mValueError\u001b[0m                                Traceback (most recent call last)",
      "\u001b[1;32md:\\projects\\ML\\Ml-course\\Airline Delays.ipynb Cell 83\u001b[0m in \u001b[0;36m<module>\u001b[1;34m\u001b[0m\n\u001b[1;32m----> <a href='vscode-notebook-cell:/d%3A/projects/ML/Ml-course/Airline%20Delays.ipynb#Y150sZmlsZQ%3D%3D?line=0'>1</a>\u001b[0m esn_model \u001b[39m=\u001b[39m esn_model\u001b[39m.\u001b[39;49mfit(X_train, y_train, warmup\u001b[39m=\u001b[39;49m\u001b[39m10\u001b[39;49m)\n\u001b[0;32m      <a href='vscode-notebook-cell:/d%3A/projects/ML/Ml-course/Airline%20Delays.ipynb#Y150sZmlsZQ%3D%3D?line=1'>2</a>\u001b[0m predict \u001b[39m=\u001b[39m esn_model\u001b[39m.\u001b[39mrun(X_test)\n\u001b[0;32m      <a href='vscode-notebook-cell:/d%3A/projects/ML/Ml-course/Airline%20Delays.ipynb#Y150sZmlsZQ%3D%3D?line=2'>3</a>\u001b[0m \u001b[39mprint\u001b[39m(classification_report(predict, y_test, target_names\u001b[39m=\u001b[39mtarget_names))\n",
      "File \u001b[1;32mc:\\Users\\dimar\\AppData\\Local\\Programs\\Python\\Python310\\lib\\site-packages\\reservoirpy\\model.py:1088\u001b[0m, in \u001b[0;36mModel.fit\u001b[1;34m(self, X, Y, warmup, force_teachers, from_state, stateful, reset)\u001b[0m\n\u001b[0;32m   1082\u001b[0m \u001b[39mif\u001b[39;00m \u001b[39mnot\u001b[39;00m \u001b[39many\u001b[39m([n \u001b[39mfor\u001b[39;00m n \u001b[39min\u001b[39;00m \u001b[39mself\u001b[39m\u001b[39m.\u001b[39mtrainable_nodes \u001b[39mif\u001b[39;00m n\u001b[39m.\u001b[39mis_trained_offline]):\n\u001b[0;32m   1083\u001b[0m     \u001b[39mraise\u001b[39;00m \u001b[39mTypeError\u001b[39;00m(\n\u001b[0;32m   1084\u001b[0m         \u001b[39mf\u001b[39m\u001b[39m\"\u001b[39m\u001b[39mImpossible to fit model \u001b[39m\u001b[39m{\u001b[39;00m\u001b[39mself\u001b[39m\u001b[39m}\u001b[39;00m\u001b[39m offline: \u001b[39m\u001b[39m\"\u001b[39m\n\u001b[0;32m   1085\u001b[0m         \u001b[39m\"\u001b[39m\u001b[39mno offline nodes found in model.\u001b[39m\u001b[39m\"\u001b[39m\n\u001b[0;32m   1086\u001b[0m     )\n\u001b[1;32m-> 1088\u001b[0m X, Y \u001b[39m=\u001b[39m to_data_mapping(\u001b[39mself\u001b[39;49m, X, Y)\n\u001b[0;32m   1090\u001b[0m \u001b[39mself\u001b[39m\u001b[39m.\u001b[39m_initialize_on_sequence(X[\u001b[39m0\u001b[39m], Y[\u001b[39m0\u001b[39m])\n\u001b[0;32m   1091\u001b[0m \u001b[39mself\u001b[39m\u001b[39m.\u001b[39minitialize_buffers()\n",
      "File \u001b[1;32mc:\\Users\\dimar\\AppData\\Local\\Programs\\Python\\Python310\\lib\\site-packages\\reservoirpy\\utils\\model_utils.py:162\u001b[0m, in \u001b[0;36mto_data_mapping\u001b[1;34m(model, X, Y)\u001b[0m\n\u001b[0;32m    159\u001b[0m \u001b[39mif\u001b[39;00m Y \u001b[39mis\u001b[39;00m \u001b[39mnot\u001b[39;00m \u001b[39mNone\u001b[39;00m:\n\u001b[0;32m    160\u001b[0m     Y_map \u001b[39m=\u001b[39m build_mapping(model\u001b[39m.\u001b[39mtrainable_nodes, Y, io_type\u001b[39m=\u001b[39m\u001b[39m\"\u001b[39m\u001b[39mtarget\u001b[39m\u001b[39m\"\u001b[39m)\n\u001b[1;32m--> 162\u001b[0m X_map, Y_map \u001b[39m=\u001b[39m check_xy(model, x\u001b[39m=\u001b[39;49mX_map, y\u001b[39m=\u001b[39;49mY_map)\n\u001b[0;32m    164\u001b[0m X_sequences \u001b[39m=\u001b[39m unfold_mapping(X_map)\n\u001b[0;32m    166\u001b[0m \u001b[39mif\u001b[39;00m Y_map \u001b[39mis\u001b[39;00m \u001b[39mNone\u001b[39;00m:\n",
      "File \u001b[1;32mc:\\Users\\dimar\\AppData\\Local\\Programs\\Python\\Python310\\lib\\site-packages\\reservoirpy\\_base.py:390\u001b[0m, in \u001b[0;36mcheck_xy\u001b[1;34m(caller, x, y, input_dim, output_dim, allow_n_sequences, allow_n_inputs, allow_timespans)\u001b[0m\n\u001b[0;32m    387\u001b[0m         \u001b[39mif\u001b[39;00m output_dim \u001b[39mis\u001b[39;00m \u001b[39mNone\u001b[39;00m \u001b[39mand\u001b[39;00m \u001b[39mhasattr\u001b[39m(caller, \u001b[39m\"\u001b[39m\u001b[39moutput_dim\u001b[39m\u001b[39m\"\u001b[39m):\n\u001b[0;32m    388\u001b[0m             output_dim \u001b[39m=\u001b[39m caller\u001b[39m.\u001b[39moutput_dim\n\u001b[1;32m--> 390\u001b[0m     y_new \u001b[39m=\u001b[39m _check_node_io(\n\u001b[0;32m    391\u001b[0m         y,\n\u001b[0;32m    392\u001b[0m         receiver_nodes\u001b[39m=\u001b[39;49mtrainable_nodes,\n\u001b[0;32m    393\u001b[0m         expected_dim\u001b[39m=\u001b[39;49moutput_dim,\n\u001b[0;32m    394\u001b[0m         caller\u001b[39m=\u001b[39;49mcaller,\n\u001b[0;32m    395\u001b[0m         io_type\u001b[39m=\u001b[39;49m\u001b[39m\"\u001b[39;49m\u001b[39mtarget\u001b[39;49m\u001b[39m\"\u001b[39;49m,\n\u001b[0;32m    396\u001b[0m         allow_n_sequences\u001b[39m=\u001b[39;49mallow_n_sequences,\n\u001b[0;32m    397\u001b[0m         allow_timespans\u001b[39m=\u001b[39;49mallow_timespans,\n\u001b[0;32m    398\u001b[0m         allow_n_inputs\u001b[39m=\u001b[39;49m\u001b[39mFalse\u001b[39;49;00m,\n\u001b[0;32m    399\u001b[0m     )\n\u001b[0;32m    401\u001b[0m \u001b[39mreturn\u001b[39;00m x_new, y_new\n",
      "File \u001b[1;32mc:\\Users\\dimar\\AppData\\Local\\Programs\\Python\\Python310\\lib\\site-packages\\reservoirpy\\_base.py:226\u001b[0m, in \u001b[0;36m_check_node_io\u001b[1;34m(x, receiver_nodes, expected_dim, caller, io_type, allow_n_sequences, allow_n_inputs, allow_timespans)\u001b[0m\n\u001b[0;32m    224\u001b[0m         \u001b[39mcontinue\u001b[39;00m\n\u001b[0;32m    225\u001b[0m     \u001b[39melse\u001b[39;00m:\n\u001b[1;32m--> 226\u001b[0m         \u001b[39mraise\u001b[39;00m \u001b[39mValueError\u001b[39;00m(\u001b[39mf\u001b[39m\u001b[39m\"\u001b[39m\u001b[39mMissing \u001b[39m\u001b[39m{\u001b[39;00mio_type\u001b[39m}\u001b[39;00m\u001b[39m data for node \u001b[39m\u001b[39m{\u001b[39;00mnode\u001b[39m.\u001b[39mname\u001b[39m}\u001b[39;00m\u001b[39m.\u001b[39m\u001b[39m\"\u001b[39m)\n\u001b[0;32m    228\u001b[0m \u001b[39mif\u001b[39;00m (\n\u001b[0;32m    229\u001b[0m     callable(x_new[node\u001b[39m.\u001b[39mname])\n\u001b[0;32m    230\u001b[0m     \u001b[39mand\u001b[39;00m \u001b[39mhasattr\u001b[39m(x_new[node\u001b[39m.\u001b[39mname], \u001b[39m\"\u001b[39m\u001b[39minitialize\u001b[39m\u001b[39m\"\u001b[39m)\n\u001b[0;32m    231\u001b[0m     \u001b[39mand\u001b[39;00m \u001b[39mhasattr\u001b[39m(x_new[node\u001b[39m.\u001b[39mname], \u001b[39m\"\u001b[39m\u001b[39mis_initialized\u001b[39m\u001b[39m\"\u001b[39m)\n\u001b[0;32m    232\u001b[0m     \u001b[39mand\u001b[39;00m \u001b[39mhasattr\u001b[39m(x_new[node\u001b[39m.\u001b[39mname], \u001b[39m\"\u001b[39m\u001b[39moutput_dim\u001b[39m\u001b[39m\"\u001b[39m)\n\u001b[0;32m    233\u001b[0m ):\n\u001b[0;32m    234\u001b[0m     \u001b[39mif\u001b[39;00m io_type \u001b[39m==\u001b[39m \u001b[39m\"\u001b[39m\u001b[39mtarget\u001b[39m\u001b[39m\"\u001b[39m:\n",
      "\u001b[1;31mValueError\u001b[0m: Missing target data for node Ridge-1."
     ]
    }
   ],
   "source": [
    "esn_model = reservoir >> ridge\n",
    "esn_model = esn_model.fit(X_train, y_train, warmup=10)\n",
    "predict = esn_model.run(X_test)\n",
    "print(classification_report(predict, y_test, target_names=target_names))"
   ]
  },
  {
   "cell_type": "code",
   "execution_count": null,
   "metadata": {},
   "outputs": [],
   "source": [
    "fig, ax = plt.subplots(figsize=(10,10))\n",
    "ax.set_title(f'ESN')\n",
    "ConfusionMatrixDisplay.from_estimator(esn_model, X_test, y_test, ax=ax)  \n",
    "plt.show"
   ]
  },
  {
   "cell_type": "code",
   "execution_count": null,
   "metadata": {},
   "outputs": [],
   "source": [
    "reservoir = Reservoir(1000, lr=0.5, sr=0.9)\n",
    "ridge = Ridge(ridge=1e-7)\n",
    "\n",
    "esn_model = reservoir >> ridge\n",
    "\n",
    "esn_model = esn_model.fit(X_train, y_train, warmup=10)\n",
    "predict = esn_model.run(X_test)\n",
    "print(classification_report(predict, y_test, target_names=target_names))"
   ]
  },
  {
   "cell_type": "code",
   "execution_count": null,
   "metadata": {},
   "outputs": [],
   "source": [
    "fig, ax = plt.subplots(figsize=(10,10))\n",
    "ax.set_title(f'ESN')\n",
    "ConfusionMatrixDisplay.from_estimator(esn_model, X_test, y_test, ax=ax)  \n",
    "plt.show"
   ]
  },
  {
   "cell_type": "code",
   "execution_count": null,
   "metadata": {},
   "outputs": [],
   "source": [
    "neurons = np.arange(100, 5000, 100)\n",
    "train = []\n",
    "test = []\n",
    "for i in neurons:\n",
    "        reservoir = Reservoir(i, lr=0.5, sr=0.9)\n",
    "        ridge = Ridge(ridge=1e-7)\n",
    "        esn_model = reservoir >> ridge\n",
    "        esn_model = esn_model.fit(X_train, y_train, warmup=10)\n",
    "        predict = esn_model.run(X_test)\n",
    "        train.append(clf.score(X_train, y_train))\n",
    "        test.append(clf.score(X_test, y_test))\n",
    "        print(f'{i} done')"
   ]
  },
  {
   "cell_type": "code",
   "execution_count": null,
   "metadata": {},
   "outputs": [],
   "source": [
    "plt.plot(neurons, train)\n",
    "plt.plot(neurons, test)"
   ]
  },
  {
   "cell_type": "code",
   "execution_count": null,
   "metadata": {},
   "outputs": [],
   "source": [
    "max_acc = max(test)\n",
    "max_neurons = test.index(max_acc)\n",
    "train = []\n",
    "test = []\n",
    "lr = np.arange(0, 1, 0.05)\n",
    "for i in lr:\n",
    "    reservoir = Reservoir(max_neurons, lr = i, sr=0.9)\n",
    "    ridge = Ridge(ridge=1e-7)\n",
    "    esn_model = reservoir >> ridge\n",
    "    esn_model = esn_model.fit(X_train, y_train, warmup=10)\n",
    "    predict = esn_model.run(X_test)\n",
    "    train.append(clf.score(X_train, y_train))\n",
    "    test.append(clf.score(X_test, y_test))\n",
    "    print(f'{i} done')"
   ]
  },
  {
   "cell_type": "code",
   "execution_count": null,
   "metadata": {},
   "outputs": [],
   "source": [
    "plt.plot(lr, train)\n",
    "plt.plot(lr, test)"
   ]
  },
  {
   "attachments": {},
   "cell_type": "markdown",
   "metadata": {},
   "source": [
    "Стандартизированные данные"
   ]
  },
  {
   "cell_type": "code",
   "execution_count": null,
   "metadata": {},
   "outputs": [],
   "source": [
    "X_train, X_test, y_train, y_test = train_test_split(X_Sscaler,y, test_size=0.3, random_state=17)"
   ]
  },
  {
   "cell_type": "code",
   "execution_count": null,
   "metadata": {},
   "outputs": [],
   "source": [
    "reservoir = Reservoir(100, lr=0.5, sr=0.9)\n",
    "ridge = Ridge(ridge=1e-7)\n",
    "\n",
    "esn_model = reservoir >> ridge\n",
    "\n",
    "esn_model = esn_model.fit(X_train, y_train, warmup=10)\n",
    "predict = esn_model.run(X_test)\n",
    "print(classification_report(predict, y_test, target_names=target_names))"
   ]
  },
  {
   "cell_type": "code",
   "execution_count": null,
   "metadata": {},
   "outputs": [],
   "source": [
    "fig, ax = plt.subplots(figsize=(10,10))\n",
    "ax.set_title(f'ESN')\n",
    "ConfusionMatrixDisplay.from_estimator(esn_model, X_test, y_test, ax=ax)  \n",
    "plt.show"
   ]
  },
  {
   "cell_type": "code",
   "execution_count": null,
   "metadata": {},
   "outputs": [],
   "source": [
    "reservoir = Reservoir(1000, lr=0.5, sr=0.9)\n",
    "ridge = Ridge(ridge=1e-7)\n",
    "\n",
    "esn_model = reservoir >> ridge\n",
    "\n",
    "esn_model = esn_model.fit(X_train, y_train, warmup=10)\n",
    "predict = esn_model.run(X_test)\n",
    "print(classification_report(predict, y_test, target_names=target_names))"
   ]
  },
  {
   "cell_type": "code",
   "execution_count": null,
   "metadata": {},
   "outputs": [],
   "source": [
    "fig, ax = plt.subplots(figsize=(10,10))\n",
    "ax.set_title(f'ESN')\n",
    "ConfusionMatrixDisplay.from_estimator(esn_model, X_test, y_test, ax=ax)  \n",
    "plt.show"
   ]
  },
  {
   "cell_type": "code",
   "execution_count": null,
   "metadata": {},
   "outputs": [],
   "source": [
    "neurons = np.arange(100, 5000, 100)\n",
    "train = []\n",
    "test = []\n",
    "for i in neurons:\n",
    "        reservoir = Reservoir(i, lr=0.5, sr=0.9)\n",
    "        ridge = Ridge(ridge=1e-7)\n",
    "        esn_model = reservoir >> ridge\n",
    "        esn_model = esn_model.fit(X_train, y_train, warmup=10)\n",
    "        predict = esn_model.run(X_test)\n",
    "        train.append(clf.score(X_train, y_train))\n",
    "        test.append(clf.score(X_test, y_test))\n",
    "        print(f'{i} done')"
   ]
  },
  {
   "cell_type": "code",
   "execution_count": null,
   "metadata": {},
   "outputs": [],
   "source": [
    "plt.plot(neurons, train)\n",
    "plt.plot(neurons, test)"
   ]
  },
  {
   "cell_type": "code",
   "execution_count": null,
   "metadata": {},
   "outputs": [],
   "source": [
    "max_acc = max(test)\n",
    "max_neurons = test.index(max_acc)\n",
    "lr = np.arange(0, 1, 0.05)\n",
    "train = []\n",
    "test = []\n",
    "for i in lr:\n",
    "    reservoir = Reservoir(max_neurons, lr = i, sr=0.9)\n",
    "    ridge = Ridge(ridge=1e-7)\n",
    "    esn_model = reservoir >> ridge\n",
    "    esn_model = esn_model.fit(X_train, y_train, warmup=10)\n",
    "    predict = esn_model.run(X_test)\n",
    "    train.append(clf.score(X_train, y_train))\n",
    "    test.append(clf.score(X_test, y_test))\n",
    "    print(f'{i} done')"
   ]
  },
  {
   "cell_type": "code",
   "execution_count": null,
   "metadata": {},
   "outputs": [],
   "source": [
    "plt.plot(lr, train)\n",
    "plt.plot(lr, test)"
   ]
  }
 ],
 "metadata": {
  "kernelspec": {
   "display_name": "Python 3",
   "language": "python",
   "name": "python3"
  },
  "language_info": {
   "codemirror_mode": {
    "name": "ipython",
    "version": 3
   },
   "file_extension": ".py",
   "mimetype": "text/x-python",
   "name": "python",
   "nbconvert_exporter": "python",
   "pygments_lexer": "ipython3",
   "version": "3.10.2"
  },
  "orig_nbformat": 4,
  "vscode": {
   "interpreter": {
    "hash": "5ba9f6733753d9760e38ecbd0388426087242d4be4a8178b6909cf8cd7694b72"
   }
  }
 },
 "nbformat": 4,
 "nbformat_minor": 2
}
